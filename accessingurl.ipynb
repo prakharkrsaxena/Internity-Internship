{
  "nbformat": 4,
  "nbformat_minor": 0,
  "metadata": {
    "colab": {
      "name": "accessingurl.ipynb",
      "provenance": [],
      "collapsed_sections": []
    },
    "kernelspec": {
      "name": "python3",
      "display_name": "Python 3"
    }
  },
  "cells": [
    {
      "cell_type": "code",
      "metadata": {
        "colab": {
          "base_uri": "https://localhost:8080/",
          "height": 419
        },
        "id": "9q-PKkI4IUcV",
        "outputId": "f83d2d96-2833-4961-8f1a-b6b0ad96c19c"
      },
      "source": [
        "\n",
        "import pandas as pd\n",
        "def url_func(url):\n",
        "    try:\n",
        "        df=pd.read_csv(url,header=None)\n",
        "        return df\n",
        "    except:\n",
        "        print('URL is not valid')\n",
        "url_func('https://github.com/usama6naseer/largest_object/blob/master/log.csv?raw=true')"
      ],
      "execution_count": null,
      "outputs": [
        {
          "output_type": "execute_result",
          "data": {
            "text/html": [
              "<div>\n",
              "<style scoped>\n",
              "    .dataframe tbody tr th:only-of-type {\n",
              "        vertical-align: middle;\n",
              "    }\n",
              "\n",
              "    .dataframe tbody tr th {\n",
              "        vertical-align: top;\n",
              "    }\n",
              "\n",
              "    .dataframe thead th {\n",
              "        text-align: right;\n",
              "    }\n",
              "</style>\n",
              "<table border=\"1\" class=\"dataframe\">\n",
              "  <thead>\n",
              "    <tr style=\"text-align: right;\">\n",
              "      <th></th>\n",
              "      <th>0</th>\n",
              "      <th>1</th>\n",
              "    </tr>\n",
              "  </thead>\n",
              "  <tbody>\n",
              "    <tr>\n",
              "      <th>0</th>\n",
              "      <td>9</td>\n",
              "      <td>qq.com</td>\n",
              "    </tr>\n",
              "    <tr>\n",
              "      <th>1</th>\n",
              "      <td>11</td>\n",
              "      <td>taobao.com</td>\n",
              "    </tr>\n",
              "    <tr>\n",
              "      <th>2</th>\n",
              "      <td>12</td>\n",
              "      <td>twitter.com</td>\n",
              "    </tr>\n",
              "    <tr>\n",
              "      <th>3</th>\n",
              "      <td>15</td>\n",
              "      <td>vk.com</td>\n",
              "    </tr>\n",
              "    <tr>\n",
              "      <th>4</th>\n",
              "      <td>16</td>\n",
              "      <td>live.com</td>\n",
              "    </tr>\n",
              "    <tr>\n",
              "      <th>...</th>\n",
              "      <td>...</td>\n",
              "      <td>...</td>\n",
              "    </tr>\n",
              "    <tr>\n",
              "      <th>15033</th>\n",
              "      <td>93939</td>\n",
              "      <td>moh.gov.sg</td>\n",
              "    </tr>\n",
              "    <tr>\n",
              "      <th>15034</th>\n",
              "      <td>93940</td>\n",
              "      <td>quericavida.com</td>\n",
              "    </tr>\n",
              "    <tr>\n",
              "      <th>15035</th>\n",
              "      <td>93941</td>\n",
              "      <td>jihadology.net</td>\n",
              "    </tr>\n",
              "    <tr>\n",
              "      <th>15036</th>\n",
              "      <td>93942</td>\n",
              "      <td>vlsu.ru</td>\n",
              "    </tr>\n",
              "    <tr>\n",
              "      <th>15037</th>\n",
              "      <td>93943</td>\n",
              "      <td>books24x7.com</td>\n",
              "    </tr>\n",
              "  </tbody>\n",
              "</table>\n",
              "<p>15038 rows × 2 columns</p>\n",
              "</div>"
            ],
            "text/plain": [
              "           0                1\n",
              "0          9           qq.com\n",
              "1         11       taobao.com\n",
              "2         12      twitter.com\n",
              "3         15           vk.com\n",
              "4         16         live.com\n",
              "...      ...              ...\n",
              "15033  93939       moh.gov.sg\n",
              "15034  93940  quericavida.com\n",
              "15035  93941   jihadology.net\n",
              "15036  93942          vlsu.ru\n",
              "15037  93943    books24x7.com\n",
              "\n",
              "[15038 rows x 2 columns]"
            ]
          },
          "metadata": {
            "tags": []
          },
          "execution_count": 1
        }
      ]
    },
    {
      "cell_type": "code",
      "metadata": {
        "id": "RLtgZ-kiNEE1"
      },
      "source": [
        ""
      ],
      "execution_count": null,
      "outputs": []
    }
  ]
}