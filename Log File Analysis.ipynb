{
 "cells": [
  {
   "cell_type": "markdown",
   "metadata": {},
   "source": [
    "# Analysis of Log File"
   ]
  },
  {
   "cell_type": "markdown",
   "metadata": {},
   "source": [
    "# 1.Importing packages and connecting to URL"
   ]
  },
  {
   "cell_type": "code",
   "execution_count": 43,
   "metadata": {},
   "outputs": [],
   "source": [
    "import pandas as pd\n",
    "import plotly.express as px\n",
    "from util1 import *\n",
    "import plotly.express as px\n",
    "import plotly.graph_objects as go\n",
    "from plotly.offline import  iplot"
   ]
  },
  {
   "cell_type": "code",
   "execution_count": 70,
   "metadata": {},
   "outputs": [],
   "source": [
    "urlfirst = \"https://github.com/ayedaemon/RuckSack-Python/blob/master/log_analysis/access_log2\"\n",
    "urlsecond = \"https://github.com/robert456456456456/Web_server_log_parser/blob/master/devops.log\"\n",
    "url = \"https://github.com/ayedaemon/RuckSack-Python/blob/master/log_analysis/access_log\"\n",
    "urls = [url,urlfirst,urlsecond]"
   ]
  },
  {
   "cell_type": "code",
   "execution_count": 71,
   "metadata": {},
   "outputs": [
    {
     "data": {
      "text/html": [
       "<div>\n",
       "<style scoped>\n",
       "    .dataframe tbody tr th:only-of-type {\n",
       "        vertical-align: middle;\n",
       "    }\n",
       "\n",
       "    .dataframe tbody tr th {\n",
       "        vertical-align: top;\n",
       "    }\n",
       "\n",
       "    .dataframe thead th {\n",
       "        text-align: right;\n",
       "    }\n",
       "</style>\n",
       "<table border=\"1\" class=\"dataframe\">\n",
       "  <thead>\n",
       "    <tr style=\"text-align: right;\">\n",
       "      <th></th>\n",
       "      <th>1</th>\n",
       "    </tr>\n",
       "  </thead>\n",
       "  <tbody>\n",
       "    <tr>\n",
       "      <th>0</th>\n",
       "      <td>127.0.0.1 - - [15/Jan/2021:08:54:07 +0000] \"GE...</td>\n",
       "    </tr>\n",
       "    <tr>\n",
       "      <th>1</th>\n",
       "      <td>127.0.0.1 - - [15/Jan/2021:08:55:23 +0000] \"GE...</td>\n",
       "    </tr>\n",
       "    <tr>\n",
       "      <th>2</th>\n",
       "      <td>127.0.0.1 - - [15/Jan/2021:09:01:38 +0000] \"GE...</td>\n",
       "    </tr>\n",
       "    <tr>\n",
       "      <th>3</th>\n",
       "      <td>172.17.0.1 - - [15/Jan/2021:09:02:14 +0000] \"G...</td>\n",
       "    </tr>\n",
       "    <tr>\n",
       "      <th>4</th>\n",
       "      <td>172.17.0.1 - - [15/Jan/2021:09:02:15 +0000] \"G...</td>\n",
       "    </tr>\n",
       "  </tbody>\n",
       "</table>\n",
       "</div>"
      ],
      "text/plain": [
       "                                                   1\n",
       "0  127.0.0.1 - - [15/Jan/2021:08:54:07 +0000] \"GE...\n",
       "1  127.0.0.1 - - [15/Jan/2021:08:55:23 +0000] \"GE...\n",
       "2  127.0.0.1 - - [15/Jan/2021:09:01:38 +0000] \"GE...\n",
       "3  172.17.0.1 - - [15/Jan/2021:09:02:14 +0000] \"G...\n",
       "4  172.17.0.1 - - [15/Jan/2021:09:02:15 +0000] \"G..."
      ]
     },
     "execution_count": 71,
     "metadata": {},
     "output_type": "execute_result"
    }
   ],
   "source": [
    "df = html_to_df(urls,clean_empty=True)\n",
    "df.head()"
   ]
  },
  {
   "cell_type": "code",
   "execution_count": 72,
   "metadata": {},
   "outputs": [],
   "source": [
    "columns = [\"address\",\"RFC931\",\"User\",\"date\",\"gmt\",\"action\",\"status\",\"size\",\"referrer\",\"browser\"]\n",
    "df = log_df(df,1,columns)"
   ]
  },
  {
   "cell_type": "code",
   "execution_count": 73,
   "metadata": {
    "scrolled": true
   },
   "outputs": [
    {
     "data": {
      "text/html": [
       "<div>\n",
       "<style scoped>\n",
       "    .dataframe tbody tr th:only-of-type {\n",
       "        vertical-align: middle;\n",
       "    }\n",
       "\n",
       "    .dataframe tbody tr th {\n",
       "        vertical-align: top;\n",
       "    }\n",
       "\n",
       "    .dataframe thead th {\n",
       "        text-align: right;\n",
       "    }\n",
       "</style>\n",
       "<table border=\"1\" class=\"dataframe\">\n",
       "  <thead>\n",
       "    <tr style=\"text-align: right;\">\n",
       "      <th></th>\n",
       "      <th>address</th>\n",
       "      <th>RFC931</th>\n",
       "      <th>User</th>\n",
       "      <th>date</th>\n",
       "      <th>gmt</th>\n",
       "      <th>action</th>\n",
       "      <th>status</th>\n",
       "      <th>size</th>\n",
       "      <th>referrer</th>\n",
       "      <th>browser</th>\n",
       "    </tr>\n",
       "  </thead>\n",
       "  <tbody>\n",
       "    <tr>\n",
       "      <th>0</th>\n",
       "      <td>127.0.0.1</td>\n",
       "      <td>-</td>\n",
       "      <td>-</td>\n",
       "      <td>15/Jan/2021:08:54:07</td>\n",
       "      <td>+0000</td>\n",
       "      <td>GET /</td>\n",
       "      <td>403</td>\n",
       "      <td>4006</td>\n",
       "      <td>-</td>\n",
       "      <td>curl/7.61.1</td>\n",
       "    </tr>\n",
       "    <tr>\n",
       "      <th>1</th>\n",
       "      <td>127.0.0.1</td>\n",
       "      <td>-</td>\n",
       "      <td>-</td>\n",
       "      <td>15/Jan/2021:08:55:23</td>\n",
       "      <td>+0000</td>\n",
       "      <td>GET /cgi-bin/weakform.py</td>\n",
       "      <td>403</td>\n",
       "      <td>199</td>\n",
       "      <td>-</td>\n",
       "      <td>curl/7.61.1</td>\n",
       "    </tr>\n",
       "    <tr>\n",
       "      <th>2</th>\n",
       "      <td>127.0.0.1</td>\n",
       "      <td>-</td>\n",
       "      <td>-</td>\n",
       "      <td>15/Jan/2021:09:01:38</td>\n",
       "      <td>+0000</td>\n",
       "      <td>GET /cgi-bin/weak_form.py</td>\n",
       "      <td>200</td>\n",
       "      <td>19</td>\n",
       "      <td>-</td>\n",
       "      <td>curl/7.61.1</td>\n",
       "    </tr>\n",
       "    <tr>\n",
       "      <th>3</th>\n",
       "      <td>172.17.0.1</td>\n",
       "      <td>-</td>\n",
       "      <td>-</td>\n",
       "      <td>15/Jan/2021:09:02:14</td>\n",
       "      <td>+0000</td>\n",
       "      <td>GET /</td>\n",
       "      <td>403</td>\n",
       "      <td>4288</td>\n",
       "      <td>-</td>\n",
       "      <td>Mozilla/5.0 (X11; Linux x86_64; rv:84.0) Gecko...</td>\n",
       "    </tr>\n",
       "    <tr>\n",
       "      <th>4</th>\n",
       "      <td>172.17.0.1</td>\n",
       "      <td>-</td>\n",
       "      <td>-</td>\n",
       "      <td>15/Jan/2021:09:02:15</td>\n",
       "      <td>+0000</td>\n",
       "      <td>GET /noindex/common/css/bootstrap.min.css</td>\n",
       "      <td>200</td>\n",
       "      <td>99548</td>\n",
       "      <td>http://172.17.0.2/</td>\n",
       "      <td>Mozilla/5.0 (X11; Linux x86_64; rv:84.0) Gecko...</td>\n",
       "    </tr>\n",
       "  </tbody>\n",
       "</table>\n",
       "</div>"
      ],
      "text/plain": [
       "      address RFC931 User                  date    gmt  \\\n",
       "0   127.0.0.1      -    -  15/Jan/2021:08:54:07  +0000   \n",
       "1   127.0.0.1      -    -  15/Jan/2021:08:55:23  +0000   \n",
       "2   127.0.0.1      -    -  15/Jan/2021:09:01:38  +0000   \n",
       "3  172.17.0.1      -    -  15/Jan/2021:09:02:14  +0000   \n",
       "4  172.17.0.1      -    -  15/Jan/2021:09:02:15  +0000   \n",
       "\n",
       "                                      action status   size  \\\n",
       "0                                      GET /    403   4006   \n",
       "1                   GET /cgi-bin/weakform.py    403    199   \n",
       "2                  GET /cgi-bin/weak_form.py    200     19   \n",
       "3                                      GET /    403   4288   \n",
       "4  GET /noindex/common/css/bootstrap.min.css    200  99548   \n",
       "\n",
       "             referrer                                            browser  \n",
       "0                   -                                        curl/7.61.1  \n",
       "1                   -                                        curl/7.61.1  \n",
       "2                   -                                        curl/7.61.1  \n",
       "3                   -  Mozilla/5.0 (X11; Linux x86_64; rv:84.0) Gecko...  \n",
       "4  http://172.17.0.2/  Mozilla/5.0 (X11; Linux x86_64; rv:84.0) Gecko...  "
      ]
     },
     "execution_count": 73,
     "metadata": {},
     "output_type": "execute_result"
    }
   ],
   "source": [
    "df.head()"
   ]
  },
  {
   "cell_type": "markdown",
   "metadata": {},
   "source": [
    "## 2.Checking XSS Attack"
   ]
  },
  {
   "cell_type": "code",
   "execution_count": 96,
   "metadata": {},
   "outputs": [],
   "source": [
    "df['XSS_attack'] = df['action'].apply(XSS_finder)"
   ]
  },
  {
   "cell_type": "code",
   "execution_count": 97,
   "metadata": {},
   "outputs": [
    {
     "data": {
      "text/html": [
       "<div>\n",
       "<style scoped>\n",
       "    .dataframe tbody tr th:only-of-type {\n",
       "        vertical-align: middle;\n",
       "    }\n",
       "\n",
       "    .dataframe tbody tr th {\n",
       "        vertical-align: top;\n",
       "    }\n",
       "\n",
       "    .dataframe thead th {\n",
       "        text-align: right;\n",
       "    }\n",
       "</style>\n",
       "<table border=\"1\" class=\"dataframe\">\n",
       "  <thead>\n",
       "    <tr style=\"text-align: right;\">\n",
       "      <th></th>\n",
       "      <th>address</th>\n",
       "      <th>RFC931</th>\n",
       "      <th>User</th>\n",
       "      <th>date</th>\n",
       "      <th>gmt</th>\n",
       "      <th>action</th>\n",
       "      <th>status</th>\n",
       "      <th>size</th>\n",
       "      <th>referrer</th>\n",
       "      <th>browser</th>\n",
       "      <th>XSS_attack</th>\n",
       "      <th>country_code</th>\n",
       "      <th>latitude</th>\n",
       "      <th>longitude</th>\n",
       "      <th>alpha_3</th>\n",
       "    </tr>\n",
       "  </thead>\n",
       "  <tbody>\n",
       "    <tr>\n",
       "      <th>754</th>\n",
       "      <td>172.17.0.1</td>\n",
       "      <td>-</td>\n",
       "      <td>-</td>\n",
       "      <td>15/Jan/2021:10:05:35</td>\n",
       "      <td>+0000</td>\n",
       "      <td>GET /cgi-bin/weak_form.py?fname=asdasd%3C%2Fp%...</td>\n",
       "      <td>200</td>\n",
       "      <td>355</td>\n",
       "      <td>http://172.17.0.2/cgi-bin/weak_form.py?fname=s...</td>\n",
       "      <td>Mozilla/5.0 (X11; Linux x86_64; rv:84.0) Gecko...</td>\n",
       "      <td>True</td>\n",
       "      <td>Not found</td>\n",
       "      <td>Not found</td>\n",
       "      <td>Not found</td>\n",
       "      <td>Not found</td>\n",
       "    </tr>\n",
       "    <tr>\n",
       "      <th>757</th>\n",
       "      <td>172.17.0.1</td>\n",
       "      <td>-</td>\n",
       "      <td>-</td>\n",
       "      <td>16/Jan/2021:05:29:02</td>\n",
       "      <td>+0000</td>\n",
       "      <td>GET /cgi-bin/weak_form.py?fname=abcd&amp;lname=111...</td>\n",
       "      <td>200</td>\n",
       "      <td>328</td>\n",
       "      <td>-</td>\n",
       "      <td>curl/7.74.0</td>\n",
       "      <td>True</td>\n",
       "      <td>Not found</td>\n",
       "      <td>Not found</td>\n",
       "      <td>Not found</td>\n",
       "      <td>Not found</td>\n",
       "    </tr>\n",
       "    <tr>\n",
       "      <th>758</th>\n",
       "      <td>172.17.0.1</td>\n",
       "      <td>-</td>\n",
       "      <td>-</td>\n",
       "      <td>16/Jan/2021:05:30:04</td>\n",
       "      <td>+0000</td>\n",
       "      <td>GET /cgi-bin/weak_form.py?fname=abcd&amp;lname=111...</td>\n",
       "      <td>200</td>\n",
       "      <td>340</td>\n",
       "      <td>-</td>\n",
       "      <td>curl/7.74.0</td>\n",
       "      <td>True</td>\n",
       "      <td>Not found</td>\n",
       "      <td>Not found</td>\n",
       "      <td>Not found</td>\n",
       "      <td>Not found</td>\n",
       "    </tr>\n",
       "    <tr>\n",
       "      <th>759</th>\n",
       "      <td>172.17.0.1</td>\n",
       "      <td>-</td>\n",
       "      <td>-</td>\n",
       "      <td>16/Jan/2021:05:30:42</td>\n",
       "      <td>+0000</td>\n",
       "      <td>GET /cgi-bin/weak_form.py?fname=abcd&amp;lname=111...</td>\n",
       "      <td>200</td>\n",
       "      <td>340</td>\n",
       "      <td>-</td>\n",
       "      <td>curl/7.74.0</td>\n",
       "      <td>True</td>\n",
       "      <td>Not found</td>\n",
       "      <td>Not found</td>\n",
       "      <td>Not found</td>\n",
       "      <td>Not found</td>\n",
       "    </tr>\n",
       "    <tr>\n",
       "      <th>760</th>\n",
       "      <td>172.17.0.1</td>\n",
       "      <td>-</td>\n",
       "      <td>-</td>\n",
       "      <td>16/Jan/2021:05:30:57</td>\n",
       "      <td>+0000</td>\n",
       "      <td>GET /cgi-bin/weak_form.py?fname=abcd&amp;lname=111...</td>\n",
       "      <td>200</td>\n",
       "      <td>341</td>\n",
       "      <td>-</td>\n",
       "      <td>curl/7.74.0</td>\n",
       "      <td>True</td>\n",
       "      <td>Not found</td>\n",
       "      <td>Not found</td>\n",
       "      <td>Not found</td>\n",
       "      <td>Not found</td>\n",
       "    </tr>\n",
       "    <tr>\n",
       "      <th>761</th>\n",
       "      <td>172.17.0.1</td>\n",
       "      <td>-</td>\n",
       "      <td>-</td>\n",
       "      <td>16/Jan/2021:05:31:04</td>\n",
       "      <td>+0000</td>\n",
       "      <td>GET /cgi-bin/weak_form.py?fname=abcd&amp;lname=111...</td>\n",
       "      <td>200</td>\n",
       "      <td>357</td>\n",
       "      <td>-</td>\n",
       "      <td>curl/7.74.0</td>\n",
       "      <td>True</td>\n",
       "      <td>Not found</td>\n",
       "      <td>Not found</td>\n",
       "      <td>Not found</td>\n",
       "      <td>Not found</td>\n",
       "    </tr>\n",
       "    <tr>\n",
       "      <th>762</th>\n",
       "      <td>172.17.0.1</td>\n",
       "      <td>-</td>\n",
       "      <td>-</td>\n",
       "      <td>16/Jan/2021:05:31:24</td>\n",
       "      <td>+0000</td>\n",
       "      <td>GET /cgi-bin/weak_form.py?fname=abcd&amp;lname=111...</td>\n",
       "      <td>200</td>\n",
       "      <td>357</td>\n",
       "      <td>-</td>\n",
       "      <td>curl/7.74.0</td>\n",
       "      <td>True</td>\n",
       "      <td>Not found</td>\n",
       "      <td>Not found</td>\n",
       "      <td>Not found</td>\n",
       "      <td>Not found</td>\n",
       "    </tr>\n",
       "    <tr>\n",
       "      <th>763</th>\n",
       "      <td>172.17.0.1</td>\n",
       "      <td>-</td>\n",
       "      <td>-</td>\n",
       "      <td>16/Jan/2021:05:31:28</td>\n",
       "      <td>+0000</td>\n",
       "      <td>GET /cgi-bin/weak_form.py?fname=abcd&amp;lname=111...</td>\n",
       "      <td>200</td>\n",
       "      <td>340</td>\n",
       "      <td>-</td>\n",
       "      <td>curl/7.74.0</td>\n",
       "      <td>True</td>\n",
       "      <td>Not found</td>\n",
       "      <td>Not found</td>\n",
       "      <td>Not found</td>\n",
       "      <td>Not found</td>\n",
       "    </tr>\n",
       "    <tr>\n",
       "      <th>764</th>\n",
       "      <td>172.17.0.1</td>\n",
       "      <td>-</td>\n",
       "      <td>-</td>\n",
       "      <td>16/Jan/2021:05:31:34</td>\n",
       "      <td>+0000</td>\n",
       "      <td>GET /cgi-bin/weak_form.py?fname=abcd&amp;lname=111...</td>\n",
       "      <td>200</td>\n",
       "      <td>357</td>\n",
       "      <td>-</td>\n",
       "      <td>curl/7.74.0</td>\n",
       "      <td>True</td>\n",
       "      <td>Not found</td>\n",
       "      <td>Not found</td>\n",
       "      <td>Not found</td>\n",
       "      <td>Not found</td>\n",
       "    </tr>\n",
       "    <tr>\n",
       "      <th>765</th>\n",
       "      <td>172.17.0.1</td>\n",
       "      <td>-</td>\n",
       "      <td>-</td>\n",
       "      <td>16/Jan/2021:05:32:02</td>\n",
       "      <td>+0000</td>\n",
       "      <td>GET /cgi-bin/weak_form.py?fname=abcd&amp;lname=111...</td>\n",
       "      <td>200</td>\n",
       "      <td>357</td>\n",
       "      <td>-</td>\n",
       "      <td>curl/7.74.0</td>\n",
       "      <td>True</td>\n",
       "      <td>Not found</td>\n",
       "      <td>Not found</td>\n",
       "      <td>Not found</td>\n",
       "      <td>Not found</td>\n",
       "    </tr>\n",
       "  </tbody>\n",
       "</table>\n",
       "</div>"
      ],
      "text/plain": [
       "        address RFC931 User                  date    gmt  \\\n",
       "754  172.17.0.1      -    -  15/Jan/2021:10:05:35  +0000   \n",
       "757  172.17.0.1      -    -  16/Jan/2021:05:29:02  +0000   \n",
       "758  172.17.0.1      -    -  16/Jan/2021:05:30:04  +0000   \n",
       "759  172.17.0.1      -    -  16/Jan/2021:05:30:42  +0000   \n",
       "760  172.17.0.1      -    -  16/Jan/2021:05:30:57  +0000   \n",
       "761  172.17.0.1      -    -  16/Jan/2021:05:31:04  +0000   \n",
       "762  172.17.0.1      -    -  16/Jan/2021:05:31:24  +0000   \n",
       "763  172.17.0.1      -    -  16/Jan/2021:05:31:28  +0000   \n",
       "764  172.17.0.1      -    -  16/Jan/2021:05:31:34  +0000   \n",
       "765  172.17.0.1      -    -  16/Jan/2021:05:32:02  +0000   \n",
       "\n",
       "                                                action status size  \\\n",
       "754  GET /cgi-bin/weak_form.py?fname=asdasd%3C%2Fp%...    200  355   \n",
       "757  GET /cgi-bin/weak_form.py?fname=abcd&lname=111...    200  328   \n",
       "758  GET /cgi-bin/weak_form.py?fname=abcd&lname=111...    200  340   \n",
       "759  GET /cgi-bin/weak_form.py?fname=abcd&lname=111...    200  340   \n",
       "760  GET /cgi-bin/weak_form.py?fname=abcd&lname=111...    200  341   \n",
       "761  GET /cgi-bin/weak_form.py?fname=abcd&lname=111...    200  357   \n",
       "762  GET /cgi-bin/weak_form.py?fname=abcd&lname=111...    200  357   \n",
       "763  GET /cgi-bin/weak_form.py?fname=abcd&lname=111...    200  340   \n",
       "764  GET /cgi-bin/weak_form.py?fname=abcd&lname=111...    200  357   \n",
       "765  GET /cgi-bin/weak_form.py?fname=abcd&lname=111...    200  357   \n",
       "\n",
       "                                              referrer  \\\n",
       "754  http://172.17.0.2/cgi-bin/weak_form.py?fname=s...   \n",
       "757                                                  -   \n",
       "758                                                  -   \n",
       "759                                                  -   \n",
       "760                                                  -   \n",
       "761                                                  -   \n",
       "762                                                  -   \n",
       "763                                                  -   \n",
       "764                                                  -   \n",
       "765                                                  -   \n",
       "\n",
       "                                               browser  XSS_attack  \\\n",
       "754  Mozilla/5.0 (X11; Linux x86_64; rv:84.0) Gecko...        True   \n",
       "757                                        curl/7.74.0        True   \n",
       "758                                        curl/7.74.0        True   \n",
       "759                                        curl/7.74.0        True   \n",
       "760                                        curl/7.74.0        True   \n",
       "761                                        curl/7.74.0        True   \n",
       "762                                        curl/7.74.0        True   \n",
       "763                                        curl/7.74.0        True   \n",
       "764                                        curl/7.74.0        True   \n",
       "765                                        curl/7.74.0        True   \n",
       "\n",
       "    country_code   latitude  longitude    alpha_3  \n",
       "754    Not found  Not found  Not found  Not found  \n",
       "757    Not found  Not found  Not found  Not found  \n",
       "758    Not found  Not found  Not found  Not found  \n",
       "759    Not found  Not found  Not found  Not found  \n",
       "760    Not found  Not found  Not found  Not found  \n",
       "761    Not found  Not found  Not found  Not found  \n",
       "762    Not found  Not found  Not found  Not found  \n",
       "763    Not found  Not found  Not found  Not found  \n",
       "764    Not found  Not found  Not found  Not found  \n",
       "765    Not found  Not found  Not found  Not found  "
      ]
     },
     "execution_count": 97,
     "metadata": {},
     "output_type": "execute_result"
    }
   ],
   "source": [
    "df[df.XSS_attack == True].head(10)"
   ]
  },
  {
   "cell_type": "markdown",
   "metadata": {},
   "source": [
    "## 3.Getting Location data from User Address"
   ]
  },
  {
   "cell_type": "code",
   "execution_count": 98,
   "metadata": {},
   "outputs": [
    {
     "data": {
      "application/vnd.jupyter.widget-view+json": {
       "model_id": "39b0901040b041d6964a122b85414dd0",
       "version_major": 2,
       "version_minor": 0
      },
      "text/plain": [
       "HBox(children=(FloatProgress(value=0.0, max=174.0), HTML(value='')))"
      ]
     },
     "metadata": {},
     "output_type": "display_data"
    },
    {
     "name": "stdout",
     "output_type": "stream",
     "text": [
      "\n"
     ]
    },
    {
     "data": {
      "text/html": [
       "<div>\n",
       "<style scoped>\n",
       "    .dataframe tbody tr th:only-of-type {\n",
       "        vertical-align: middle;\n",
       "    }\n",
       "\n",
       "    .dataframe tbody tr th {\n",
       "        vertical-align: top;\n",
       "    }\n",
       "\n",
       "    .dataframe thead th {\n",
       "        text-align: right;\n",
       "    }\n",
       "</style>\n",
       "<table border=\"1\" class=\"dataframe\">\n",
       "  <thead>\n",
       "    <tr style=\"text-align: right;\">\n",
       "      <th></th>\n",
       "      <th>address</th>\n",
       "      <th>RFC931</th>\n",
       "      <th>User</th>\n",
       "      <th>date</th>\n",
       "      <th>gmt</th>\n",
       "      <th>action</th>\n",
       "      <th>status</th>\n",
       "      <th>size</th>\n",
       "      <th>referrer</th>\n",
       "      <th>browser</th>\n",
       "      <th>XSS_attack</th>\n",
       "      <th>country_code</th>\n",
       "      <th>latitude</th>\n",
       "      <th>longitude</th>\n",
       "      <th>alpha_3</th>\n",
       "    </tr>\n",
       "  </thead>\n",
       "  <tbody>\n",
       "    <tr>\n",
       "      <th>0</th>\n",
       "      <td>127.0.0.1</td>\n",
       "      <td>-</td>\n",
       "      <td>-</td>\n",
       "      <td>15/Jan/2021:08:54:07</td>\n",
       "      <td>+0000</td>\n",
       "      <td>GET /</td>\n",
       "      <td>403</td>\n",
       "      <td>4006</td>\n",
       "      <td>-</td>\n",
       "      <td>curl/7.61.1</td>\n",
       "      <td>False</td>\n",
       "      <td>Not found</td>\n",
       "      <td>Not found</td>\n",
       "      <td>Not found</td>\n",
       "      <td>Not found</td>\n",
       "    </tr>\n",
       "    <tr>\n",
       "      <th>1</th>\n",
       "      <td>127.0.0.1</td>\n",
       "      <td>-</td>\n",
       "      <td>-</td>\n",
       "      <td>15/Jan/2021:08:55:23</td>\n",
       "      <td>+0000</td>\n",
       "      <td>GET /cgi-bin/weakform.py</td>\n",
       "      <td>403</td>\n",
       "      <td>199</td>\n",
       "      <td>-</td>\n",
       "      <td>curl/7.61.1</td>\n",
       "      <td>False</td>\n",
       "      <td>Not found</td>\n",
       "      <td>Not found</td>\n",
       "      <td>Not found</td>\n",
       "      <td>Not found</td>\n",
       "    </tr>\n",
       "    <tr>\n",
       "      <th>2</th>\n",
       "      <td>127.0.0.1</td>\n",
       "      <td>-</td>\n",
       "      <td>-</td>\n",
       "      <td>15/Jan/2021:09:01:38</td>\n",
       "      <td>+0000</td>\n",
       "      <td>GET /cgi-bin/weak_form.py</td>\n",
       "      <td>200</td>\n",
       "      <td>19</td>\n",
       "      <td>-</td>\n",
       "      <td>curl/7.61.1</td>\n",
       "      <td>False</td>\n",
       "      <td>Not found</td>\n",
       "      <td>Not found</td>\n",
       "      <td>Not found</td>\n",
       "      <td>Not found</td>\n",
       "    </tr>\n",
       "    <tr>\n",
       "      <th>3</th>\n",
       "      <td>172.17.0.1</td>\n",
       "      <td>-</td>\n",
       "      <td>-</td>\n",
       "      <td>15/Jan/2021:09:02:14</td>\n",
       "      <td>+0000</td>\n",
       "      <td>GET /</td>\n",
       "      <td>403</td>\n",
       "      <td>4288</td>\n",
       "      <td>-</td>\n",
       "      <td>Mozilla/5.0 (X11; Linux x86_64; rv:84.0) Gecko...</td>\n",
       "      <td>False</td>\n",
       "      <td>Not found</td>\n",
       "      <td>Not found</td>\n",
       "      <td>Not found</td>\n",
       "      <td>Not found</td>\n",
       "    </tr>\n",
       "    <tr>\n",
       "      <th>4</th>\n",
       "      <td>172.17.0.1</td>\n",
       "      <td>-</td>\n",
       "      <td>-</td>\n",
       "      <td>15/Jan/2021:09:02:15</td>\n",
       "      <td>+0000</td>\n",
       "      <td>GET /noindex/common/css/bootstrap.min.css</td>\n",
       "      <td>200</td>\n",
       "      <td>99548</td>\n",
       "      <td>http://172.17.0.2/</td>\n",
       "      <td>Mozilla/5.0 (X11; Linux x86_64; rv:84.0) Gecko...</td>\n",
       "      <td>False</td>\n",
       "      <td>Not found</td>\n",
       "      <td>Not found</td>\n",
       "      <td>Not found</td>\n",
       "      <td>Not found</td>\n",
       "    </tr>\n",
       "  </tbody>\n",
       "</table>\n",
       "</div>"
      ],
      "text/plain": [
       "      address RFC931 User                  date    gmt  \\\n",
       "0   127.0.0.1      -    -  15/Jan/2021:08:54:07  +0000   \n",
       "1   127.0.0.1      -    -  15/Jan/2021:08:55:23  +0000   \n",
       "2   127.0.0.1      -    -  15/Jan/2021:09:01:38  +0000   \n",
       "3  172.17.0.1      -    -  15/Jan/2021:09:02:14  +0000   \n",
       "4  172.17.0.1      -    -  15/Jan/2021:09:02:15  +0000   \n",
       "\n",
       "                                      action status   size  \\\n",
       "0                                      GET /    403   4006   \n",
       "1                   GET /cgi-bin/weakform.py    403    199   \n",
       "2                  GET /cgi-bin/weak_form.py    200     19   \n",
       "3                                      GET /    403   4288   \n",
       "4  GET /noindex/common/css/bootstrap.min.css    200  99548   \n",
       "\n",
       "             referrer                                            browser  \\\n",
       "0                   -                                        curl/7.61.1   \n",
       "1                   -                                        curl/7.61.1   \n",
       "2                   -                                        curl/7.61.1   \n",
       "3                   -  Mozilla/5.0 (X11; Linux x86_64; rv:84.0) Gecko...   \n",
       "4  http://172.17.0.2/  Mozilla/5.0 (X11; Linux x86_64; rv:84.0) Gecko...   \n",
       "\n",
       "   XSS_attack country_code   latitude  longitude    alpha_3  \n",
       "0       False    Not found  Not found  Not found  Not found  \n",
       "1       False    Not found  Not found  Not found  Not found  \n",
       "2       False    Not found  Not found  Not found  Not found  \n",
       "3       False    Not found  Not found  Not found  Not found  \n",
       "4       False    Not found  Not found  Not found  Not found  "
      ]
     },
     "execution_count": 98,
     "metadata": {},
     "output_type": "execute_result"
    }
   ],
   "source": [
    "keys = ['country_code', 'latitude', 'longitude', 'alpha_3']\n",
    "df = add_location_data(df,'address',keys)\n",
    "df.head()"
   ]
  },
  {
   "cell_type": "markdown",
   "metadata": {},
   "source": [
    "# 4.Hits v/s Time graph"
   ]
  },
  {
   "cell_type": "code",
   "execution_count": 99,
   "metadata": {},
   "outputs": [],
   "source": [
    "def plot(dt_series,title,xlabel,ylabel):\n",
    "    fig = px.line( x=dt_series.unique(), y=dt_series.value_counts(sort = False))\n",
    "    fig.update_layout(\n",
    "        title=title,\n",
    "         xaxis_title=xlabel,\n",
    "        yaxis_title=ylabel)\n",
    "\n",
    "    fig.show()"
   ]
  },
  {
   "cell_type": "code",
   "execution_count": 100,
   "metadata": {},
   "outputs": [
    {
     "data": {
      "application/vnd.plotly.v1+json": {
       "config": {
        "plotlyServerURL": "https://plot.ly"
       },
       "data": [
        {
         "hovertemplate": "x=%{x}<br>y=%{y}<extra></extra>",
         "legendgroup": "",
         "line": {
          "color": "#636efa",
          "dash": "solid"
         },
         "mode": "lines",
         "name": "",
         "showlegend": false,
         "type": "scattergl",
         "x": [
          "2004-03-07T16:05:49",
          "2004-03-07T16:06:51",
          "2004-03-07T16:10:02",
          "2004-03-07T16:11:58",
          "2004-03-07T16:20:55",
          "2004-03-07T16:23:12",
          "2004-03-07T16:24:16",
          "2004-03-07T16:29:16",
          "2004-03-07T16:30:29",
          "2004-03-07T16:31:48",
          "2004-03-07T16:32:50",
          "2004-03-07T16:33:53",
          "2004-03-07T16:35:19",
          "2004-03-07T16:36:22",
          "2004-03-07T16:37:27",
          "2004-03-07T16:39:24",
          "2004-03-07T16:43:54",
          "2004-03-07T16:45:56",
          "2004-03-07T16:47:12",
          "2004-03-07T16:47:46",
          "2004-03-07T16:49:04",
          "2004-03-07T16:50:54",
          "2004-03-07T16:52:35",
          "2004-03-07T16:53:46",
          "2004-03-07T16:54:55",
          "2004-03-07T16:56:39",
          "2004-03-07T16:58:54",
          "2004-03-07T17:01:53",
          "2004-03-07T17:09:01",
          "2004-03-07T17:10:20",
          "2004-03-07T17:13:50",
          "2004-03-07T17:16:00",
          "2004-03-07T17:17:27",
          "2004-03-07T17:18:36",
          "2004-03-07T17:18:41",
          "2004-03-07T17:21:44",
          "2004-03-07T17:22:49",
          "2004-03-07T17:23:54",
          "2004-03-07T17:26:30",
          "2004-03-07T17:27:37",
          "2004-03-07T17:28:45",
          "2004-03-07T17:29:59",
          "2004-03-07T17:31:39",
          "2004-03-07T17:35:35",
          "2004-03-07T17:39:39",
          "2004-03-07T17:42:15",
          "2004-03-07T17:46:17",
          "2004-03-07T17:47:43",
          "2004-03-07T17:50:44",
          "2004-03-07T17:53:45",
          "2004-03-07T17:56:54",
          "2004-03-07T17:58:00",
          "2004-03-07T18:00:09",
          "2004-03-07T18:02:10",
          "2004-03-07T18:04:05",
          "2004-03-07T18:06:14",
          "2004-03-07T18:09:00",
          "2004-03-07T18:10:09",
          "2004-03-07T18:10:18",
          "2004-03-07T18:10:20",
          "2004-03-07T18:17:26",
          "2004-03-07T18:19:01",
          "2004-03-07T18:19:16",
          "2004-03-07T18:22:52",
          "2004-03-07T18:26:32",
          "2004-03-07T18:32:39",
          "2004-03-07T18:34:42",
          "2004-03-07T18:42:29",
          "2004-03-07T18:46:00",
          "2004-03-07T18:47:06",
          "2004-03-07T18:48:15",
          "2004-03-07T18:52:30",
          "2004-03-07T18:53:55",
          "2004-03-07T18:57:07",
          "2004-03-07T18:58:52",
          "2004-03-07T18:59:52",
          "2004-03-07T19:01:48",
          "2004-03-07T19:03:58",
          "2004-03-07T19:08:55",
          "2004-03-07T19:10:13",
          "2004-03-07T19:15:38",
          "2004-03-07T19:16:44",
          "2004-03-07T19:18:05",
          "2004-03-07T19:19:19",
          "2004-03-07T19:21:01",
          "2004-03-07T19:22:11",
          "2004-03-07T19:24:57",
          "2004-03-07T19:26:22",
          "2004-03-07T19:29:46",
          "2004-03-07T19:31:25",
          "2004-03-07T19:32:45",
          "2004-03-07T19:36:14",
          "2004-03-07T19:39:40",
          "2004-03-07T19:41:33",
          "2004-03-07T19:42:45",
          "2004-03-07T19:47:36",
          "2004-03-07T19:49:28",
          "2004-03-07T19:52:28",
          "2004-03-07T19:54:33",
          "2004-03-07T19:55:40",
          "2004-03-07T19:56:41",
          "2004-03-07T19:58:24",
          "2004-03-07T20:00:06",
          "2004-03-07T20:02:13",
          "2004-03-07T20:03:29",
          "2004-03-07T20:04:03",
          "2004-03-07T20:04:35",
          "2004-03-07T20:07:12",
          "2004-03-07T20:10:50",
          "2004-03-07T20:11:33",
          "2004-03-07T20:12:55",
          "2004-03-07T20:23:35",
          "2004-03-07T20:25:31",
          "2004-03-07T20:31:40",
          "2004-03-07T20:35:28",
          "2004-03-07T20:38:14",
          "2004-03-07T20:40:41",
          "2004-03-07T20:42:09",
          "2004-03-07T20:44:48",
          "2004-03-07T20:55:43",
          "2004-03-07T20:56:56",
          "2004-03-07T20:58:27",
          "2004-03-07T21:03:48",
          "2004-03-07T21:06:05",
          "2004-03-07T21:07:24",
          "2004-03-07T21:14:32",
          "2004-03-07T21:16:17",
          "2004-03-07T21:16:18",
          "2004-03-07T21:16:21",
          "2004-03-07T21:16:23",
          "2004-03-07T21:16:33",
          "2004-03-07T21:16:40",
          "2004-03-07T21:20:14",
          "2004-03-07T21:21:40",
          "2004-03-07T21:23:38",
          "2004-03-07T21:31:12",
          "2004-03-07T21:33:51",
          "2004-03-07T21:34:00",
          "2004-03-07T21:39:55",
          "2004-03-07T21:41:04",
          "2004-03-07T21:42:47",
          "2004-03-07T21:44:10",
          "2004-03-07T21:50:22",
          "2004-03-07T21:52:05",
          "2004-03-07T22:03:19",
          "2004-03-07T22:04:44",
          "2004-03-07T22:06:16",
          "2004-03-07T22:07:33",
          "2004-03-07T22:08:43",
          "2004-03-07T22:09:44",
          "2004-03-07T22:10:55",
          "2004-03-07T22:12:28",
          "2004-03-07T22:15:57",
          "2004-03-07T22:17:40",
          "2004-03-07T22:27:18",
          "2004-03-07T22:29:10",
          "2004-03-07T22:29:12",
          "2004-03-07T22:29:13",
          "2004-03-07T22:29:41",
          "2004-03-07T22:30:08",
          "2004-03-07T22:31:25",
          "2004-03-07T22:35:53",
          "2004-03-07T22:36:58",
          "2004-03-07T22:39:00",
          "2004-03-07T22:45:46",
          "2004-03-07T22:47:19",
          "2004-03-07T22:48:55",
          "2004-03-07T22:51:55",
          "2004-03-07T22:53:36",
          "2004-03-07T22:54:43",
          "2004-03-07T22:58:24",
          "2004-03-07T23:09:07",
          "2004-03-07T23:10:27",
          "2004-03-07T23:10:44",
          "2004-03-07T23:13:51",
          "2004-03-07T23:15:51",
          "2004-03-07T23:16:57",
          "2004-03-07T23:19:01",
          "2004-03-07T23:20:26",
          "2004-03-07T23:23:00",
          "2004-03-07T23:27:26",
          "2004-03-07T23:30:23",
          "2004-03-07T23:34:31",
          "2004-03-07T23:36:48",
          "2004-03-07T23:36:59",
          "2004-03-07T23:37:48",
          "2004-03-07T23:42:44",
          "2004-03-07T23:47:58",
          "2004-03-07T23:50:03",
          "2004-03-07T23:51:38",
          "2004-03-07T23:56:30",
          "2004-03-07T23:58:53",
          "2004-03-08T00:05:30",
          "2004-03-08T00:05:35",
          "2004-03-08T00:06:32",
          "2004-03-08T00:08:58",
          "2004-03-08T00:11:22",
          "2004-03-08T00:17:00",
          "2004-03-08T00:17:22",
          "2004-03-08T00:19:51",
          "2004-03-08T00:21:54",
          "2004-03-08T00:25:11",
          "2004-03-08T00:27:53",
          "2004-03-08T00:29:13",
          "2004-03-08T00:32:45",
          "2004-03-08T00:36:21",
          "2004-03-08T00:37:23",
          "2004-03-08T00:40:10",
          "2004-03-08T00:43:43",
          "2004-03-08T00:50:59",
          "2004-03-08T00:52:12",
          "2004-03-08T00:54:26",
          "2004-03-08T00:55:38",
          "2004-03-08T01:00:08",
          "2004-03-08T01:01:15",
          "2004-03-08T01:02:16",
          "2004-03-08T01:04:05",
          "2004-03-08T01:04:54",
          "2004-03-08T01:10:43",
          "2004-03-08T01:12:20",
          "2004-03-08T01:16:37",
          "2004-03-08T01:19:18",
          "2004-03-08T01:24:13",
          "2004-03-08T01:25:15",
          "2004-03-08T01:29:17",
          "2004-03-08T01:30:39",
          "2004-03-08T01:33:14",
          "2004-03-08T01:35:13",
          "2004-03-08T01:41:14",
          "2004-03-08T01:46:05",
          "2004-03-08T01:47:06",
          "2004-03-08T01:48:06",
          "2004-03-08T01:50:37",
          "2004-03-08T01:59:13",
          "2004-03-08T02:00:30",
          "2004-03-08T02:01:34",
          "2004-03-08T02:03:12",
          "2004-03-08T02:05:15",
          "2004-03-08T02:06:17",
          "2004-03-08T02:07:21",
          "2004-03-08T02:09:08",
          "2004-03-08T02:12:24",
          "2004-03-08T02:16:24",
          "2004-03-08T02:17:10",
          "2004-03-08T02:22:19",
          "2004-03-08T02:23:45",
          "2004-03-08T02:26:44",
          "2004-03-08T02:27:51",
          "2004-03-08T02:33:28",
          "2004-03-08T02:34:40",
          "2004-03-08T02:42:36",
          "2004-03-08T02:45:03",
          "2004-03-08T02:46:12",
          "2004-03-08T02:47:58",
          "2004-03-08T02:48:05",
          "2004-03-08T02:50:53",
          "2004-03-08T02:50:54",
          "2004-03-08T02:52:39",
          "2004-03-08T02:54:29",
          "2004-03-08T02:54:54",
          "2004-03-08T02:59:03",
          "2004-03-08T03:01:12",
          "2004-03-08T03:06:31",
          "2004-03-08T03:07:59",
          "2004-03-08T03:09:20",
          "2004-03-08T03:11:28",
          "2004-03-08T03:16:22",
          "2004-03-08T03:17:50",
          "2004-03-08T03:21:16",
          "2004-03-08T03:26:06",
          "2004-03-08T03:28:02",
          "2004-03-08T03:33:52",
          "2004-03-08T03:35:42",
          "2004-03-08T03:40:51",
          "2004-03-08T03:42:20",
          "2004-03-08T03:46:27",
          "2004-03-08T03:48:18",
          "2004-03-08T03:49:24",
          "2004-03-08T03:51:05",
          "2004-03-08T03:52:17",
          "2004-03-08T03:53:59",
          "2004-03-08T03:54:03",
          "2004-03-08T03:55:09",
          "2004-03-08T04:16:08",
          "2004-03-08T04:18:28",
          "2004-03-08T04:20:48",
          "2004-03-08T04:21:53",
          "2004-03-08T04:22:55",
          "2004-03-08T04:24:47",
          "2004-03-08T04:25:38",
          "2004-03-08T04:25:44",
          "2004-03-08T04:26:02",
          "2004-03-08T04:26:11",
          "2004-03-08T04:28:34",
          "2004-03-08T04:28:38",
          "2004-03-08T04:28:41",
          "2004-03-08T04:28:42",
          "2004-03-08T04:28:52",
          "2004-03-08T04:29:00",
          "2004-03-08T04:29:11",
          "2004-03-08T04:29:21",
          "2004-03-08T04:29:30",
          "2004-03-08T04:33:25",
          "2004-03-08T04:40:32",
          "2004-03-08T04:43:52",
          "2004-03-08T04:52:13",
          "2004-03-08T04:55:40",
          "2004-03-08T04:59:13",
          "2004-03-08T05:00:42",
          "2004-03-08T05:00:44",
          "2004-03-08T05:00:45",
          "2004-03-08T05:00:46",
          "2004-03-08T05:00:52",
          "2004-03-08T05:01:02",
          "2004-03-08T05:01:14",
          "2004-03-08T05:01:58",
          "2004-03-08T05:02:06",
          "2004-03-08T05:02:07",
          "2004-03-08T05:03:13",
          "2004-03-08T05:13:35",
          "2004-03-08T05:16:15",
          "2004-03-08T05:16:20",
          "2004-03-08T05:22:57",
          "2004-03-08T05:23:37",
          "2004-03-08T05:24:18",
          "2004-03-08T05:24:29",
          "2004-03-08T05:24:50",
          "2004-03-08T05:25:46",
          "2004-03-08T05:26:02",
          "2004-03-08T05:26:06",
          "2004-03-08T05:26:08",
          "2004-03-08T05:26:16",
          "2004-03-08T05:30:07",
          "2004-03-08T05:31:47",
          "2004-03-08T05:32:01",
          "2004-03-08T05:34:33",
          "2004-03-08T05:36:56",
          "2004-03-08T05:38:57",
          "2004-03-08T05:42:06",
          "2004-03-08T05:47:38",
          "2004-03-08T05:48:48",
          "2004-03-08T05:51:45",
          "2004-03-08T05:56:08",
          "2004-03-08T05:57:15",
          "2004-03-08T05:58:39",
          "2004-03-08T06:01:51",
          "2004-03-08T06:09:37",
          "2004-03-08T06:17:13",
          "2004-03-08T06:20:36",
          "2004-03-08T06:23:52",
          "2004-03-08T06:32:14",
          "2004-03-08T06:37:19",
          "2004-03-08T06:41:22",
          "2004-03-08T06:42:29",
          "2004-03-08T06:43:32",
          "2004-03-08T06:47:41",
          "2004-03-08T06:49:27",
          "2004-03-08T06:54:30",
          "2004-03-08T06:57:09",
          "2004-03-08T06:57:46",
          "2004-03-08T07:00:15",
          "2004-03-08T07:07:13",
          "2004-03-08T07:09:12",
          "2004-03-08T07:09:21",
          "2004-03-08T07:10:26",
          "2004-03-08T07:11:37",
          "2004-03-08T07:12:39",
          "2004-03-08T07:22:13",
          "2004-03-08T07:23:38",
          "2004-03-08T07:24:43",
          "2004-03-08T07:25:56",
          "2004-03-08T07:27:01",
          "2004-03-08T07:27:36",
          "2004-03-08T07:27:37",
          "2004-03-08T07:28:29",
          "2004-03-08T07:29:56",
          "2004-03-08T07:35:50",
          "2004-03-08T07:39:31",
          "2004-03-08T07:40:54",
          "2004-03-08T07:43:21",
          "2004-03-08T07:44:53",
          "2004-03-08T07:49:56",
          "2004-03-08T07:51:39",
          "2004-03-08T07:53:19",
          "2004-03-08T07:53:37",
          "2004-03-08T07:53:38",
          "2004-03-08T07:54:30",
          "2004-03-08T07:56:34",
          "2004-03-08T08:04:46",
          "2004-03-08T08:09:32",
          "2004-03-08T08:12:50",
          "2004-03-08T08:14:15",
          "2004-03-08T08:15:21",
          "2004-03-08T08:17:09",
          "2004-03-08T08:18:52",
          "2004-03-08T08:21:00",
          "2004-03-08T08:21:47",
          "2004-03-08T08:25:37",
          "2004-03-08T08:26:41",
          "2004-03-08T08:27:04",
          "2004-03-08T08:27:08",
          "2004-03-08T08:27:14",
          "2004-03-08T08:27:23",
          "2004-03-08T08:27:28",
          "2004-03-08T08:28:23",
          "2004-03-08T08:29:36",
          "2004-03-08T08:29:57",
          "2004-03-08T08:30:25",
          "2004-03-08T08:31:37",
          "2004-03-08T08:32:24",
          "2004-03-08T08:32:27",
          "2004-03-08T08:32:34",
          "2004-03-08T08:33:27",
          "2004-03-08T08:33:30",
          "2004-03-08T08:33:39",
          "2004-03-08T08:33:51",
          "2004-03-08T08:33:52",
          "2004-03-08T08:33:57",
          "2004-03-08T08:34:09",
          "2004-03-08T08:34:53",
          "2004-03-08T08:36:05",
          "2004-03-08T08:37:14",
          "2004-03-08T08:37:17",
          "2004-03-08T08:37:23",
          "2004-03-08T08:37:53",
          "2004-03-08T08:40:15",
          "2004-03-08T08:52:13",
          "2004-03-08T08:53:17",
          "2004-03-08T08:55:12",
          "2004-03-08T09:02:14",
          "2004-03-08T09:02:21",
          "2004-03-08T09:02:29",
          "2004-03-08T09:02:31",
          "2004-03-08T09:02:32",
          "2004-03-08T09:02:54",
          "2004-03-08T09:03:18",
          "2004-03-08T09:05:54",
          "2004-03-08T09:09:55",
          "2004-03-08T09:12:54",
          "2004-03-08T09:16:26",
          "2004-03-08T09:17:16",
          "2004-03-08T09:17:17",
          "2004-03-08T09:17:18",
          "2004-03-08T09:18:53",
          "2004-03-08T09:18:56",
          "2004-03-08T09:18:57",
          "2004-03-08T09:23:03",
          "2004-03-08T09:25:42",
          "2004-03-08T09:29:35",
          "2004-03-08T09:29:36",
          "2004-03-08T09:30:10",
          "2004-03-08T09:30:11",
          "2004-03-08T09:30:40",
          "2004-03-08T09:32:32",
          "2004-03-08T09:33:46",
          "2004-03-08T09:33:53",
          "2004-03-08T09:34:58",
          "2004-03-08T09:36:35",
          "2004-03-08T09:38:11",
          "2004-03-08T09:40:30",
          "2004-03-08T09:41:15",
          "2004-03-08T09:42:27",
          "2004-03-08T09:45:15",
          "2004-03-08T10:01:06",
          "2004-03-08T10:05:40",
          "2004-03-08T10:06:28",
          "2004-03-08T10:08:02",
          "2004-03-08T10:09:52",
          "2004-03-08T10:14:46",
          "2004-03-08T10:16:52",
          "2004-03-08T10:18:21",
          "2004-03-08T10:21:21",
          "2004-03-08T10:30:56",
          "2004-03-08T10:32:18",
          "2004-03-08T10:34:55",
          "2004-03-08T10:40:09",
          "2004-03-08T10:45:25",
          "2004-03-08T10:46:34",
          "2004-03-08T10:48:02",
          "2004-03-08T10:48:05",
          "2004-03-08T10:48:06",
          "2004-03-08T10:48:19",
          "2004-03-08T10:48:37",
          "2004-03-08T10:50:05",
          "2004-03-08T11:03:34",
          "2004-03-08T11:06:20",
          "2004-03-08T11:06:28",
          "2004-03-08T11:09:24",
          "2004-03-08T11:10:09",
          "2004-03-08T11:10:24",
          "2004-03-08T11:11:04",
          "2004-03-08T11:11:10",
          "2004-03-08T11:11:15",
          "2004-03-08T11:11:26",
          "2004-03-08T11:11:51",
          "2004-03-08T11:15:51",
          "2004-03-08T11:17:49",
          "2004-03-08T11:19:43",
          "2004-03-08T11:24:12",
          "2004-03-08T11:25:16",
          "2004-03-08T11:40:41",
          "2004-03-08T11:40:42",
          "2004-03-08T11:41:14",
          "2004-03-08T11:43:17",
          "2004-03-08T11:45:08",
          "2004-03-08T11:47:52",
          "2004-03-08T11:49:23",
          "2004-03-08T11:51:20",
          "2004-03-08T11:56:19",
          "2004-03-08T11:57:28",
          "2004-03-08T12:00:26",
          "2004-03-08T12:06:03",
          "2004-03-08T12:06:29",
          "2004-03-08T12:07:13",
          "2004-03-08T12:08:32",
          "2004-03-08T12:10:39",
          "2004-03-08T12:12:50",
          "2004-03-08T12:15:36",
          "2004-03-08T12:20:18",
          "2004-03-08T12:25:47",
          "2004-03-08T12:28:09",
          "2004-03-08T12:31:32",
          "2004-03-08T12:33:09",
          "2004-03-08T12:39:34",
          "2004-03-08T12:40:36",
          "2004-03-08T12:42:04",
          "2004-03-08T12:43:08",
          "2004-03-08T12:45:13",
          "2004-03-08T12:47:42",
          "2004-03-08T12:55:18",
          "2004-03-08T12:58:39",
          "2004-03-08T12:58:50",
          "2004-03-08T12:59:18",
          "2004-03-08T12:59:34",
          "2004-03-08T12:59:37",
          "2004-03-08T12:59:55",
          "2004-03-08T13:00:12",
          "2004-03-08T13:00:13",
          "2004-03-08T13:00:20",
          "2004-03-08T13:00:27",
          "2004-03-08T13:00:40",
          "2004-03-08T13:01:27",
          "2004-03-08T13:01:29",
          "2004-03-08T13:01:35",
          "2004-03-08T13:01:38",
          "2004-03-08T13:01:42",
          "2004-03-08T13:01:55",
          "2004-03-08T13:02:03",
          "2004-03-08T13:02:16",
          "2004-03-08T13:04:14",
          "2004-03-08T13:07:16",
          "2004-03-08T13:08:17",
          "2004-03-08T13:12:54",
          "2004-03-08T13:15:03",
          "2004-03-08T13:16:11",
          "2004-03-08T13:17:23",
          "2004-03-08T13:18:57",
          "2004-03-08T13:24:49",
          "2004-03-08T13:29:37",
          "2004-03-08T13:31:16",
          "2004-03-08T13:32:35",
          "2004-03-08T13:35:02",
          "2004-03-08T13:36:06",
          "2004-03-08T13:38:39",
          "2004-03-08T13:45:46",
          "2004-03-08T13:48:06",
          "2004-03-08T13:49:47",
          "2004-03-08T13:55:51",
          "2004-03-08T13:56:52",
          "2004-03-08T13:57:52",
          "2004-03-08T13:58:55",
          "2004-03-08T14:00:08",
          "2004-03-08T14:01:36",
          "2004-03-08T14:07:26",
          "2004-03-08T14:11:28",
          "2004-03-08T14:12:49",
          "2004-03-08T14:13:51",
          "2004-03-08T14:15:01",
          "2004-03-08T14:16:38",
          "2004-03-08T14:16:39",
          "2004-03-08T14:23:54",
          "2004-03-08T14:25:33",
          "2004-03-08T14:26:45",
          "2004-03-08T14:27:46",
          "2004-03-08T14:28:46",
          "2004-03-08T14:33:56",
          "2004-03-08T14:40:18",
          "2004-03-08T14:41:22",
          "2004-03-08T14:42:44",
          "2004-03-08T14:43:45",
          "2004-03-08T14:52:51",
          "2004-03-08T14:54:56",
          "2004-03-08T14:57:19",
          "2004-03-08T14:58:58",
          "2004-03-08T15:00:07",
          "2004-03-08T15:01:12",
          "2004-03-08T15:02:29",
          "2004-03-08T15:03:49",
          "2004-03-08T15:07:41",
          "2004-03-08T15:15:17",
          "2004-03-08T15:16:14",
          "2004-03-08T15:17:18",
          "2004-03-08T15:19:35",
          "2004-03-08T16:54:47",
          "2004-03-08T17:39:00",
          "2004-03-08T17:39:01",
          "2004-03-08T18:14:44",
          "2004-03-08T18:20:44",
          "2004-03-08T18:23:43",
          "2004-03-08T18:39:33",
          "2004-03-08T18:39:35",
          "2004-03-08T18:39:36",
          "2004-03-08T18:41:16",
          "2004-03-08T19:08:27",
          "2004-03-08T19:08:28",
          "2004-03-08T19:08:39",
          "2004-03-08T19:08:52",
          "2004-03-08T19:10:06",
          "2004-03-08T19:24:42",
          "2004-03-08T20:09:57",
          "2004-03-08T20:48:18",
          "2004-03-08T20:48:25",
          "2004-03-08T20:48:26",
          "2004-03-08T20:48:27",
          "2004-03-08T20:48:48",
          "2004-03-08T20:48:49",
          "2004-03-08T20:48:53",
          "2004-03-08T20:50:59",
          "2004-03-08T20:51:01",
          "2004-03-08T20:51:51",
          "2004-03-08T20:52:01",
          "2004-03-08T22:03:04",
          "2004-03-08T22:03:28",
          "2004-03-08T22:03:29",
          "2004-03-08T22:03:44",
          "2004-03-08T22:03:52",
          "2004-03-08T22:04:09",
          "2004-03-08T22:04:10",
          "2004-03-08T22:04:24",
          "2004-03-08T22:04:35",
          "2004-03-08T22:30:01",
          "2004-03-08T23:42:55",
          "2004-03-09T01:48:27",
          "2004-03-09T01:48:28",
          "2004-03-09T01:49:53",
          "2004-03-09T01:49:57",
          "2004-03-09T01:50:35",
          "2004-03-09T01:50:54",
          "2004-03-09T01:51:17",
          "2004-03-09T01:51:41",
          "2004-03-09T01:51:45",
          "2004-03-09T01:51:54",
          "2004-03-09T01:52:12",
          "2004-03-09T02:33:10",
          "2004-03-09T02:33:17",
          "2004-03-09T02:33:18",
          "2004-03-09T02:39:17",
          "2004-03-09T02:39:18",
          "2004-03-09T03:10:39",
          "2004-03-09T05:01:53",
          "2004-03-09T05:02:11",
          "2004-03-09T05:02:14",
          "2004-03-09T05:02:19",
          "2004-03-09T05:02:27",
          "2004-03-09T05:02:28",
          "2004-03-09T05:04:09",
          "2004-03-09T05:09:30",
          "2004-03-09T05:09:31",
          "2004-03-09T05:12:45",
          "2004-03-09T05:13:40",
          "2004-03-09T05:14:13",
          "2004-03-09T05:14:14",
          "2004-03-09T05:20:20",
          "2004-03-09T06:29:03",
          "2004-03-09T06:33:21",
          "2004-03-09T06:34:51",
          "2004-03-09T06:34:53",
          "2004-03-09T06:34:54",
          "2004-03-09T06:34:55",
          "2004-03-09T06:34:56",
          "2004-03-09T06:34:57",
          "2004-03-09T06:34:58",
          "2004-03-09T06:35:04",
          "2004-03-09T06:35:06",
          "2004-03-09T06:35:09",
          "2004-03-09T06:35:10",
          "2004-03-09T06:35:13",
          "2004-03-09T06:35:17",
          "2004-03-09T06:35:42",
          "2004-03-09T06:36:28",
          "2004-03-09T06:36:29",
          "2004-03-09T06:36:51",
          "2004-03-09T06:37:00",
          "2004-03-09T06:37:40",
          "2004-03-09T07:27:10",
          "2004-03-09T07:27:44",
          "2004-03-09T07:27:59",
          "2004-03-09T07:28:05",
          "2004-03-09T07:28:12",
          "2004-03-09T08:08:35",
          "2004-03-09T08:08:37",
          "2004-03-09T08:08:38",
          "2004-03-09T08:08:54",
          "2004-03-09T08:08:57",
          "2004-03-09T08:09:39",
          "2004-03-09T08:09:58",
          "2004-03-09T08:10:04",
          "2004-03-09T08:10:06",
          "2004-03-09T08:10:12",
          "2004-03-09T08:10:20",
          "2004-03-09T08:17:27",
          "2004-03-09T08:17:34",
          "2004-03-09T08:17:50",
          "2004-03-09T08:18:17",
          "2004-03-09T08:18:19",
          "2004-03-09T08:18:25",
          "2004-03-09T08:18:26",
          "2004-03-09T08:18:27",
          "2004-03-09T08:18:50",
          "2004-03-09T08:19:04",
          "2004-03-09T09:55:44",
          "2004-03-09T09:55:53",
          "2004-03-09T10:08:07",
          "2004-03-09T10:29:38",
          "2004-03-09T10:29:40",
          "2004-03-09T10:29:41",
          "2004-03-09T11:21:36",
          "2004-03-09T11:43:54",
          "2004-03-09T11:43:56",
          "2004-03-09T11:57:20",
          "2004-03-09T12:16:06",
          "2004-03-09T12:21:08",
          "2004-03-09T12:21:09",
          "2004-03-09T12:21:10",
          "2004-03-09T12:21:49",
          "2004-03-09T12:52:21",
          "2004-03-09T12:52:58",
          "2004-03-09T13:14:53",
          "2004-03-09T13:15:15",
          "2004-03-09T13:15:23",
          "2004-03-09T13:15:33",
          "2004-03-09T13:15:49",
          "2004-03-09T13:16:00",
          "2004-03-09T13:49:05",
          "2004-03-09T14:43:02",
          "2004-03-09T14:43:03",
          "2004-03-09T14:43:04",
          "2004-03-09T14:43:05",
          "2004-03-09T14:43:12",
          "2004-03-09T14:50:15",
          "2004-03-09T14:50:23",
          "2004-03-09T14:50:24",
          "2004-03-09T14:50:28",
          "2004-03-09T14:56:15",
          "2004-03-09T15:03:55",
          "2004-03-09T15:25:03",
          "2004-03-09T15:25:05",
          "2004-03-09T15:25:14",
          "2004-03-09T15:25:15",
          "2004-03-09T15:37:35",
          "2004-03-09T15:37:36",
          "2004-03-09T15:44:52",
          "2004-03-09T15:44:57",
          "2004-03-09T15:51:10",
          "2004-03-09T15:51:24",
          "2004-03-09T15:52:09",
          "2004-03-09T15:52:15",
          "2004-03-09T15:53:40",
          "2004-03-09T15:53:49",
          "2004-03-09T15:53:56",
          "2004-03-09T16:23:55",
          "2004-03-09T16:27:48",
          "2004-03-09T17:10:26",
          "2004-03-09T17:10:28",
          "2004-03-09T17:33:58",
          "2004-03-09T17:42:41",
          "2004-03-09T17:42:42",
          "2004-03-09T17:43:54",
          "2004-03-09T17:45:02",
          "2004-03-09T18:00:43",
          "2004-03-09T18:00:44",
          "2004-03-09T18:01:11",
          "2004-03-09T18:01:24",
          "2004-03-09T18:01:25",
          "2004-03-09T18:01:28",
          "2004-03-09T18:01:45",
          "2004-03-09T18:02:07",
          "2004-03-09T18:06:27",
          "2004-03-09T20:23:32",
          "2004-03-09T20:25:15",
          "2004-03-09T20:25:18",
          "2004-03-09T20:34:55",
          "2004-03-09T20:45:43",
          "2004-03-09T20:45:48",
          "2004-03-09T20:45:51",
          "2004-03-09T21:33:22",
          "2004-03-09T21:51:09",
          "2004-03-09T21:51:16",
          "2004-03-09T22:23:39",
          "2004-03-09T22:31:21",
          "2004-03-09T22:40:32",
          "2004-03-09T22:40:33",
          "2004-03-09T22:44:31",
          "2004-03-09T23:36:11",
          "2004-03-10T00:21:51",
          "2004-03-10T00:24:58",
          "2004-03-10T00:29:44",
          "2004-03-10T00:29:45",
          "2004-03-10T02:07:27",
          "2004-03-10T02:31:33",
          "2004-03-10T02:31:44",
          "2004-03-10T02:52:49",
          "2004-03-10T02:55:00",
          "2004-03-10T03:11:40",
          "2004-03-10T03:11:50",
          "2004-03-10T03:11:53",
          "2004-03-10T03:12:07",
          "2004-03-10T03:12:20",
          "2004-03-10T03:12:33",
          "2004-03-10T03:12:45",
          "2004-03-10T03:12:48",
          "2004-03-10T03:12:56",
          "2004-03-10T03:14:40",
          "2004-03-10T03:14:54",
          "2004-03-10T03:15:28",
          "2004-03-10T03:15:33",
          "2004-03-10T03:52:49",
          "2004-03-10T03:52:51",
          "2004-03-10T03:52:52",
          "2004-03-10T05:21:38",
          "2004-03-10T07:36:56",
          "2004-03-10T08:36:28",
          "2004-03-10T08:36:30",
          "2004-03-10T08:36:31",
          "2004-03-10T08:36:57",
          "2004-03-10T08:36:58",
          "2004-03-10T08:51:31",
          "2004-03-10T08:52:13",
          "2004-03-10T08:52:16",
          "2004-03-10T08:52:25",
          "2004-03-10T08:52:52",
          "2004-03-10T08:53:12",
          "2004-03-10T08:53:19",
          "2004-03-10T08:53:33",
          "2004-03-10T08:54:15",
          "2004-03-10T08:54:37",
          "2004-03-10T08:55:03",
          "2004-03-10T08:55:17",
          "2004-03-10T08:55:40",
          "2004-03-10T08:55:49",
          "2004-03-10T08:56:10",
          "2004-03-10T08:56:13",
          "2004-03-10T09:05:59",
          "2004-03-10T09:41:56",
          "2004-03-10T10:37:53",
          "2004-03-10T10:38:04",
          "2004-03-10T10:38:05",
          "2004-03-10T10:38:23",
          "2004-03-10T10:38:27",
          "2004-03-10T10:59:06",
          "2004-03-10T11:12:51",
          "2004-03-10T11:13:21",
          "2004-03-10T11:18:59",
          "2004-03-10T11:19:00",
          "2004-03-10T11:19:32",
          "2004-03-10T11:41:25",
          "2004-03-10T11:41:52",
          "2004-03-10T11:43:26",
          "2004-03-10T11:44:13",
          "2004-03-10T11:44:27",
          "2004-03-10T11:44:44",
          "2004-03-10T11:45:22",
          "2004-03-10T11:45:51",
          "2004-03-10T11:46:42",
          "2004-03-10T11:47:37",
          "2004-03-10T11:49:57",
          "2004-03-10T11:50:28",
          "2004-03-10T11:50:35",
          "2004-03-10T11:52:14",
          "2004-03-10T11:52:42",
          "2004-03-10T12:02:38",
          "2004-03-10T12:02:43",
          "2004-03-10T12:02:45",
          "2004-03-10T12:02:46",
          "2004-03-10T12:02:50",
          "2004-03-10T12:02:52",
          "2004-03-10T12:02:59",
          "2004-03-10T12:03:00",
          "2004-03-10T12:03:03",
          "2004-03-10T12:03:04",
          "2004-03-10T12:03:08",
          "2004-03-10T12:03:45",
          "2004-03-10T12:05:06",
          "2004-03-10T12:05:22",
          "2004-03-10T12:05:38",
          "2004-03-10T12:05:40",
          "2004-03-10T12:05:54",
          "2004-03-10T12:05:58",
          "2004-03-10T12:06:07",
          "2004-03-10T12:06:09",
          "2004-03-10T12:07:07",
          "2004-03-10T12:07:08",
          "2004-03-10T12:07:12",
          "2004-03-10T12:07:13",
          "2004-03-10T12:07:14",
          "2004-03-10T12:07:25",
          "2004-03-10T12:16:59",
          "2004-03-10T12:19:02",
          "2004-03-10T12:19:05",
          "2004-03-10T12:19:06",
          "2004-03-10T12:19:08",
          "2004-03-10T12:22:32",
          "2004-03-10T12:25:25",
          "2004-03-10T12:25:28",
          "2004-03-10T12:25:29",
          "2004-03-10T13:13:23",
          "2004-03-10T13:15:44",
          "2004-03-10T13:15:53",
          "2004-03-10T13:15:54",
          "2004-03-10T13:41:37",
          "2004-03-10T13:42:23",
          "2004-03-10T14:20:51",
          "2004-03-10T14:21:36",
          "2004-03-10T14:22:13",
          "2004-03-10T15:06:20",
          "2004-03-10T15:06:24",
          "2004-03-10T15:06:25",
          "2004-03-10T15:10:10",
          "2004-03-10T15:10:13",
          "2004-03-10T15:49:55",
          "2004-03-10T16:29:30",
          "2004-03-10T16:31:19",
          "2004-03-10T16:33:04",
          "2004-03-10T16:47:44",
          "2004-03-10T16:52:44",
          "2004-03-10T16:54:36",
          "2004-03-10T18:13:54",
          "2004-03-10T18:17:24",
          "2004-03-10T19:55:54",
          "2004-03-10T19:55:56",
          "2004-03-10T20:22:41",
          "2004-03-10T20:22:42",
          "2004-03-10T20:23:11",
          "2004-03-10T20:23:41",
          "2004-03-10T20:23:52",
          "2004-03-10T21:56:34",
          "2004-03-10T21:58:46",
          "2004-03-10T21:59:16",
          "2004-03-10T21:59:17",
          "2004-03-10T21:59:18",
          "2004-03-10T22:00:03",
          "2004-03-10T22:00:04",
          "2004-03-10T22:00:05",
          "2004-03-10T22:16:58",
          "2004-03-10T23:08:28",
          "2004-03-10T23:08:30",
          "2004-03-10T23:08:31",
          "2004-03-11T00:07:57",
          "2004-03-11T00:07:58",
          "2004-03-11T00:42:01",
          "2004-03-11T00:43:57",
          "2004-03-11T00:43:59",
          "2004-03-11T00:44:08",
          "2004-03-11T01:39:53",
          "2004-03-11T02:27:39",
          "2004-03-11T03:35:49",
          "2004-03-11T03:35:57",
          "2004-03-11T03:35:58",
          "2004-03-11T03:50:09",
          "2004-03-11T06:11:19",
          "2004-03-11T06:11:21",
          "2004-03-11T06:11:38",
          "2004-03-11T06:11:39",
          "2004-03-11T06:11:46",
          "2004-03-11T06:11:47",
          "2004-03-11T06:12:41",
          "2004-03-11T06:12:43",
          "2004-03-11T06:13:07",
          "2004-03-11T06:13:08",
          "2004-03-11T06:14:03",
          "2004-03-11T06:14:04",
          "2004-03-11T06:16:40",
          "2004-03-11T06:17:06",
          "2004-03-11T06:17:11",
          "2004-03-11T06:27:31",
          "2004-03-11T06:27:36",
          "2004-03-11T06:48:05",
          "2004-03-11T07:15:10",
          "2004-03-11T07:15:11",
          "2004-03-11T07:19:57",
          "2004-03-11T07:20:05",
          "2004-03-11T07:20:09",
          "2004-03-11T07:39:30",
          "2004-03-11T08:14:18",
          "2004-03-11T08:45:41",
          "2004-03-11T08:45:42",
          "2004-03-11T08:45:49",
          "2004-03-11T08:45:54",
          "2004-03-11T10:55:40",
          "2004-03-11T10:58:16",
          "2004-03-11T10:58:27",
          "2004-03-11T11:12:40",
          "2004-03-11T11:33:35",
          "2004-03-11T11:49:51",
          "2004-03-11T11:49:53",
          "2004-03-11T11:49:54",
          "2004-03-11T11:54:59",
          "2004-03-11T11:55:22",
          "2004-03-11T11:55:23",
          "2004-03-11T11:55:26",
          "2004-03-11T12:28:50",
          "2004-03-11T12:28:51",
          "2004-03-11T12:29:03",
          "2004-03-11T12:29:27",
          "2004-03-11T12:56:35",
          "2004-03-11T12:56:58",
          "2004-03-11T12:57:18",
          "2004-03-11T12:57:24",
          "2004-03-11T12:57:45",
          "2004-03-11T12:58:03",
          "2004-03-11T12:58:37",
          "2004-03-11T12:58:50",
          "2004-03-11T12:59:07",
          "2004-03-11T12:59:33",
          "2004-03-11T12:59:52",
          "2004-03-11T13:00:12",
          "2004-03-11T13:00:47",
          "2004-03-11T13:00:57",
          "2004-03-11T13:01:21",
          "2004-03-11T13:01:37",
          "2004-03-11T13:01:58",
          "2004-03-11T13:02:22",
          "2004-03-11T13:02:42",
          "2004-03-11T13:03:06",
          "2004-03-11T13:03:23",
          "2004-03-11T13:03:48",
          "2004-03-11T13:04:09",
          "2004-03-11T13:04:30",
          "2004-03-11T13:04:52",
          "2004-03-11T13:05:13",
          "2004-03-11T13:05:33",
          "2004-03-11T13:05:54",
          "2004-03-11T13:06:17",
          "2004-03-11T13:06:39",
          "2004-03-11T13:07:02",
          "2004-03-11T13:07:20",
          "2004-03-11T13:07:40",
          "2004-03-11T13:08:03",
          "2004-03-11T13:08:44",
          "2004-03-11T13:09:04",
          "2004-03-11T13:09:21",
          "2004-03-11T13:09:24",
          "2004-03-11T13:09:52",
          "2004-03-11T13:10:11",
          "2004-03-11T13:10:27",
          "2004-03-11T13:10:52",
          "2004-03-11T13:11:09",
          "2004-03-11T13:11:41",
          "2004-03-11T13:12:54",
          "2004-03-11T13:18:15",
          "2004-03-11T13:22:32",
          "2004-03-11T13:24:03",
          "2004-03-11T13:24:04",
          "2004-03-11T13:26:38",
          "2004-03-11T13:27:05",
          "2004-03-11T14:14:44",
          "2004-03-11T14:14:47",
          "2004-03-11T14:14:50",
          "2004-03-11T14:22:08",
          "2004-03-11T14:22:09",
          "2004-03-11T14:26:26",
          "2004-03-11T14:28:53",
          "2004-03-11T14:29:44",
          "2004-03-11T14:29:52",
          "2004-03-11T14:30:51",
          "2004-03-11T14:31:43",
          "2004-03-11T14:31:48",
          "2004-03-11T14:33:01",
          "2004-03-11T14:53:12",
          "2004-03-11T15:17:08",
          "2004-03-11T15:51:49",
          "2004-03-11T15:52:07",
          "2004-03-11T15:52:12",
          "2004-03-11T15:52:18",
          "2004-03-11T15:52:19",
          "2004-03-11T15:52:37",
          "2004-03-11T15:52:38",
          "2004-03-11T15:52:39",
          "2004-03-11T16:02:37",
          "2004-03-11T16:12:59",
          "2004-03-11T16:13:02",
          "2004-03-11T16:13:03",
          "2004-03-11T16:33:23",
          "2004-03-11T18:11:39",
          "2004-03-11T18:11:40",
          "2004-03-11T18:31:35",
          "2004-03-11T18:57:52",
          "2004-03-11T20:12:24",
          "2004-03-11T20:49:32",
          "2004-03-11T20:49:37",
          "2004-03-11T20:49:38",
          "2004-03-11T20:59:05",
          "2004-03-11T23:56:31",
          "2004-03-12T01:30:44",
          "2004-03-12T02:27:29",
          "2004-03-12T02:27:32",
          "2004-03-12T03:32:56",
          "2004-03-12T04:57:20",
          "2004-03-12T04:57:21",
          "2004-03-12T04:57:56",
          "2004-03-12T04:59:21",
          "2004-03-12T05:03:19",
          "2004-03-12T05:19:31",
          "2004-03-12T05:25:20",
          "2004-03-12T05:25:24",
          "2004-03-12T05:25:25",
          "2004-03-12T05:44:35",
          "2004-03-12T05:44:50",
          "2004-03-12T05:44:51",
          "2004-03-12T05:51:36",
          "2004-03-12T08:33:32",
          "2004-03-12T09:12:01",
          "2004-03-12T09:12:02",
          "2004-03-12T11:01:26",
          "2004-03-12T11:01:28",
          "2004-03-12T11:01:29",
          "2004-03-12T11:16:36",
          "2004-03-12T11:16:55",
          "2004-03-12T11:16:56",
          "2004-03-12T11:39:14",
          "2004-03-12T11:39:25",
          "2004-03-12T11:39:31",
          "2004-03-12T12:23:11",
          "2004-03-12T12:23:17",
          "2004-03-12T12:23:18",
          "2004-03-12T12:23:40",
          "2004-03-12T12:23:41",
          "2004-03-12T13:04:01",
          "2004-03-12T13:18:57",
          "2004-03-12T13:25:45"
         ],
         "xaxis": "x",
         "y": [
          1,
          1,
          1,
          5,
          1,
          1,
          1,
          1,
          1,
          1,
          1,
          1,
          1,
          1,
          4,
          1,
          1,
          1,
          1,
          1,
          1,
          1,
          1,
          1,
          1,
          4,
          4,
          4,
          1,
          1,
          1,
          1,
          1,
          1,
          1,
          1,
          4,
          1,
          1,
          5,
          8,
          1,
          1,
          1,
          1,
          1,
          1,
          1,
          1,
          1,
          1,
          2,
          1,
          1,
          1,
          1,
          1,
          1,
          1,
          1,
          1,
          1,
          1,
          1,
          1,
          1,
          1,
          1,
          1,
          1,
          1,
          1,
          1,
          3,
          1,
          1,
          1,
          1,
          1,
          1,
          1,
          1,
          1,
          1,
          1,
          1,
          1,
          1,
          1,
          1,
          1,
          1,
          1,
          1,
          1,
          1,
          1,
          1,
          2,
          1,
          1,
          1,
          1,
          1,
          2,
          1,
          1,
          1,
          1,
          1,
          1,
          1,
          1,
          1,
          1,
          1,
          1,
          2,
          1,
          1,
          1,
          1,
          1,
          1,
          1,
          1,
          1,
          1,
          1,
          1,
          1,
          8,
          1,
          1,
          1,
          1,
          1,
          1,
          1,
          1,
          2,
          1,
          1,
          1,
          1,
          1,
          1,
          1,
          1,
          1,
          1,
          1,
          3,
          1,
          1,
          1,
          1,
          1,
          2,
          1,
          1,
          1,
          1,
          1,
          1,
          1,
          1,
          1,
          1,
          1,
          1,
          4,
          1,
          1,
          1,
          1,
          1,
          3,
          1,
          2,
          1,
          1,
          11,
          1,
          1,
          1,
          11,
          10,
          1,
          1,
          8,
          2,
          1,
          2,
          1,
          1,
          1,
          1,
          1,
          1,
          1,
          1,
          1,
          1,
          1,
          1,
          1,
          3,
          1,
          1,
          1,
          1,
          1,
          1,
          1,
          1,
          1,
          1,
          1,
          1,
          1,
          1,
          12,
          4,
          1,
          2,
          1,
          1,
          1,
          1,
          1,
          1,
          1,
          1,
          1,
          1,
          2,
          1,
          1,
          1,
          1,
          1,
          1,
          1,
          1,
          1,
          1,
          5,
          2,
          1,
          1,
          1,
          1,
          1,
          1,
          1,
          1,
          1,
          2,
          1,
          1,
          4,
          1,
          1,
          2,
          1,
          1,
          1,
          1,
          1,
          1,
          1,
          1,
          1,
          1,
          1,
          1,
          1,
          1,
          1,
          2,
          1,
          1,
          1,
          1,
          1,
          1,
          1,
          1,
          2,
          1,
          1,
          1,
          2,
          1,
          1,
          1,
          1,
          1,
          1,
          1,
          1,
          1,
          1,
          1,
          1,
          1,
          1,
          11,
          1,
          8,
          1,
          1,
          1,
          2,
          1,
          1,
          8,
          1,
          1,
          1,
          1,
          1,
          1,
          1,
          1,
          1,
          1,
          1,
          1,
          1,
          4,
          1,
          1,
          1,
          1,
          1,
          1,
          1,
          1,
          1,
          1,
          1,
          1,
          1,
          1,
          1,
          1,
          1,
          1,
          1,
          1,
          1,
          4,
          1,
          1,
          1,
          1,
          1,
          1,
          1,
          1,
          1,
          1,
          2,
          1,
          1,
          1,
          1,
          1,
          1,
          1,
          2,
          1,
          1,
          2,
          1,
          1,
          1,
          1,
          1,
          1,
          1,
          4,
          2,
          1,
          1,
          1,
          1,
          1,
          1,
          1,
          1,
          1,
          1,
          1,
          1,
          4,
          1,
          3,
          1,
          1,
          3,
          1,
          1,
          2,
          1,
          2,
          1,
          1,
          1,
          3,
          1,
          1,
          1,
          2,
          1,
          1,
          1,
          3,
          1,
          1,
          1,
          1,
          1,
          1,
          1,
          1,
          1,
          1,
          1,
          1,
          1,
          10,
          1,
          1,
          9,
          1,
          1,
          1,
          1,
          1,
          1,
          1,
          2,
          1,
          1,
          1,
          1,
          1,
          1,
          1,
          4,
          1,
          1,
          2,
          1,
          1,
          2,
          1,
          1,
          1,
          2,
          1,
          1,
          1,
          1,
          1,
          1,
          1,
          1,
          1,
          1,
          1,
          1,
          1,
          1,
          1,
          1,
          1,
          1,
          1,
          2,
          2,
          1,
          1,
          1,
          1,
          1,
          3,
          1,
          2,
          1,
          1,
          1,
          1,
          1,
          1,
          1,
          1,
          1,
          1,
          1,
          1,
          1,
          1,
          1,
          1,
          1,
          1,
          1,
          1,
          1,
          1,
          1,
          1,
          1,
          1,
          1,
          1,
          1,
          1,
          1,
          1,
          1,
          1,
          1,
          1,
          1,
          1,
          8,
          1,
          1,
          1,
          1,
          1,
          1,
          1,
          1,
          2,
          1,
          8,
          1,
          1,
          1,
          1,
          1,
          1,
          2,
          1,
          1,
          1,
          1,
          1,
          1,
          2,
          1,
          1,
          1,
          1,
          1,
          1,
          1,
          1,
          1,
          1,
          1,
          1,
          2,
          2,
          1,
          3,
          1,
          1,
          1,
          1,
          1,
          1,
          1,
          1,
          4,
          1,
          1,
          1,
          1,
          1,
          1,
          1,
          1,
          4,
          1,
          1,
          1,
          1,
          1,
          3,
          1,
          1,
          1,
          1,
          1,
          1,
          1,
          2,
          1,
          1,
          1,
          10,
          1,
          1,
          1,
          1,
          1,
          1,
          1,
          1,
          1,
          1,
          1,
          2,
          1,
          1,
          1,
          1,
          1,
          1,
          1,
          1,
          1,
          1,
          1,
          1,
          1,
          1,
          1,
          1,
          1,
          1,
          3,
          1,
          1,
          1,
          1,
          1,
          1,
          1,
          2,
          1,
          1,
          1,
          1,
          1,
          1,
          1,
          1,
          2,
          1,
          1,
          1,
          1,
          1,
          1,
          1,
          1,
          1,
          1,
          1,
          1,
          1,
          1,
          1,
          1,
          1,
          2,
          1,
          1,
          1,
          1,
          1,
          1,
          1,
          1,
          1,
          1,
          1,
          1,
          1,
          1,
          1,
          1,
          1,
          1,
          1,
          1,
          1,
          1,
          1,
          1,
          1,
          1,
          1,
          1,
          1,
          1,
          1,
          2,
          1,
          1,
          1,
          1,
          2,
          1,
          2,
          1,
          11,
          1,
          1,
          1,
          1,
          1,
          1,
          1,
          1,
          1,
          1,
          1,
          1,
          1,
          1,
          1,
          1,
          1,
          1,
          1,
          1,
          1,
          1,
          1,
          1,
          1,
          1,
          1,
          1,
          1,
          1,
          1,
          1,
          3,
          1,
          1,
          1,
          1,
          3,
          1,
          1,
          1,
          1,
          1,
          1,
          1,
          1,
          1,
          1,
          1,
          1,
          1,
          1,
          1,
          1,
          1,
          1,
          1,
          1,
          1,
          1,
          1,
          1,
          1,
          1,
          1,
          1,
          1,
          1,
          1,
          2,
          1,
          1,
          1,
          1,
          1,
          1,
          1,
          1,
          1,
          1,
          1,
          1,
          2,
          1,
          1,
          1,
          1,
          1,
          3,
          1,
          1,
          1,
          1,
          1,
          1,
          1,
          1,
          1,
          1,
          1,
          1,
          1,
          1,
          1,
          1,
          1,
          1,
          7,
          1,
          1,
          1,
          4,
          1,
          1,
          1,
          1,
          1,
          1,
          1,
          1,
          1,
          1,
          5,
          2,
          1,
          1,
          1,
          1,
          1,
          1,
          1,
          1,
          1,
          1,
          1,
          1,
          1,
          1,
          1,
          1,
          1,
          1,
          1,
          1,
          1,
          2,
          1,
          1,
          2,
          1,
          1,
          3,
          1,
          1,
          1,
          1,
          1,
          1,
          1,
          1,
          1,
          1,
          1,
          1,
          4,
          1,
          1,
          1,
          6,
          1,
          1,
          1,
          1,
          1,
          1,
          4,
          1,
          2,
          1,
          1,
          4,
          1,
          1,
          1,
          1,
          1,
          1,
          1,
          1,
          1,
          1,
          1,
          1,
          1,
          1,
          1,
          2,
          1,
          1,
          1,
          4,
          2,
          1,
          1,
          1,
          5,
          1,
          1,
          1,
          1,
          1,
          1,
          1,
          2,
          1,
          1,
          1,
          1,
          1,
          1,
          1,
          2,
          1,
          1,
          1,
          3,
          1,
          1,
          1,
          1,
          1,
          1,
          1,
          1,
          1,
          1,
          1,
          1,
          1,
          1,
          1,
          1,
          1,
          1,
          8,
          2,
          1,
          1,
          1,
          1,
          1,
          1,
          1,
          1,
          1,
          1,
          1,
          1,
          1,
          1,
          1,
          1,
          1,
          1,
          1,
          1,
          1,
          4,
          1,
          1,
          2,
          1,
          1,
          1,
          1,
          1,
          1,
          1,
          1,
          1,
          1,
          1,
          1,
          2,
          1,
          1,
          8,
          1,
          1,
          1,
          1,
          1,
          1,
          1,
          2,
          1,
          1,
          1,
          1,
          1,
          1,
          1,
          1,
          1,
          1,
          1,
          1,
          1,
          1,
          2,
          1,
          3,
          1,
          1,
          1,
          8,
          1,
          1,
          1,
          1,
          1,
          1,
          1,
          1,
          2,
          1,
          1,
          1,
          1,
          1,
          1,
          1,
          2,
          2,
          1,
          1,
          2,
          2,
          1,
          1,
          1,
          2,
          6,
          1,
          1,
          1,
          1,
          2,
          1,
          8,
          1,
          1,
          1,
          1,
          1,
          1,
          1,
          2,
          2,
          1,
          1,
          1,
          4,
          1,
          1,
          9,
          1,
          1,
          1,
          1,
          1,
          1,
          2,
          8,
          1,
          1,
          1,
          1,
          1,
          1,
          1,
          1,
          1,
          1,
          1,
          1,
          1,
          1,
          1,
          2,
          1,
          1,
          2,
          1,
          1,
          1,
          2,
          1,
          1,
          1,
          1,
          6,
          1,
          2,
          1,
          1,
          1,
          1,
          1,
          11,
          1,
          1,
          1,
          1,
          2,
          1,
          1,
          1,
          1,
          1,
          1,
          1,
          1,
          1,
          1
         ],
         "yaxis": "y"
        }
       ],
       "layout": {
        "legend": {
         "tracegroupgap": 0
        },
        "margin": {
         "t": 60
        },
        "template": {
         "data": {
          "bar": [
           {
            "error_x": {
             "color": "#2a3f5f"
            },
            "error_y": {
             "color": "#2a3f5f"
            },
            "marker": {
             "line": {
              "color": "#E5ECF6",
              "width": 0.5
             }
            },
            "type": "bar"
           }
          ],
          "barpolar": [
           {
            "marker": {
             "line": {
              "color": "#E5ECF6",
              "width": 0.5
             }
            },
            "type": "barpolar"
           }
          ],
          "carpet": [
           {
            "aaxis": {
             "endlinecolor": "#2a3f5f",
             "gridcolor": "white",
             "linecolor": "white",
             "minorgridcolor": "white",
             "startlinecolor": "#2a3f5f"
            },
            "baxis": {
             "endlinecolor": "#2a3f5f",
             "gridcolor": "white",
             "linecolor": "white",
             "minorgridcolor": "white",
             "startlinecolor": "#2a3f5f"
            },
            "type": "carpet"
           }
          ],
          "choropleth": [
           {
            "colorbar": {
             "outlinewidth": 0,
             "ticks": ""
            },
            "type": "choropleth"
           }
          ],
          "contour": [
           {
            "colorbar": {
             "outlinewidth": 0,
             "ticks": ""
            },
            "colorscale": [
             [
              0,
              "#0d0887"
             ],
             [
              0.1111111111111111,
              "#46039f"
             ],
             [
              0.2222222222222222,
              "#7201a8"
             ],
             [
              0.3333333333333333,
              "#9c179e"
             ],
             [
              0.4444444444444444,
              "#bd3786"
             ],
             [
              0.5555555555555556,
              "#d8576b"
             ],
             [
              0.6666666666666666,
              "#ed7953"
             ],
             [
              0.7777777777777778,
              "#fb9f3a"
             ],
             [
              0.8888888888888888,
              "#fdca26"
             ],
             [
              1,
              "#f0f921"
             ]
            ],
            "type": "contour"
           }
          ],
          "contourcarpet": [
           {
            "colorbar": {
             "outlinewidth": 0,
             "ticks": ""
            },
            "type": "contourcarpet"
           }
          ],
          "heatmap": [
           {
            "colorbar": {
             "outlinewidth": 0,
             "ticks": ""
            },
            "colorscale": [
             [
              0,
              "#0d0887"
             ],
             [
              0.1111111111111111,
              "#46039f"
             ],
             [
              0.2222222222222222,
              "#7201a8"
             ],
             [
              0.3333333333333333,
              "#9c179e"
             ],
             [
              0.4444444444444444,
              "#bd3786"
             ],
             [
              0.5555555555555556,
              "#d8576b"
             ],
             [
              0.6666666666666666,
              "#ed7953"
             ],
             [
              0.7777777777777778,
              "#fb9f3a"
             ],
             [
              0.8888888888888888,
              "#fdca26"
             ],
             [
              1,
              "#f0f921"
             ]
            ],
            "type": "heatmap"
           }
          ],
          "heatmapgl": [
           {
            "colorbar": {
             "outlinewidth": 0,
             "ticks": ""
            },
            "colorscale": [
             [
              0,
              "#0d0887"
             ],
             [
              0.1111111111111111,
              "#46039f"
             ],
             [
              0.2222222222222222,
              "#7201a8"
             ],
             [
              0.3333333333333333,
              "#9c179e"
             ],
             [
              0.4444444444444444,
              "#bd3786"
             ],
             [
              0.5555555555555556,
              "#d8576b"
             ],
             [
              0.6666666666666666,
              "#ed7953"
             ],
             [
              0.7777777777777778,
              "#fb9f3a"
             ],
             [
              0.8888888888888888,
              "#fdca26"
             ],
             [
              1,
              "#f0f921"
             ]
            ],
            "type": "heatmapgl"
           }
          ],
          "histogram": [
           {
            "marker": {
             "colorbar": {
              "outlinewidth": 0,
              "ticks": ""
             }
            },
            "type": "histogram"
           }
          ],
          "histogram2d": [
           {
            "colorbar": {
             "outlinewidth": 0,
             "ticks": ""
            },
            "colorscale": [
             [
              0,
              "#0d0887"
             ],
             [
              0.1111111111111111,
              "#46039f"
             ],
             [
              0.2222222222222222,
              "#7201a8"
             ],
             [
              0.3333333333333333,
              "#9c179e"
             ],
             [
              0.4444444444444444,
              "#bd3786"
             ],
             [
              0.5555555555555556,
              "#d8576b"
             ],
             [
              0.6666666666666666,
              "#ed7953"
             ],
             [
              0.7777777777777778,
              "#fb9f3a"
             ],
             [
              0.8888888888888888,
              "#fdca26"
             ],
             [
              1,
              "#f0f921"
             ]
            ],
            "type": "histogram2d"
           }
          ],
          "histogram2dcontour": [
           {
            "colorbar": {
             "outlinewidth": 0,
             "ticks": ""
            },
            "colorscale": [
             [
              0,
              "#0d0887"
             ],
             [
              0.1111111111111111,
              "#46039f"
             ],
             [
              0.2222222222222222,
              "#7201a8"
             ],
             [
              0.3333333333333333,
              "#9c179e"
             ],
             [
              0.4444444444444444,
              "#bd3786"
             ],
             [
              0.5555555555555556,
              "#d8576b"
             ],
             [
              0.6666666666666666,
              "#ed7953"
             ],
             [
              0.7777777777777778,
              "#fb9f3a"
             ],
             [
              0.8888888888888888,
              "#fdca26"
             ],
             [
              1,
              "#f0f921"
             ]
            ],
            "type": "histogram2dcontour"
           }
          ],
          "mesh3d": [
           {
            "colorbar": {
             "outlinewidth": 0,
             "ticks": ""
            },
            "type": "mesh3d"
           }
          ],
          "parcoords": [
           {
            "line": {
             "colorbar": {
              "outlinewidth": 0,
              "ticks": ""
             }
            },
            "type": "parcoords"
           }
          ],
          "pie": [
           {
            "automargin": true,
            "type": "pie"
           }
          ],
          "scatter": [
           {
            "marker": {
             "colorbar": {
              "outlinewidth": 0,
              "ticks": ""
             }
            },
            "type": "scatter"
           }
          ],
          "scatter3d": [
           {
            "line": {
             "colorbar": {
              "outlinewidth": 0,
              "ticks": ""
             }
            },
            "marker": {
             "colorbar": {
              "outlinewidth": 0,
              "ticks": ""
             }
            },
            "type": "scatter3d"
           }
          ],
          "scattercarpet": [
           {
            "marker": {
             "colorbar": {
              "outlinewidth": 0,
              "ticks": ""
             }
            },
            "type": "scattercarpet"
           }
          ],
          "scattergeo": [
           {
            "marker": {
             "colorbar": {
              "outlinewidth": 0,
              "ticks": ""
             }
            },
            "type": "scattergeo"
           }
          ],
          "scattergl": [
           {
            "marker": {
             "colorbar": {
              "outlinewidth": 0,
              "ticks": ""
             }
            },
            "type": "scattergl"
           }
          ],
          "scattermapbox": [
           {
            "marker": {
             "colorbar": {
              "outlinewidth": 0,
              "ticks": ""
             }
            },
            "type": "scattermapbox"
           }
          ],
          "scatterpolar": [
           {
            "marker": {
             "colorbar": {
              "outlinewidth": 0,
              "ticks": ""
             }
            },
            "type": "scatterpolar"
           }
          ],
          "scatterpolargl": [
           {
            "marker": {
             "colorbar": {
              "outlinewidth": 0,
              "ticks": ""
             }
            },
            "type": "scatterpolargl"
           }
          ],
          "scatterternary": [
           {
            "marker": {
             "colorbar": {
              "outlinewidth": 0,
              "ticks": ""
             }
            },
            "type": "scatterternary"
           }
          ],
          "surface": [
           {
            "colorbar": {
             "outlinewidth": 0,
             "ticks": ""
            },
            "colorscale": [
             [
              0,
              "#0d0887"
             ],
             [
              0.1111111111111111,
              "#46039f"
             ],
             [
              0.2222222222222222,
              "#7201a8"
             ],
             [
              0.3333333333333333,
              "#9c179e"
             ],
             [
              0.4444444444444444,
              "#bd3786"
             ],
             [
              0.5555555555555556,
              "#d8576b"
             ],
             [
              0.6666666666666666,
              "#ed7953"
             ],
             [
              0.7777777777777778,
              "#fb9f3a"
             ],
             [
              0.8888888888888888,
              "#fdca26"
             ],
             [
              1,
              "#f0f921"
             ]
            ],
            "type": "surface"
           }
          ],
          "table": [
           {
            "cells": {
             "fill": {
              "color": "#EBF0F8"
             },
             "line": {
              "color": "white"
             }
            },
            "header": {
             "fill": {
              "color": "#C8D4E3"
             },
             "line": {
              "color": "white"
             }
            },
            "type": "table"
           }
          ]
         },
         "layout": {
          "annotationdefaults": {
           "arrowcolor": "#2a3f5f",
           "arrowhead": 0,
           "arrowwidth": 1
          },
          "autotypenumbers": "strict",
          "coloraxis": {
           "colorbar": {
            "outlinewidth": 0,
            "ticks": ""
           }
          },
          "colorscale": {
           "diverging": [
            [
             0,
             "#8e0152"
            ],
            [
             0.1,
             "#c51b7d"
            ],
            [
             0.2,
             "#de77ae"
            ],
            [
             0.3,
             "#f1b6da"
            ],
            [
             0.4,
             "#fde0ef"
            ],
            [
             0.5,
             "#f7f7f7"
            ],
            [
             0.6,
             "#e6f5d0"
            ],
            [
             0.7,
             "#b8e186"
            ],
            [
             0.8,
             "#7fbc41"
            ],
            [
             0.9,
             "#4d9221"
            ],
            [
             1,
             "#276419"
            ]
           ],
           "sequential": [
            [
             0,
             "#0d0887"
            ],
            [
             0.1111111111111111,
             "#46039f"
            ],
            [
             0.2222222222222222,
             "#7201a8"
            ],
            [
             0.3333333333333333,
             "#9c179e"
            ],
            [
             0.4444444444444444,
             "#bd3786"
            ],
            [
             0.5555555555555556,
             "#d8576b"
            ],
            [
             0.6666666666666666,
             "#ed7953"
            ],
            [
             0.7777777777777778,
             "#fb9f3a"
            ],
            [
             0.8888888888888888,
             "#fdca26"
            ],
            [
             1,
             "#f0f921"
            ]
           ],
           "sequentialminus": [
            [
             0,
             "#0d0887"
            ],
            [
             0.1111111111111111,
             "#46039f"
            ],
            [
             0.2222222222222222,
             "#7201a8"
            ],
            [
             0.3333333333333333,
             "#9c179e"
            ],
            [
             0.4444444444444444,
             "#bd3786"
            ],
            [
             0.5555555555555556,
             "#d8576b"
            ],
            [
             0.6666666666666666,
             "#ed7953"
            ],
            [
             0.7777777777777778,
             "#fb9f3a"
            ],
            [
             0.8888888888888888,
             "#fdca26"
            ],
            [
             1,
             "#f0f921"
            ]
           ]
          },
          "colorway": [
           "#636efa",
           "#EF553B",
           "#00cc96",
           "#ab63fa",
           "#FFA15A",
           "#19d3f3",
           "#FF6692",
           "#B6E880",
           "#FF97FF",
           "#FECB52"
          ],
          "font": {
           "color": "#2a3f5f"
          },
          "geo": {
           "bgcolor": "white",
           "lakecolor": "white",
           "landcolor": "#E5ECF6",
           "showlakes": true,
           "showland": true,
           "subunitcolor": "white"
          },
          "hoverlabel": {
           "align": "left"
          },
          "hovermode": "closest",
          "mapbox": {
           "style": "light"
          },
          "paper_bgcolor": "white",
          "plot_bgcolor": "#E5ECF6",
          "polar": {
           "angularaxis": {
            "gridcolor": "white",
            "linecolor": "white",
            "ticks": ""
           },
           "bgcolor": "#E5ECF6",
           "radialaxis": {
            "gridcolor": "white",
            "linecolor": "white",
            "ticks": ""
           }
          },
          "scene": {
           "xaxis": {
            "backgroundcolor": "#E5ECF6",
            "gridcolor": "white",
            "gridwidth": 2,
            "linecolor": "white",
            "showbackground": true,
            "ticks": "",
            "zerolinecolor": "white"
           },
           "yaxis": {
            "backgroundcolor": "#E5ECF6",
            "gridcolor": "white",
            "gridwidth": 2,
            "linecolor": "white",
            "showbackground": true,
            "ticks": "",
            "zerolinecolor": "white"
           },
           "zaxis": {
            "backgroundcolor": "#E5ECF6",
            "gridcolor": "white",
            "gridwidth": 2,
            "linecolor": "white",
            "showbackground": true,
            "ticks": "",
            "zerolinecolor": "white"
           }
          },
          "shapedefaults": {
           "line": {
            "color": "#2a3f5f"
           }
          },
          "ternary": {
           "aaxis": {
            "gridcolor": "white",
            "linecolor": "white",
            "ticks": ""
           },
           "baxis": {
            "gridcolor": "white",
            "linecolor": "white",
            "ticks": ""
           },
           "bgcolor": "#E5ECF6",
           "caxis": {
            "gridcolor": "white",
            "linecolor": "white",
            "ticks": ""
           }
          },
          "title": {
           "x": 0.05
          },
          "xaxis": {
           "automargin": true,
           "gridcolor": "white",
           "linecolor": "white",
           "ticks": "",
           "title": {
            "standoff": 15
           },
           "zerolinecolor": "white",
           "zerolinewidth": 2
          },
          "yaxis": {
           "automargin": true,
           "gridcolor": "white",
           "linecolor": "white",
           "ticks": "",
           "title": {
            "standoff": 15
           },
           "zerolinecolor": "white",
           "zerolinewidth": 2
          }
         }
        },
        "title": {
         "text": "Hit v/s time year->2004"
        },
        "xaxis": {
         "anchor": "y",
         "domain": [
          0,
          1
         ],
         "title": {
          "text": "Time"
         }
        },
        "yaxis": {
         "anchor": "x",
         "domain": [
          0,
          1
         ],
         "title": {
          "text": "Hits"
         }
        }
       }
      },
      "text/html": [
       "<div>                            <div id=\"94a5cce5-adc3-43d6-907f-7613ee567017\" class=\"plotly-graph-div\" style=\"height:525px; width:100%;\"></div>            <script type=\"text/javascript\">                require([\"plotly\"], function(Plotly) {                    window.PLOTLYENV=window.PLOTLYENV || {};                                    if (document.getElementById(\"94a5cce5-adc3-43d6-907f-7613ee567017\")) {                    Plotly.newPlot(                        \"94a5cce5-adc3-43d6-907f-7613ee567017\",                        [{\"hovertemplate\": \"x=%{x}<br>y=%{y}<extra></extra>\", \"legendgroup\": \"\", \"line\": {\"color\": \"#636efa\", \"dash\": \"solid\"}, \"mode\": \"lines\", \"name\": \"\", \"showlegend\": false, \"type\": \"scattergl\", \"x\": [\"2004-03-07T16:05:49\", \"2004-03-07T16:06:51\", \"2004-03-07T16:10:02\", \"2004-03-07T16:11:58\", \"2004-03-07T16:20:55\", \"2004-03-07T16:23:12\", \"2004-03-07T16:24:16\", \"2004-03-07T16:29:16\", \"2004-03-07T16:30:29\", \"2004-03-07T16:31:48\", \"2004-03-07T16:32:50\", \"2004-03-07T16:33:53\", \"2004-03-07T16:35:19\", \"2004-03-07T16:36:22\", \"2004-03-07T16:37:27\", \"2004-03-07T16:39:24\", \"2004-03-07T16:43:54\", \"2004-03-07T16:45:56\", \"2004-03-07T16:47:12\", \"2004-03-07T16:47:46\", \"2004-03-07T16:49:04\", \"2004-03-07T16:50:54\", \"2004-03-07T16:52:35\", \"2004-03-07T16:53:46\", \"2004-03-07T16:54:55\", \"2004-03-07T16:56:39\", \"2004-03-07T16:58:54\", \"2004-03-07T17:01:53\", \"2004-03-07T17:09:01\", \"2004-03-07T17:10:20\", \"2004-03-07T17:13:50\", \"2004-03-07T17:16:00\", \"2004-03-07T17:17:27\", \"2004-03-07T17:18:36\", \"2004-03-07T17:18:41\", \"2004-03-07T17:21:44\", \"2004-03-07T17:22:49\", \"2004-03-07T17:23:54\", \"2004-03-07T17:26:30\", \"2004-03-07T17:27:37\", \"2004-03-07T17:28:45\", \"2004-03-07T17:29:59\", \"2004-03-07T17:31:39\", \"2004-03-07T17:35:35\", \"2004-03-07T17:39:39\", \"2004-03-07T17:42:15\", \"2004-03-07T17:46:17\", \"2004-03-07T17:47:43\", \"2004-03-07T17:50:44\", \"2004-03-07T17:53:45\", \"2004-03-07T17:56:54\", \"2004-03-07T17:58:00\", \"2004-03-07T18:00:09\", \"2004-03-07T18:02:10\", \"2004-03-07T18:04:05\", \"2004-03-07T18:06:14\", \"2004-03-07T18:09:00\", \"2004-03-07T18:10:09\", \"2004-03-07T18:10:18\", \"2004-03-07T18:10:20\", \"2004-03-07T18:17:26\", \"2004-03-07T18:19:01\", \"2004-03-07T18:19:16\", \"2004-03-07T18:22:52\", \"2004-03-07T18:26:32\", \"2004-03-07T18:32:39\", \"2004-03-07T18:34:42\", \"2004-03-07T18:42:29\", \"2004-03-07T18:46:00\", \"2004-03-07T18:47:06\", \"2004-03-07T18:48:15\", \"2004-03-07T18:52:30\", \"2004-03-07T18:53:55\", \"2004-03-07T18:57:07\", \"2004-03-07T18:58:52\", \"2004-03-07T18:59:52\", \"2004-03-07T19:01:48\", \"2004-03-07T19:03:58\", \"2004-03-07T19:08:55\", \"2004-03-07T19:10:13\", \"2004-03-07T19:15:38\", \"2004-03-07T19:16:44\", \"2004-03-07T19:18:05\", \"2004-03-07T19:19:19\", \"2004-03-07T19:21:01\", \"2004-03-07T19:22:11\", \"2004-03-07T19:24:57\", \"2004-03-07T19:26:22\", \"2004-03-07T19:29:46\", \"2004-03-07T19:31:25\", \"2004-03-07T19:32:45\", \"2004-03-07T19:36:14\", \"2004-03-07T19:39:40\", \"2004-03-07T19:41:33\", \"2004-03-07T19:42:45\", \"2004-03-07T19:47:36\", \"2004-03-07T19:49:28\", \"2004-03-07T19:52:28\", \"2004-03-07T19:54:33\", \"2004-03-07T19:55:40\", \"2004-03-07T19:56:41\", \"2004-03-07T19:58:24\", \"2004-03-07T20:00:06\", \"2004-03-07T20:02:13\", \"2004-03-07T20:03:29\", \"2004-03-07T20:04:03\", \"2004-03-07T20:04:35\", \"2004-03-07T20:07:12\", \"2004-03-07T20:10:50\", \"2004-03-07T20:11:33\", \"2004-03-07T20:12:55\", \"2004-03-07T20:23:35\", \"2004-03-07T20:25:31\", \"2004-03-07T20:31:40\", \"2004-03-07T20:35:28\", \"2004-03-07T20:38:14\", \"2004-03-07T20:40:41\", \"2004-03-07T20:42:09\", \"2004-03-07T20:44:48\", \"2004-03-07T20:55:43\", \"2004-03-07T20:56:56\", \"2004-03-07T20:58:27\", \"2004-03-07T21:03:48\", \"2004-03-07T21:06:05\", \"2004-03-07T21:07:24\", \"2004-03-07T21:14:32\", \"2004-03-07T21:16:17\", \"2004-03-07T21:16:18\", \"2004-03-07T21:16:21\", \"2004-03-07T21:16:23\", \"2004-03-07T21:16:33\", \"2004-03-07T21:16:40\", \"2004-03-07T21:20:14\", \"2004-03-07T21:21:40\", \"2004-03-07T21:23:38\", \"2004-03-07T21:31:12\", \"2004-03-07T21:33:51\", \"2004-03-07T21:34:00\", \"2004-03-07T21:39:55\", \"2004-03-07T21:41:04\", \"2004-03-07T21:42:47\", \"2004-03-07T21:44:10\", \"2004-03-07T21:50:22\", \"2004-03-07T21:52:05\", \"2004-03-07T22:03:19\", \"2004-03-07T22:04:44\", \"2004-03-07T22:06:16\", \"2004-03-07T22:07:33\", \"2004-03-07T22:08:43\", \"2004-03-07T22:09:44\", \"2004-03-07T22:10:55\", \"2004-03-07T22:12:28\", \"2004-03-07T22:15:57\", \"2004-03-07T22:17:40\", \"2004-03-07T22:27:18\", \"2004-03-07T22:29:10\", \"2004-03-07T22:29:12\", \"2004-03-07T22:29:13\", \"2004-03-07T22:29:41\", \"2004-03-07T22:30:08\", \"2004-03-07T22:31:25\", \"2004-03-07T22:35:53\", \"2004-03-07T22:36:58\", \"2004-03-07T22:39:00\", \"2004-03-07T22:45:46\", \"2004-03-07T22:47:19\", \"2004-03-07T22:48:55\", \"2004-03-07T22:51:55\", \"2004-03-07T22:53:36\", \"2004-03-07T22:54:43\", \"2004-03-07T22:58:24\", \"2004-03-07T23:09:07\", \"2004-03-07T23:10:27\", \"2004-03-07T23:10:44\", \"2004-03-07T23:13:51\", \"2004-03-07T23:15:51\", \"2004-03-07T23:16:57\", \"2004-03-07T23:19:01\", \"2004-03-07T23:20:26\", \"2004-03-07T23:23:00\", \"2004-03-07T23:27:26\", \"2004-03-07T23:30:23\", \"2004-03-07T23:34:31\", \"2004-03-07T23:36:48\", \"2004-03-07T23:36:59\", \"2004-03-07T23:37:48\", \"2004-03-07T23:42:44\", \"2004-03-07T23:47:58\", \"2004-03-07T23:50:03\", \"2004-03-07T23:51:38\", \"2004-03-07T23:56:30\", \"2004-03-07T23:58:53\", \"2004-03-08T00:05:30\", \"2004-03-08T00:05:35\", \"2004-03-08T00:06:32\", \"2004-03-08T00:08:58\", \"2004-03-08T00:11:22\", \"2004-03-08T00:17:00\", \"2004-03-08T00:17:22\", \"2004-03-08T00:19:51\", \"2004-03-08T00:21:54\", \"2004-03-08T00:25:11\", \"2004-03-08T00:27:53\", \"2004-03-08T00:29:13\", \"2004-03-08T00:32:45\", \"2004-03-08T00:36:21\", \"2004-03-08T00:37:23\", \"2004-03-08T00:40:10\", \"2004-03-08T00:43:43\", \"2004-03-08T00:50:59\", \"2004-03-08T00:52:12\", \"2004-03-08T00:54:26\", \"2004-03-08T00:55:38\", \"2004-03-08T01:00:08\", \"2004-03-08T01:01:15\", \"2004-03-08T01:02:16\", \"2004-03-08T01:04:05\", \"2004-03-08T01:04:54\", \"2004-03-08T01:10:43\", \"2004-03-08T01:12:20\", \"2004-03-08T01:16:37\", \"2004-03-08T01:19:18\", \"2004-03-08T01:24:13\", \"2004-03-08T01:25:15\", \"2004-03-08T01:29:17\", \"2004-03-08T01:30:39\", \"2004-03-08T01:33:14\", \"2004-03-08T01:35:13\", \"2004-03-08T01:41:14\", \"2004-03-08T01:46:05\", \"2004-03-08T01:47:06\", \"2004-03-08T01:48:06\", \"2004-03-08T01:50:37\", \"2004-03-08T01:59:13\", \"2004-03-08T02:00:30\", \"2004-03-08T02:01:34\", \"2004-03-08T02:03:12\", \"2004-03-08T02:05:15\", \"2004-03-08T02:06:17\", \"2004-03-08T02:07:21\", \"2004-03-08T02:09:08\", \"2004-03-08T02:12:24\", \"2004-03-08T02:16:24\", \"2004-03-08T02:17:10\", \"2004-03-08T02:22:19\", \"2004-03-08T02:23:45\", \"2004-03-08T02:26:44\", \"2004-03-08T02:27:51\", \"2004-03-08T02:33:28\", \"2004-03-08T02:34:40\", \"2004-03-08T02:42:36\", \"2004-03-08T02:45:03\", \"2004-03-08T02:46:12\", \"2004-03-08T02:47:58\", \"2004-03-08T02:48:05\", \"2004-03-08T02:50:53\", \"2004-03-08T02:50:54\", \"2004-03-08T02:52:39\", \"2004-03-08T02:54:29\", \"2004-03-08T02:54:54\", \"2004-03-08T02:59:03\", \"2004-03-08T03:01:12\", \"2004-03-08T03:06:31\", \"2004-03-08T03:07:59\", \"2004-03-08T03:09:20\", \"2004-03-08T03:11:28\", \"2004-03-08T03:16:22\", \"2004-03-08T03:17:50\", \"2004-03-08T03:21:16\", \"2004-03-08T03:26:06\", \"2004-03-08T03:28:02\", \"2004-03-08T03:33:52\", \"2004-03-08T03:35:42\", \"2004-03-08T03:40:51\", \"2004-03-08T03:42:20\", \"2004-03-08T03:46:27\", \"2004-03-08T03:48:18\", \"2004-03-08T03:49:24\", \"2004-03-08T03:51:05\", \"2004-03-08T03:52:17\", \"2004-03-08T03:53:59\", \"2004-03-08T03:54:03\", \"2004-03-08T03:55:09\", \"2004-03-08T04:16:08\", \"2004-03-08T04:18:28\", \"2004-03-08T04:20:48\", \"2004-03-08T04:21:53\", \"2004-03-08T04:22:55\", \"2004-03-08T04:24:47\", \"2004-03-08T04:25:38\", \"2004-03-08T04:25:44\", \"2004-03-08T04:26:02\", \"2004-03-08T04:26:11\", \"2004-03-08T04:28:34\", \"2004-03-08T04:28:38\", \"2004-03-08T04:28:41\", \"2004-03-08T04:28:42\", \"2004-03-08T04:28:52\", \"2004-03-08T04:29:00\", \"2004-03-08T04:29:11\", \"2004-03-08T04:29:21\", \"2004-03-08T04:29:30\", \"2004-03-08T04:33:25\", \"2004-03-08T04:40:32\", \"2004-03-08T04:43:52\", \"2004-03-08T04:52:13\", \"2004-03-08T04:55:40\", \"2004-03-08T04:59:13\", \"2004-03-08T05:00:42\", \"2004-03-08T05:00:44\", \"2004-03-08T05:00:45\", \"2004-03-08T05:00:46\", \"2004-03-08T05:00:52\", \"2004-03-08T05:01:02\", \"2004-03-08T05:01:14\", \"2004-03-08T05:01:58\", \"2004-03-08T05:02:06\", \"2004-03-08T05:02:07\", \"2004-03-08T05:03:13\", \"2004-03-08T05:13:35\", \"2004-03-08T05:16:15\", \"2004-03-08T05:16:20\", \"2004-03-08T05:22:57\", \"2004-03-08T05:23:37\", \"2004-03-08T05:24:18\", \"2004-03-08T05:24:29\", \"2004-03-08T05:24:50\", \"2004-03-08T05:25:46\", \"2004-03-08T05:26:02\", \"2004-03-08T05:26:06\", \"2004-03-08T05:26:08\", \"2004-03-08T05:26:16\", \"2004-03-08T05:30:07\", \"2004-03-08T05:31:47\", \"2004-03-08T05:32:01\", \"2004-03-08T05:34:33\", \"2004-03-08T05:36:56\", \"2004-03-08T05:38:57\", \"2004-03-08T05:42:06\", \"2004-03-08T05:47:38\", \"2004-03-08T05:48:48\", \"2004-03-08T05:51:45\", \"2004-03-08T05:56:08\", \"2004-03-08T05:57:15\", \"2004-03-08T05:58:39\", \"2004-03-08T06:01:51\", \"2004-03-08T06:09:37\", \"2004-03-08T06:17:13\", \"2004-03-08T06:20:36\", \"2004-03-08T06:23:52\", \"2004-03-08T06:32:14\", \"2004-03-08T06:37:19\", \"2004-03-08T06:41:22\", \"2004-03-08T06:42:29\", \"2004-03-08T06:43:32\", \"2004-03-08T06:47:41\", \"2004-03-08T06:49:27\", \"2004-03-08T06:54:30\", \"2004-03-08T06:57:09\", \"2004-03-08T06:57:46\", \"2004-03-08T07:00:15\", \"2004-03-08T07:07:13\", \"2004-03-08T07:09:12\", \"2004-03-08T07:09:21\", \"2004-03-08T07:10:26\", \"2004-03-08T07:11:37\", \"2004-03-08T07:12:39\", \"2004-03-08T07:22:13\", \"2004-03-08T07:23:38\", \"2004-03-08T07:24:43\", \"2004-03-08T07:25:56\", \"2004-03-08T07:27:01\", \"2004-03-08T07:27:36\", \"2004-03-08T07:27:37\", \"2004-03-08T07:28:29\", \"2004-03-08T07:29:56\", \"2004-03-08T07:35:50\", \"2004-03-08T07:39:31\", \"2004-03-08T07:40:54\", \"2004-03-08T07:43:21\", \"2004-03-08T07:44:53\", \"2004-03-08T07:49:56\", \"2004-03-08T07:51:39\", \"2004-03-08T07:53:19\", \"2004-03-08T07:53:37\", \"2004-03-08T07:53:38\", \"2004-03-08T07:54:30\", \"2004-03-08T07:56:34\", \"2004-03-08T08:04:46\", \"2004-03-08T08:09:32\", \"2004-03-08T08:12:50\", \"2004-03-08T08:14:15\", \"2004-03-08T08:15:21\", \"2004-03-08T08:17:09\", \"2004-03-08T08:18:52\", \"2004-03-08T08:21:00\", \"2004-03-08T08:21:47\", \"2004-03-08T08:25:37\", \"2004-03-08T08:26:41\", \"2004-03-08T08:27:04\", \"2004-03-08T08:27:08\", \"2004-03-08T08:27:14\", \"2004-03-08T08:27:23\", \"2004-03-08T08:27:28\", \"2004-03-08T08:28:23\", \"2004-03-08T08:29:36\", \"2004-03-08T08:29:57\", \"2004-03-08T08:30:25\", \"2004-03-08T08:31:37\", \"2004-03-08T08:32:24\", \"2004-03-08T08:32:27\", \"2004-03-08T08:32:34\", \"2004-03-08T08:33:27\", \"2004-03-08T08:33:30\", \"2004-03-08T08:33:39\", \"2004-03-08T08:33:51\", \"2004-03-08T08:33:52\", \"2004-03-08T08:33:57\", \"2004-03-08T08:34:09\", \"2004-03-08T08:34:53\", \"2004-03-08T08:36:05\", \"2004-03-08T08:37:14\", \"2004-03-08T08:37:17\", \"2004-03-08T08:37:23\", \"2004-03-08T08:37:53\", \"2004-03-08T08:40:15\", \"2004-03-08T08:52:13\", \"2004-03-08T08:53:17\", \"2004-03-08T08:55:12\", \"2004-03-08T09:02:14\", \"2004-03-08T09:02:21\", \"2004-03-08T09:02:29\", \"2004-03-08T09:02:31\", \"2004-03-08T09:02:32\", \"2004-03-08T09:02:54\", \"2004-03-08T09:03:18\", \"2004-03-08T09:05:54\", \"2004-03-08T09:09:55\", \"2004-03-08T09:12:54\", \"2004-03-08T09:16:26\", \"2004-03-08T09:17:16\", \"2004-03-08T09:17:17\", \"2004-03-08T09:17:18\", \"2004-03-08T09:18:53\", \"2004-03-08T09:18:56\", \"2004-03-08T09:18:57\", \"2004-03-08T09:23:03\", \"2004-03-08T09:25:42\", \"2004-03-08T09:29:35\", \"2004-03-08T09:29:36\", \"2004-03-08T09:30:10\", \"2004-03-08T09:30:11\", \"2004-03-08T09:30:40\", \"2004-03-08T09:32:32\", \"2004-03-08T09:33:46\", \"2004-03-08T09:33:53\", \"2004-03-08T09:34:58\", \"2004-03-08T09:36:35\", \"2004-03-08T09:38:11\", \"2004-03-08T09:40:30\", \"2004-03-08T09:41:15\", \"2004-03-08T09:42:27\", \"2004-03-08T09:45:15\", \"2004-03-08T10:01:06\", \"2004-03-08T10:05:40\", \"2004-03-08T10:06:28\", \"2004-03-08T10:08:02\", \"2004-03-08T10:09:52\", \"2004-03-08T10:14:46\", \"2004-03-08T10:16:52\", \"2004-03-08T10:18:21\", \"2004-03-08T10:21:21\", \"2004-03-08T10:30:56\", \"2004-03-08T10:32:18\", \"2004-03-08T10:34:55\", \"2004-03-08T10:40:09\", \"2004-03-08T10:45:25\", \"2004-03-08T10:46:34\", \"2004-03-08T10:48:02\", \"2004-03-08T10:48:05\", \"2004-03-08T10:48:06\", \"2004-03-08T10:48:19\", \"2004-03-08T10:48:37\", \"2004-03-08T10:50:05\", \"2004-03-08T11:03:34\", \"2004-03-08T11:06:20\", \"2004-03-08T11:06:28\", \"2004-03-08T11:09:24\", \"2004-03-08T11:10:09\", \"2004-03-08T11:10:24\", \"2004-03-08T11:11:04\", \"2004-03-08T11:11:10\", \"2004-03-08T11:11:15\", \"2004-03-08T11:11:26\", \"2004-03-08T11:11:51\", \"2004-03-08T11:15:51\", \"2004-03-08T11:17:49\", \"2004-03-08T11:19:43\", \"2004-03-08T11:24:12\", \"2004-03-08T11:25:16\", \"2004-03-08T11:40:41\", \"2004-03-08T11:40:42\", \"2004-03-08T11:41:14\", \"2004-03-08T11:43:17\", \"2004-03-08T11:45:08\", \"2004-03-08T11:47:52\", \"2004-03-08T11:49:23\", \"2004-03-08T11:51:20\", \"2004-03-08T11:56:19\", \"2004-03-08T11:57:28\", \"2004-03-08T12:00:26\", \"2004-03-08T12:06:03\", \"2004-03-08T12:06:29\", \"2004-03-08T12:07:13\", \"2004-03-08T12:08:32\", \"2004-03-08T12:10:39\", \"2004-03-08T12:12:50\", \"2004-03-08T12:15:36\", \"2004-03-08T12:20:18\", \"2004-03-08T12:25:47\", \"2004-03-08T12:28:09\", \"2004-03-08T12:31:32\", \"2004-03-08T12:33:09\", \"2004-03-08T12:39:34\", \"2004-03-08T12:40:36\", \"2004-03-08T12:42:04\", \"2004-03-08T12:43:08\", \"2004-03-08T12:45:13\", \"2004-03-08T12:47:42\", \"2004-03-08T12:55:18\", \"2004-03-08T12:58:39\", \"2004-03-08T12:58:50\", \"2004-03-08T12:59:18\", \"2004-03-08T12:59:34\", \"2004-03-08T12:59:37\", \"2004-03-08T12:59:55\", \"2004-03-08T13:00:12\", \"2004-03-08T13:00:13\", \"2004-03-08T13:00:20\", \"2004-03-08T13:00:27\", \"2004-03-08T13:00:40\", \"2004-03-08T13:01:27\", \"2004-03-08T13:01:29\", \"2004-03-08T13:01:35\", \"2004-03-08T13:01:38\", \"2004-03-08T13:01:42\", \"2004-03-08T13:01:55\", \"2004-03-08T13:02:03\", \"2004-03-08T13:02:16\", \"2004-03-08T13:04:14\", \"2004-03-08T13:07:16\", \"2004-03-08T13:08:17\", \"2004-03-08T13:12:54\", \"2004-03-08T13:15:03\", \"2004-03-08T13:16:11\", \"2004-03-08T13:17:23\", \"2004-03-08T13:18:57\", \"2004-03-08T13:24:49\", \"2004-03-08T13:29:37\", \"2004-03-08T13:31:16\", \"2004-03-08T13:32:35\", \"2004-03-08T13:35:02\", \"2004-03-08T13:36:06\", \"2004-03-08T13:38:39\", \"2004-03-08T13:45:46\", \"2004-03-08T13:48:06\", \"2004-03-08T13:49:47\", \"2004-03-08T13:55:51\", \"2004-03-08T13:56:52\", \"2004-03-08T13:57:52\", \"2004-03-08T13:58:55\", \"2004-03-08T14:00:08\", \"2004-03-08T14:01:36\", \"2004-03-08T14:07:26\", \"2004-03-08T14:11:28\", \"2004-03-08T14:12:49\", \"2004-03-08T14:13:51\", \"2004-03-08T14:15:01\", \"2004-03-08T14:16:38\", \"2004-03-08T14:16:39\", \"2004-03-08T14:23:54\", \"2004-03-08T14:25:33\", \"2004-03-08T14:26:45\", \"2004-03-08T14:27:46\", \"2004-03-08T14:28:46\", \"2004-03-08T14:33:56\", \"2004-03-08T14:40:18\", \"2004-03-08T14:41:22\", \"2004-03-08T14:42:44\", \"2004-03-08T14:43:45\", \"2004-03-08T14:52:51\", \"2004-03-08T14:54:56\", \"2004-03-08T14:57:19\", \"2004-03-08T14:58:58\", \"2004-03-08T15:00:07\", \"2004-03-08T15:01:12\", \"2004-03-08T15:02:29\", \"2004-03-08T15:03:49\", \"2004-03-08T15:07:41\", \"2004-03-08T15:15:17\", \"2004-03-08T15:16:14\", \"2004-03-08T15:17:18\", \"2004-03-08T15:19:35\", \"2004-03-08T16:54:47\", \"2004-03-08T17:39:00\", \"2004-03-08T17:39:01\", \"2004-03-08T18:14:44\", \"2004-03-08T18:20:44\", \"2004-03-08T18:23:43\", \"2004-03-08T18:39:33\", \"2004-03-08T18:39:35\", \"2004-03-08T18:39:36\", \"2004-03-08T18:41:16\", \"2004-03-08T19:08:27\", \"2004-03-08T19:08:28\", \"2004-03-08T19:08:39\", \"2004-03-08T19:08:52\", \"2004-03-08T19:10:06\", \"2004-03-08T19:24:42\", \"2004-03-08T20:09:57\", \"2004-03-08T20:48:18\", \"2004-03-08T20:48:25\", \"2004-03-08T20:48:26\", \"2004-03-08T20:48:27\", \"2004-03-08T20:48:48\", \"2004-03-08T20:48:49\", \"2004-03-08T20:48:53\", \"2004-03-08T20:50:59\", \"2004-03-08T20:51:01\", \"2004-03-08T20:51:51\", \"2004-03-08T20:52:01\", \"2004-03-08T22:03:04\", \"2004-03-08T22:03:28\", \"2004-03-08T22:03:29\", \"2004-03-08T22:03:44\", \"2004-03-08T22:03:52\", \"2004-03-08T22:04:09\", \"2004-03-08T22:04:10\", \"2004-03-08T22:04:24\", \"2004-03-08T22:04:35\", \"2004-03-08T22:30:01\", \"2004-03-08T23:42:55\", \"2004-03-09T01:48:27\", \"2004-03-09T01:48:28\", \"2004-03-09T01:49:53\", \"2004-03-09T01:49:57\", \"2004-03-09T01:50:35\", \"2004-03-09T01:50:54\", \"2004-03-09T01:51:17\", \"2004-03-09T01:51:41\", \"2004-03-09T01:51:45\", \"2004-03-09T01:51:54\", \"2004-03-09T01:52:12\", \"2004-03-09T02:33:10\", \"2004-03-09T02:33:17\", \"2004-03-09T02:33:18\", \"2004-03-09T02:39:17\", \"2004-03-09T02:39:18\", \"2004-03-09T03:10:39\", \"2004-03-09T05:01:53\", \"2004-03-09T05:02:11\", \"2004-03-09T05:02:14\", \"2004-03-09T05:02:19\", \"2004-03-09T05:02:27\", \"2004-03-09T05:02:28\", \"2004-03-09T05:04:09\", \"2004-03-09T05:09:30\", \"2004-03-09T05:09:31\", \"2004-03-09T05:12:45\", \"2004-03-09T05:13:40\", \"2004-03-09T05:14:13\", \"2004-03-09T05:14:14\", \"2004-03-09T05:20:20\", \"2004-03-09T06:29:03\", \"2004-03-09T06:33:21\", \"2004-03-09T06:34:51\", \"2004-03-09T06:34:53\", \"2004-03-09T06:34:54\", \"2004-03-09T06:34:55\", \"2004-03-09T06:34:56\", \"2004-03-09T06:34:57\", \"2004-03-09T06:34:58\", \"2004-03-09T06:35:04\", \"2004-03-09T06:35:06\", \"2004-03-09T06:35:09\", \"2004-03-09T06:35:10\", \"2004-03-09T06:35:13\", \"2004-03-09T06:35:17\", \"2004-03-09T06:35:42\", \"2004-03-09T06:36:28\", \"2004-03-09T06:36:29\", \"2004-03-09T06:36:51\", \"2004-03-09T06:37:00\", \"2004-03-09T06:37:40\", \"2004-03-09T07:27:10\", \"2004-03-09T07:27:44\", \"2004-03-09T07:27:59\", \"2004-03-09T07:28:05\", \"2004-03-09T07:28:12\", \"2004-03-09T08:08:35\", \"2004-03-09T08:08:37\", \"2004-03-09T08:08:38\", \"2004-03-09T08:08:54\", \"2004-03-09T08:08:57\", \"2004-03-09T08:09:39\", \"2004-03-09T08:09:58\", \"2004-03-09T08:10:04\", \"2004-03-09T08:10:06\", \"2004-03-09T08:10:12\", \"2004-03-09T08:10:20\", \"2004-03-09T08:17:27\", \"2004-03-09T08:17:34\", \"2004-03-09T08:17:50\", \"2004-03-09T08:18:17\", \"2004-03-09T08:18:19\", \"2004-03-09T08:18:25\", \"2004-03-09T08:18:26\", \"2004-03-09T08:18:27\", \"2004-03-09T08:18:50\", \"2004-03-09T08:19:04\", \"2004-03-09T09:55:44\", \"2004-03-09T09:55:53\", \"2004-03-09T10:08:07\", \"2004-03-09T10:29:38\", \"2004-03-09T10:29:40\", \"2004-03-09T10:29:41\", \"2004-03-09T11:21:36\", \"2004-03-09T11:43:54\", \"2004-03-09T11:43:56\", \"2004-03-09T11:57:20\", \"2004-03-09T12:16:06\", \"2004-03-09T12:21:08\", \"2004-03-09T12:21:09\", \"2004-03-09T12:21:10\", \"2004-03-09T12:21:49\", \"2004-03-09T12:52:21\", \"2004-03-09T12:52:58\", \"2004-03-09T13:14:53\", \"2004-03-09T13:15:15\", \"2004-03-09T13:15:23\", \"2004-03-09T13:15:33\", \"2004-03-09T13:15:49\", \"2004-03-09T13:16:00\", \"2004-03-09T13:49:05\", \"2004-03-09T14:43:02\", \"2004-03-09T14:43:03\", \"2004-03-09T14:43:04\", \"2004-03-09T14:43:05\", \"2004-03-09T14:43:12\", \"2004-03-09T14:50:15\", \"2004-03-09T14:50:23\", \"2004-03-09T14:50:24\", \"2004-03-09T14:50:28\", \"2004-03-09T14:56:15\", \"2004-03-09T15:03:55\", \"2004-03-09T15:25:03\", \"2004-03-09T15:25:05\", \"2004-03-09T15:25:14\", \"2004-03-09T15:25:15\", \"2004-03-09T15:37:35\", \"2004-03-09T15:37:36\", \"2004-03-09T15:44:52\", \"2004-03-09T15:44:57\", \"2004-03-09T15:51:10\", \"2004-03-09T15:51:24\", \"2004-03-09T15:52:09\", \"2004-03-09T15:52:15\", \"2004-03-09T15:53:40\", \"2004-03-09T15:53:49\", \"2004-03-09T15:53:56\", \"2004-03-09T16:23:55\", \"2004-03-09T16:27:48\", \"2004-03-09T17:10:26\", \"2004-03-09T17:10:28\", \"2004-03-09T17:33:58\", \"2004-03-09T17:42:41\", \"2004-03-09T17:42:42\", \"2004-03-09T17:43:54\", \"2004-03-09T17:45:02\", \"2004-03-09T18:00:43\", \"2004-03-09T18:00:44\", \"2004-03-09T18:01:11\", \"2004-03-09T18:01:24\", \"2004-03-09T18:01:25\", \"2004-03-09T18:01:28\", \"2004-03-09T18:01:45\", \"2004-03-09T18:02:07\", \"2004-03-09T18:06:27\", \"2004-03-09T20:23:32\", \"2004-03-09T20:25:15\", \"2004-03-09T20:25:18\", \"2004-03-09T20:34:55\", \"2004-03-09T20:45:43\", \"2004-03-09T20:45:48\", \"2004-03-09T20:45:51\", \"2004-03-09T21:33:22\", \"2004-03-09T21:51:09\", \"2004-03-09T21:51:16\", \"2004-03-09T22:23:39\", \"2004-03-09T22:31:21\", \"2004-03-09T22:40:32\", \"2004-03-09T22:40:33\", \"2004-03-09T22:44:31\", \"2004-03-09T23:36:11\", \"2004-03-10T00:21:51\", \"2004-03-10T00:24:58\", \"2004-03-10T00:29:44\", \"2004-03-10T00:29:45\", \"2004-03-10T02:07:27\", \"2004-03-10T02:31:33\", \"2004-03-10T02:31:44\", \"2004-03-10T02:52:49\", \"2004-03-10T02:55:00\", \"2004-03-10T03:11:40\", \"2004-03-10T03:11:50\", \"2004-03-10T03:11:53\", \"2004-03-10T03:12:07\", \"2004-03-10T03:12:20\", \"2004-03-10T03:12:33\", \"2004-03-10T03:12:45\", \"2004-03-10T03:12:48\", \"2004-03-10T03:12:56\", \"2004-03-10T03:14:40\", \"2004-03-10T03:14:54\", \"2004-03-10T03:15:28\", \"2004-03-10T03:15:33\", \"2004-03-10T03:52:49\", \"2004-03-10T03:52:51\", \"2004-03-10T03:52:52\", \"2004-03-10T05:21:38\", \"2004-03-10T07:36:56\", \"2004-03-10T08:36:28\", \"2004-03-10T08:36:30\", \"2004-03-10T08:36:31\", \"2004-03-10T08:36:57\", \"2004-03-10T08:36:58\", \"2004-03-10T08:51:31\", \"2004-03-10T08:52:13\", \"2004-03-10T08:52:16\", \"2004-03-10T08:52:25\", \"2004-03-10T08:52:52\", \"2004-03-10T08:53:12\", \"2004-03-10T08:53:19\", \"2004-03-10T08:53:33\", \"2004-03-10T08:54:15\", \"2004-03-10T08:54:37\", \"2004-03-10T08:55:03\", \"2004-03-10T08:55:17\", \"2004-03-10T08:55:40\", \"2004-03-10T08:55:49\", \"2004-03-10T08:56:10\", \"2004-03-10T08:56:13\", \"2004-03-10T09:05:59\", \"2004-03-10T09:41:56\", \"2004-03-10T10:37:53\", \"2004-03-10T10:38:04\", \"2004-03-10T10:38:05\", \"2004-03-10T10:38:23\", \"2004-03-10T10:38:27\", \"2004-03-10T10:59:06\", \"2004-03-10T11:12:51\", \"2004-03-10T11:13:21\", \"2004-03-10T11:18:59\", \"2004-03-10T11:19:00\", \"2004-03-10T11:19:32\", \"2004-03-10T11:41:25\", \"2004-03-10T11:41:52\", \"2004-03-10T11:43:26\", \"2004-03-10T11:44:13\", \"2004-03-10T11:44:27\", \"2004-03-10T11:44:44\", \"2004-03-10T11:45:22\", \"2004-03-10T11:45:51\", \"2004-03-10T11:46:42\", \"2004-03-10T11:47:37\", \"2004-03-10T11:49:57\", \"2004-03-10T11:50:28\", \"2004-03-10T11:50:35\", \"2004-03-10T11:52:14\", \"2004-03-10T11:52:42\", \"2004-03-10T12:02:38\", \"2004-03-10T12:02:43\", \"2004-03-10T12:02:45\", \"2004-03-10T12:02:46\", \"2004-03-10T12:02:50\", \"2004-03-10T12:02:52\", \"2004-03-10T12:02:59\", \"2004-03-10T12:03:00\", \"2004-03-10T12:03:03\", \"2004-03-10T12:03:04\", \"2004-03-10T12:03:08\", \"2004-03-10T12:03:45\", \"2004-03-10T12:05:06\", \"2004-03-10T12:05:22\", \"2004-03-10T12:05:38\", \"2004-03-10T12:05:40\", \"2004-03-10T12:05:54\", \"2004-03-10T12:05:58\", \"2004-03-10T12:06:07\", \"2004-03-10T12:06:09\", \"2004-03-10T12:07:07\", \"2004-03-10T12:07:08\", \"2004-03-10T12:07:12\", \"2004-03-10T12:07:13\", \"2004-03-10T12:07:14\", \"2004-03-10T12:07:25\", \"2004-03-10T12:16:59\", \"2004-03-10T12:19:02\", \"2004-03-10T12:19:05\", \"2004-03-10T12:19:06\", \"2004-03-10T12:19:08\", \"2004-03-10T12:22:32\", \"2004-03-10T12:25:25\", \"2004-03-10T12:25:28\", \"2004-03-10T12:25:29\", \"2004-03-10T13:13:23\", \"2004-03-10T13:15:44\", \"2004-03-10T13:15:53\", \"2004-03-10T13:15:54\", \"2004-03-10T13:41:37\", \"2004-03-10T13:42:23\", \"2004-03-10T14:20:51\", \"2004-03-10T14:21:36\", \"2004-03-10T14:22:13\", \"2004-03-10T15:06:20\", \"2004-03-10T15:06:24\", \"2004-03-10T15:06:25\", \"2004-03-10T15:10:10\", \"2004-03-10T15:10:13\", \"2004-03-10T15:49:55\", \"2004-03-10T16:29:30\", \"2004-03-10T16:31:19\", \"2004-03-10T16:33:04\", \"2004-03-10T16:47:44\", \"2004-03-10T16:52:44\", \"2004-03-10T16:54:36\", \"2004-03-10T18:13:54\", \"2004-03-10T18:17:24\", \"2004-03-10T19:55:54\", \"2004-03-10T19:55:56\", \"2004-03-10T20:22:41\", \"2004-03-10T20:22:42\", \"2004-03-10T20:23:11\", \"2004-03-10T20:23:41\", \"2004-03-10T20:23:52\", \"2004-03-10T21:56:34\", \"2004-03-10T21:58:46\", \"2004-03-10T21:59:16\", \"2004-03-10T21:59:17\", \"2004-03-10T21:59:18\", \"2004-03-10T22:00:03\", \"2004-03-10T22:00:04\", \"2004-03-10T22:00:05\", \"2004-03-10T22:16:58\", \"2004-03-10T23:08:28\", \"2004-03-10T23:08:30\", \"2004-03-10T23:08:31\", \"2004-03-11T00:07:57\", \"2004-03-11T00:07:58\", \"2004-03-11T00:42:01\", \"2004-03-11T00:43:57\", \"2004-03-11T00:43:59\", \"2004-03-11T00:44:08\", \"2004-03-11T01:39:53\", \"2004-03-11T02:27:39\", \"2004-03-11T03:35:49\", \"2004-03-11T03:35:57\", \"2004-03-11T03:35:58\", \"2004-03-11T03:50:09\", \"2004-03-11T06:11:19\", \"2004-03-11T06:11:21\", \"2004-03-11T06:11:38\", \"2004-03-11T06:11:39\", \"2004-03-11T06:11:46\", \"2004-03-11T06:11:47\", \"2004-03-11T06:12:41\", \"2004-03-11T06:12:43\", \"2004-03-11T06:13:07\", \"2004-03-11T06:13:08\", \"2004-03-11T06:14:03\", \"2004-03-11T06:14:04\", \"2004-03-11T06:16:40\", \"2004-03-11T06:17:06\", \"2004-03-11T06:17:11\", \"2004-03-11T06:27:31\", \"2004-03-11T06:27:36\", \"2004-03-11T06:48:05\", \"2004-03-11T07:15:10\", \"2004-03-11T07:15:11\", \"2004-03-11T07:19:57\", \"2004-03-11T07:20:05\", \"2004-03-11T07:20:09\", \"2004-03-11T07:39:30\", \"2004-03-11T08:14:18\", \"2004-03-11T08:45:41\", \"2004-03-11T08:45:42\", \"2004-03-11T08:45:49\", \"2004-03-11T08:45:54\", \"2004-03-11T10:55:40\", \"2004-03-11T10:58:16\", \"2004-03-11T10:58:27\", \"2004-03-11T11:12:40\", \"2004-03-11T11:33:35\", \"2004-03-11T11:49:51\", \"2004-03-11T11:49:53\", \"2004-03-11T11:49:54\", \"2004-03-11T11:54:59\", \"2004-03-11T11:55:22\", \"2004-03-11T11:55:23\", \"2004-03-11T11:55:26\", \"2004-03-11T12:28:50\", \"2004-03-11T12:28:51\", \"2004-03-11T12:29:03\", \"2004-03-11T12:29:27\", \"2004-03-11T12:56:35\", \"2004-03-11T12:56:58\", \"2004-03-11T12:57:18\", \"2004-03-11T12:57:24\", \"2004-03-11T12:57:45\", \"2004-03-11T12:58:03\", \"2004-03-11T12:58:37\", \"2004-03-11T12:58:50\", \"2004-03-11T12:59:07\", \"2004-03-11T12:59:33\", \"2004-03-11T12:59:52\", \"2004-03-11T13:00:12\", \"2004-03-11T13:00:47\", \"2004-03-11T13:00:57\", \"2004-03-11T13:01:21\", \"2004-03-11T13:01:37\", \"2004-03-11T13:01:58\", \"2004-03-11T13:02:22\", \"2004-03-11T13:02:42\", \"2004-03-11T13:03:06\", \"2004-03-11T13:03:23\", \"2004-03-11T13:03:48\", \"2004-03-11T13:04:09\", \"2004-03-11T13:04:30\", \"2004-03-11T13:04:52\", \"2004-03-11T13:05:13\", \"2004-03-11T13:05:33\", \"2004-03-11T13:05:54\", \"2004-03-11T13:06:17\", \"2004-03-11T13:06:39\", \"2004-03-11T13:07:02\", \"2004-03-11T13:07:20\", \"2004-03-11T13:07:40\", \"2004-03-11T13:08:03\", \"2004-03-11T13:08:44\", \"2004-03-11T13:09:04\", \"2004-03-11T13:09:21\", \"2004-03-11T13:09:24\", \"2004-03-11T13:09:52\", \"2004-03-11T13:10:11\", \"2004-03-11T13:10:27\", \"2004-03-11T13:10:52\", \"2004-03-11T13:11:09\", \"2004-03-11T13:11:41\", \"2004-03-11T13:12:54\", \"2004-03-11T13:18:15\", \"2004-03-11T13:22:32\", \"2004-03-11T13:24:03\", \"2004-03-11T13:24:04\", \"2004-03-11T13:26:38\", \"2004-03-11T13:27:05\", \"2004-03-11T14:14:44\", \"2004-03-11T14:14:47\", \"2004-03-11T14:14:50\", \"2004-03-11T14:22:08\", \"2004-03-11T14:22:09\", \"2004-03-11T14:26:26\", \"2004-03-11T14:28:53\", \"2004-03-11T14:29:44\", \"2004-03-11T14:29:52\", \"2004-03-11T14:30:51\", \"2004-03-11T14:31:43\", \"2004-03-11T14:31:48\", \"2004-03-11T14:33:01\", \"2004-03-11T14:53:12\", \"2004-03-11T15:17:08\", \"2004-03-11T15:51:49\", \"2004-03-11T15:52:07\", \"2004-03-11T15:52:12\", \"2004-03-11T15:52:18\", \"2004-03-11T15:52:19\", \"2004-03-11T15:52:37\", \"2004-03-11T15:52:38\", \"2004-03-11T15:52:39\", \"2004-03-11T16:02:37\", \"2004-03-11T16:12:59\", \"2004-03-11T16:13:02\", \"2004-03-11T16:13:03\", \"2004-03-11T16:33:23\", \"2004-03-11T18:11:39\", \"2004-03-11T18:11:40\", \"2004-03-11T18:31:35\", \"2004-03-11T18:57:52\", \"2004-03-11T20:12:24\", \"2004-03-11T20:49:32\", \"2004-03-11T20:49:37\", \"2004-03-11T20:49:38\", \"2004-03-11T20:59:05\", \"2004-03-11T23:56:31\", \"2004-03-12T01:30:44\", \"2004-03-12T02:27:29\", \"2004-03-12T02:27:32\", \"2004-03-12T03:32:56\", \"2004-03-12T04:57:20\", \"2004-03-12T04:57:21\", \"2004-03-12T04:57:56\", \"2004-03-12T04:59:21\", \"2004-03-12T05:03:19\", \"2004-03-12T05:19:31\", \"2004-03-12T05:25:20\", \"2004-03-12T05:25:24\", \"2004-03-12T05:25:25\", \"2004-03-12T05:44:35\", \"2004-03-12T05:44:50\", \"2004-03-12T05:44:51\", \"2004-03-12T05:51:36\", \"2004-03-12T08:33:32\", \"2004-03-12T09:12:01\", \"2004-03-12T09:12:02\", \"2004-03-12T11:01:26\", \"2004-03-12T11:01:28\", \"2004-03-12T11:01:29\", \"2004-03-12T11:16:36\", \"2004-03-12T11:16:55\", \"2004-03-12T11:16:56\", \"2004-03-12T11:39:14\", \"2004-03-12T11:39:25\", \"2004-03-12T11:39:31\", \"2004-03-12T12:23:11\", \"2004-03-12T12:23:17\", \"2004-03-12T12:23:18\", \"2004-03-12T12:23:40\", \"2004-03-12T12:23:41\", \"2004-03-12T13:04:01\", \"2004-03-12T13:18:57\", \"2004-03-12T13:25:45\"], \"xaxis\": \"x\", \"y\": [1, 1, 1, 5, 1, 1, 1, 1, 1, 1, 1, 1, 1, 1, 4, 1, 1, 1, 1, 1, 1, 1, 1, 1, 1, 4, 4, 4, 1, 1, 1, 1, 1, 1, 1, 1, 4, 1, 1, 5, 8, 1, 1, 1, 1, 1, 1, 1, 1, 1, 1, 2, 1, 1, 1, 1, 1, 1, 1, 1, 1, 1, 1, 1, 1, 1, 1, 1, 1, 1, 1, 1, 1, 3, 1, 1, 1, 1, 1, 1, 1, 1, 1, 1, 1, 1, 1, 1, 1, 1, 1, 1, 1, 1, 1, 1, 1, 1, 2, 1, 1, 1, 1, 1, 2, 1, 1, 1, 1, 1, 1, 1, 1, 1, 1, 1, 1, 2, 1, 1, 1, 1, 1, 1, 1, 1, 1, 1, 1, 1, 1, 8, 1, 1, 1, 1, 1, 1, 1, 1, 2, 1, 1, 1, 1, 1, 1, 1, 1, 1, 1, 1, 3, 1, 1, 1, 1, 1, 2, 1, 1, 1, 1, 1, 1, 1, 1, 1, 1, 1, 1, 4, 1, 1, 1, 1, 1, 3, 1, 2, 1, 1, 11, 1, 1, 1, 11, 10, 1, 1, 8, 2, 1, 2, 1, 1, 1, 1, 1, 1, 1, 1, 1, 1, 1, 1, 1, 3, 1, 1, 1, 1, 1, 1, 1, 1, 1, 1, 1, 1, 1, 1, 12, 4, 1, 2, 1, 1, 1, 1, 1, 1, 1, 1, 1, 1, 2, 1, 1, 1, 1, 1, 1, 1, 1, 1, 1, 5, 2, 1, 1, 1, 1, 1, 1, 1, 1, 1, 2, 1, 1, 4, 1, 1, 2, 1, 1, 1, 1, 1, 1, 1, 1, 1, 1, 1, 1, 1, 1, 1, 2, 1, 1, 1, 1, 1, 1, 1, 1, 2, 1, 1, 1, 2, 1, 1, 1, 1, 1, 1, 1, 1, 1, 1, 1, 1, 1, 1, 11, 1, 8, 1, 1, 1, 2, 1, 1, 8, 1, 1, 1, 1, 1, 1, 1, 1, 1, 1, 1, 1, 1, 4, 1, 1, 1, 1, 1, 1, 1, 1, 1, 1, 1, 1, 1, 1, 1, 1, 1, 1, 1, 1, 1, 4, 1, 1, 1, 1, 1, 1, 1, 1, 1, 1, 2, 1, 1, 1, 1, 1, 1, 1, 2, 1, 1, 2, 1, 1, 1, 1, 1, 1, 1, 4, 2, 1, 1, 1, 1, 1, 1, 1, 1, 1, 1, 1, 1, 4, 1, 3, 1, 1, 3, 1, 1, 2, 1, 2, 1, 1, 1, 3, 1, 1, 1, 2, 1, 1, 1, 3, 1, 1, 1, 1, 1, 1, 1, 1, 1, 1, 1, 1, 1, 10, 1, 1, 9, 1, 1, 1, 1, 1, 1, 1, 2, 1, 1, 1, 1, 1, 1, 1, 4, 1, 1, 2, 1, 1, 2, 1, 1, 1, 2, 1, 1, 1, 1, 1, 1, 1, 1, 1, 1, 1, 1, 1, 1, 1, 1, 1, 1, 1, 2, 2, 1, 1, 1, 1, 1, 3, 1, 2, 1, 1, 1, 1, 1, 1, 1, 1, 1, 1, 1, 1, 1, 1, 1, 1, 1, 1, 1, 1, 1, 1, 1, 1, 1, 1, 1, 1, 1, 1, 1, 1, 1, 1, 1, 1, 1, 1, 8, 1, 1, 1, 1, 1, 1, 1, 1, 2, 1, 8, 1, 1, 1, 1, 1, 1, 2, 1, 1, 1, 1, 1, 1, 2, 1, 1, 1, 1, 1, 1, 1, 1, 1, 1, 1, 1, 2, 2, 1, 3, 1, 1, 1, 1, 1, 1, 1, 1, 4, 1, 1, 1, 1, 1, 1, 1, 1, 4, 1, 1, 1, 1, 1, 3, 1, 1, 1, 1, 1, 1, 1, 2, 1, 1, 1, 10, 1, 1, 1, 1, 1, 1, 1, 1, 1, 1, 1, 2, 1, 1, 1, 1, 1, 1, 1, 1, 1, 1, 1, 1, 1, 1, 1, 1, 1, 1, 3, 1, 1, 1, 1, 1, 1, 1, 2, 1, 1, 1, 1, 1, 1, 1, 1, 2, 1, 1, 1, 1, 1, 1, 1, 1, 1, 1, 1, 1, 1, 1, 1, 1, 1, 2, 1, 1, 1, 1, 1, 1, 1, 1, 1, 1, 1, 1, 1, 1, 1, 1, 1, 1, 1, 1, 1, 1, 1, 1, 1, 1, 1, 1, 1, 1, 1, 2, 1, 1, 1, 1, 2, 1, 2, 1, 11, 1, 1, 1, 1, 1, 1, 1, 1, 1, 1, 1, 1, 1, 1, 1, 1, 1, 1, 1, 1, 1, 1, 1, 1, 1, 1, 1, 1, 1, 1, 1, 1, 3, 1, 1, 1, 1, 3, 1, 1, 1, 1, 1, 1, 1, 1, 1, 1, 1, 1, 1, 1, 1, 1, 1, 1, 1, 1, 1, 1, 1, 1, 1, 1, 1, 1, 1, 1, 1, 2, 1, 1, 1, 1, 1, 1, 1, 1, 1, 1, 1, 1, 2, 1, 1, 1, 1, 1, 3, 1, 1, 1, 1, 1, 1, 1, 1, 1, 1, 1, 1, 1, 1, 1, 1, 1, 1, 7, 1, 1, 1, 4, 1, 1, 1, 1, 1, 1, 1, 1, 1, 1, 5, 2, 1, 1, 1, 1, 1, 1, 1, 1, 1, 1, 1, 1, 1, 1, 1, 1, 1, 1, 1, 1, 1, 2, 1, 1, 2, 1, 1, 3, 1, 1, 1, 1, 1, 1, 1, 1, 1, 1, 1, 1, 4, 1, 1, 1, 6, 1, 1, 1, 1, 1, 1, 4, 1, 2, 1, 1, 4, 1, 1, 1, 1, 1, 1, 1, 1, 1, 1, 1, 1, 1, 1, 1, 2, 1, 1, 1, 4, 2, 1, 1, 1, 5, 1, 1, 1, 1, 1, 1, 1, 2, 1, 1, 1, 1, 1, 1, 1, 2, 1, 1, 1, 3, 1, 1, 1, 1, 1, 1, 1, 1, 1, 1, 1, 1, 1, 1, 1, 1, 1, 1, 8, 2, 1, 1, 1, 1, 1, 1, 1, 1, 1, 1, 1, 1, 1, 1, 1, 1, 1, 1, 1, 1, 1, 4, 1, 1, 2, 1, 1, 1, 1, 1, 1, 1, 1, 1, 1, 1, 1, 2, 1, 1, 8, 1, 1, 1, 1, 1, 1, 1, 2, 1, 1, 1, 1, 1, 1, 1, 1, 1, 1, 1, 1, 1, 1, 2, 1, 3, 1, 1, 1, 8, 1, 1, 1, 1, 1, 1, 1, 1, 2, 1, 1, 1, 1, 1, 1, 1, 2, 2, 1, 1, 2, 2, 1, 1, 1, 2, 6, 1, 1, 1, 1, 2, 1, 8, 1, 1, 1, 1, 1, 1, 1, 2, 2, 1, 1, 1, 4, 1, 1, 9, 1, 1, 1, 1, 1, 1, 2, 8, 1, 1, 1, 1, 1, 1, 1, 1, 1, 1, 1, 1, 1, 1, 1, 2, 1, 1, 2, 1, 1, 1, 2, 1, 1, 1, 1, 6, 1, 2, 1, 1, 1, 1, 1, 11, 1, 1, 1, 1, 2, 1, 1, 1, 1, 1, 1, 1, 1, 1, 1], \"yaxis\": \"y\"}],                        {\"legend\": {\"tracegroupgap\": 0}, \"margin\": {\"t\": 60}, \"template\": {\"data\": {\"bar\": [{\"error_x\": {\"color\": \"#2a3f5f\"}, \"error_y\": {\"color\": \"#2a3f5f\"}, \"marker\": {\"line\": {\"color\": \"#E5ECF6\", \"width\": 0.5}}, \"type\": \"bar\"}], \"barpolar\": [{\"marker\": {\"line\": {\"color\": \"#E5ECF6\", \"width\": 0.5}}, \"type\": \"barpolar\"}], \"carpet\": [{\"aaxis\": {\"endlinecolor\": \"#2a3f5f\", \"gridcolor\": \"white\", \"linecolor\": \"white\", \"minorgridcolor\": \"white\", \"startlinecolor\": \"#2a3f5f\"}, \"baxis\": {\"endlinecolor\": \"#2a3f5f\", \"gridcolor\": \"white\", \"linecolor\": \"white\", \"minorgridcolor\": \"white\", \"startlinecolor\": \"#2a3f5f\"}, \"type\": \"carpet\"}], \"choropleth\": [{\"colorbar\": {\"outlinewidth\": 0, \"ticks\": \"\"}, \"type\": \"choropleth\"}], \"contour\": [{\"colorbar\": {\"outlinewidth\": 0, \"ticks\": \"\"}, \"colorscale\": [[0.0, \"#0d0887\"], [0.1111111111111111, \"#46039f\"], [0.2222222222222222, \"#7201a8\"], [0.3333333333333333, \"#9c179e\"], [0.4444444444444444, \"#bd3786\"], [0.5555555555555556, \"#d8576b\"], [0.6666666666666666, \"#ed7953\"], [0.7777777777777778, \"#fb9f3a\"], [0.8888888888888888, \"#fdca26\"], [1.0, \"#f0f921\"]], \"type\": \"contour\"}], \"contourcarpet\": [{\"colorbar\": {\"outlinewidth\": 0, \"ticks\": \"\"}, \"type\": \"contourcarpet\"}], \"heatmap\": [{\"colorbar\": {\"outlinewidth\": 0, \"ticks\": \"\"}, \"colorscale\": [[0.0, \"#0d0887\"], [0.1111111111111111, \"#46039f\"], [0.2222222222222222, \"#7201a8\"], [0.3333333333333333, \"#9c179e\"], [0.4444444444444444, \"#bd3786\"], [0.5555555555555556, \"#d8576b\"], [0.6666666666666666, \"#ed7953\"], [0.7777777777777778, \"#fb9f3a\"], [0.8888888888888888, \"#fdca26\"], [1.0, \"#f0f921\"]], \"type\": \"heatmap\"}], \"heatmapgl\": [{\"colorbar\": {\"outlinewidth\": 0, \"ticks\": \"\"}, \"colorscale\": [[0.0, \"#0d0887\"], [0.1111111111111111, \"#46039f\"], [0.2222222222222222, \"#7201a8\"], [0.3333333333333333, \"#9c179e\"], [0.4444444444444444, \"#bd3786\"], [0.5555555555555556, \"#d8576b\"], [0.6666666666666666, \"#ed7953\"], [0.7777777777777778, \"#fb9f3a\"], [0.8888888888888888, \"#fdca26\"], [1.0, \"#f0f921\"]], \"type\": \"heatmapgl\"}], \"histogram\": [{\"marker\": {\"colorbar\": {\"outlinewidth\": 0, \"ticks\": \"\"}}, \"type\": \"histogram\"}], \"histogram2d\": [{\"colorbar\": {\"outlinewidth\": 0, \"ticks\": \"\"}, \"colorscale\": [[0.0, \"#0d0887\"], [0.1111111111111111, \"#46039f\"], [0.2222222222222222, \"#7201a8\"], [0.3333333333333333, \"#9c179e\"], [0.4444444444444444, \"#bd3786\"], [0.5555555555555556, \"#d8576b\"], [0.6666666666666666, \"#ed7953\"], [0.7777777777777778, \"#fb9f3a\"], [0.8888888888888888, \"#fdca26\"], [1.0, \"#f0f921\"]], \"type\": \"histogram2d\"}], \"histogram2dcontour\": [{\"colorbar\": {\"outlinewidth\": 0, \"ticks\": \"\"}, \"colorscale\": [[0.0, \"#0d0887\"], [0.1111111111111111, \"#46039f\"], [0.2222222222222222, \"#7201a8\"], [0.3333333333333333, \"#9c179e\"], [0.4444444444444444, \"#bd3786\"], [0.5555555555555556, \"#d8576b\"], [0.6666666666666666, \"#ed7953\"], [0.7777777777777778, \"#fb9f3a\"], [0.8888888888888888, \"#fdca26\"], [1.0, \"#f0f921\"]], \"type\": \"histogram2dcontour\"}], \"mesh3d\": [{\"colorbar\": {\"outlinewidth\": 0, \"ticks\": \"\"}, \"type\": \"mesh3d\"}], \"parcoords\": [{\"line\": {\"colorbar\": {\"outlinewidth\": 0, \"ticks\": \"\"}}, \"type\": \"parcoords\"}], \"pie\": [{\"automargin\": true, \"type\": \"pie\"}], \"scatter\": [{\"marker\": {\"colorbar\": {\"outlinewidth\": 0, \"ticks\": \"\"}}, \"type\": \"scatter\"}], \"scatter3d\": [{\"line\": {\"colorbar\": {\"outlinewidth\": 0, \"ticks\": \"\"}}, \"marker\": {\"colorbar\": {\"outlinewidth\": 0, \"ticks\": \"\"}}, \"type\": \"scatter3d\"}], \"scattercarpet\": [{\"marker\": {\"colorbar\": {\"outlinewidth\": 0, \"ticks\": \"\"}}, \"type\": \"scattercarpet\"}], \"scattergeo\": [{\"marker\": {\"colorbar\": {\"outlinewidth\": 0, \"ticks\": \"\"}}, \"type\": \"scattergeo\"}], \"scattergl\": [{\"marker\": {\"colorbar\": {\"outlinewidth\": 0, \"ticks\": \"\"}}, \"type\": \"scattergl\"}], \"scattermapbox\": [{\"marker\": {\"colorbar\": {\"outlinewidth\": 0, \"ticks\": \"\"}}, \"type\": \"scattermapbox\"}], \"scatterpolar\": [{\"marker\": {\"colorbar\": {\"outlinewidth\": 0, \"ticks\": \"\"}}, \"type\": \"scatterpolar\"}], \"scatterpolargl\": [{\"marker\": {\"colorbar\": {\"outlinewidth\": 0, \"ticks\": \"\"}}, \"type\": \"scatterpolargl\"}], \"scatterternary\": [{\"marker\": {\"colorbar\": {\"outlinewidth\": 0, \"ticks\": \"\"}}, \"type\": \"scatterternary\"}], \"surface\": [{\"colorbar\": {\"outlinewidth\": 0, \"ticks\": \"\"}, \"colorscale\": [[0.0, \"#0d0887\"], [0.1111111111111111, \"#46039f\"], [0.2222222222222222, \"#7201a8\"], [0.3333333333333333, \"#9c179e\"], [0.4444444444444444, \"#bd3786\"], [0.5555555555555556, \"#d8576b\"], [0.6666666666666666, \"#ed7953\"], [0.7777777777777778, \"#fb9f3a\"], [0.8888888888888888, \"#fdca26\"], [1.0, \"#f0f921\"]], \"type\": \"surface\"}], \"table\": [{\"cells\": {\"fill\": {\"color\": \"#EBF0F8\"}, \"line\": {\"color\": \"white\"}}, \"header\": {\"fill\": {\"color\": \"#C8D4E3\"}, \"line\": {\"color\": \"white\"}}, \"type\": \"table\"}]}, \"layout\": {\"annotationdefaults\": {\"arrowcolor\": \"#2a3f5f\", \"arrowhead\": 0, \"arrowwidth\": 1}, \"autotypenumbers\": \"strict\", \"coloraxis\": {\"colorbar\": {\"outlinewidth\": 0, \"ticks\": \"\"}}, \"colorscale\": {\"diverging\": [[0, \"#8e0152\"], [0.1, \"#c51b7d\"], [0.2, \"#de77ae\"], [0.3, \"#f1b6da\"], [0.4, \"#fde0ef\"], [0.5, \"#f7f7f7\"], [0.6, \"#e6f5d0\"], [0.7, \"#b8e186\"], [0.8, \"#7fbc41\"], [0.9, \"#4d9221\"], [1, \"#276419\"]], \"sequential\": [[0.0, \"#0d0887\"], [0.1111111111111111, \"#46039f\"], [0.2222222222222222, \"#7201a8\"], [0.3333333333333333, \"#9c179e\"], [0.4444444444444444, \"#bd3786\"], [0.5555555555555556, \"#d8576b\"], [0.6666666666666666, \"#ed7953\"], [0.7777777777777778, \"#fb9f3a\"], [0.8888888888888888, \"#fdca26\"], [1.0, \"#f0f921\"]], \"sequentialminus\": [[0.0, \"#0d0887\"], [0.1111111111111111, \"#46039f\"], [0.2222222222222222, \"#7201a8\"], [0.3333333333333333, \"#9c179e\"], [0.4444444444444444, \"#bd3786\"], [0.5555555555555556, \"#d8576b\"], [0.6666666666666666, \"#ed7953\"], [0.7777777777777778, \"#fb9f3a\"], [0.8888888888888888, \"#fdca26\"], [1.0, \"#f0f921\"]]}, \"colorway\": [\"#636efa\", \"#EF553B\", \"#00cc96\", \"#ab63fa\", \"#FFA15A\", \"#19d3f3\", \"#FF6692\", \"#B6E880\", \"#FF97FF\", \"#FECB52\"], \"font\": {\"color\": \"#2a3f5f\"}, \"geo\": {\"bgcolor\": \"white\", \"lakecolor\": \"white\", \"landcolor\": \"#E5ECF6\", \"showlakes\": true, \"showland\": true, \"subunitcolor\": \"white\"}, \"hoverlabel\": {\"align\": \"left\"}, \"hovermode\": \"closest\", \"mapbox\": {\"style\": \"light\"}, \"paper_bgcolor\": \"white\", \"plot_bgcolor\": \"#E5ECF6\", \"polar\": {\"angularaxis\": {\"gridcolor\": \"white\", \"linecolor\": \"white\", \"ticks\": \"\"}, \"bgcolor\": \"#E5ECF6\", \"radialaxis\": {\"gridcolor\": \"white\", \"linecolor\": \"white\", \"ticks\": \"\"}}, \"scene\": {\"xaxis\": {\"backgroundcolor\": \"#E5ECF6\", \"gridcolor\": \"white\", \"gridwidth\": 2, \"linecolor\": \"white\", \"showbackground\": true, \"ticks\": \"\", \"zerolinecolor\": \"white\"}, \"yaxis\": {\"backgroundcolor\": \"#E5ECF6\", \"gridcolor\": \"white\", \"gridwidth\": 2, \"linecolor\": \"white\", \"showbackground\": true, \"ticks\": \"\", \"zerolinecolor\": \"white\"}, \"zaxis\": {\"backgroundcolor\": \"#E5ECF6\", \"gridcolor\": \"white\", \"gridwidth\": 2, \"linecolor\": \"white\", \"showbackground\": true, \"ticks\": \"\", \"zerolinecolor\": \"white\"}}, \"shapedefaults\": {\"line\": {\"color\": \"#2a3f5f\"}}, \"ternary\": {\"aaxis\": {\"gridcolor\": \"white\", \"linecolor\": \"white\", \"ticks\": \"\"}, \"baxis\": {\"gridcolor\": \"white\", \"linecolor\": \"white\", \"ticks\": \"\"}, \"bgcolor\": \"#E5ECF6\", \"caxis\": {\"gridcolor\": \"white\", \"linecolor\": \"white\", \"ticks\": \"\"}}, \"title\": {\"x\": 0.05}, \"xaxis\": {\"automargin\": true, \"gridcolor\": \"white\", \"linecolor\": \"white\", \"ticks\": \"\", \"title\": {\"standoff\": 15}, \"zerolinecolor\": \"white\", \"zerolinewidth\": 2}, \"yaxis\": {\"automargin\": true, \"gridcolor\": \"white\", \"linecolor\": \"white\", \"ticks\": \"\", \"title\": {\"standoff\": 15}, \"zerolinecolor\": \"white\", \"zerolinewidth\": 2}}}, \"title\": {\"text\": \"Hit v/s time year->2004\"}, \"xaxis\": {\"anchor\": \"y\", \"domain\": [0.0, 1.0], \"title\": {\"text\": \"Time\"}}, \"yaxis\": {\"anchor\": \"x\", \"domain\": [0.0, 1.0], \"title\": {\"text\": \"Hits\"}}},                        {\"responsive\": true}                    ).then(function(){\n",
       "                            \n",
       "var gd = document.getElementById('94a5cce5-adc3-43d6-907f-7613ee567017');\n",
       "var x = new MutationObserver(function (mutations, observer) {{\n",
       "        var display = window.getComputedStyle(gd).display;\n",
       "        if (!display || display === 'none') {{\n",
       "            console.log([gd, 'removed!']);\n",
       "            Plotly.purge(gd);\n",
       "            observer.disconnect();\n",
       "        }}\n",
       "}});\n",
       "\n",
       "// Listen for the removal of the full notebook cells\n",
       "var notebookContainer = gd.closest('#notebook-container');\n",
       "if (notebookContainer) {{\n",
       "    x.observe(notebookContainer, {childList: true});\n",
       "}}\n",
       "\n",
       "// Listen for the clearing of the current output cell\n",
       "var outputEl = gd.closest('.output');\n",
       "if (outputEl) {{\n",
       "    x.observe(outputEl, {childList: true});\n",
       "}}\n",
       "\n",
       "                        })                };                });            </script>        </div>"
      ]
     },
     "metadata": {},
     "output_type": "display_data"
    }
   ],
   "source": [
    "plot(dt_series[dt_series.apply(lambda x: x.year == 2004)],\n",
    "                 \"Hit v/s time year->2004\",\n",
    "                 \"Time\",\n",
    "                 \"Hits\")"
   ]
  },
  {
   "cell_type": "code",
   "execution_count": 101,
   "metadata": {},
   "outputs": [
    {
     "data": {
      "application/vnd.plotly.v1+json": {
       "config": {
        "plotlyServerURL": "https://plot.ly"
       },
       "data": [
        {
         "hovertemplate": "x=%{x}<br>y=%{y}<extra></extra>",
         "legendgroup": "",
         "line": {
          "color": "#636efa",
          "dash": "solid"
         },
         "mode": "lines",
         "name": "",
         "orientation": "v",
         "showlegend": false,
         "type": "scatter",
         "x": [
          "2021-01-15T08:54:07",
          "2021-01-15T08:55:23",
          "2021-01-15T09:01:38",
          "2021-01-15T09:02:14",
          "2021-01-15T09:02:15",
          "2021-01-15T09:02:27",
          "2021-01-15T09:02:28",
          "2021-01-15T09:03:26",
          "2021-01-15T09:12:34",
          "2021-01-15T09:12:38",
          "2021-01-15T09:13:05",
          "2021-01-15T09:13:09",
          "2021-01-15T09:13:18",
          "2021-01-15T09:13:19",
          "2021-01-15T09:16:20",
          "2021-01-15T09:16:27",
          "2021-01-15T09:17:06",
          "2021-01-15T09:18:50",
          "2021-01-15T09:18:57",
          "2021-01-15T09:19:05",
          "2021-01-15T09:22:13",
          "2021-01-15T09:33:26",
          "2021-01-15T09:33:41",
          "2021-01-15T09:33:42",
          "2021-01-15T09:33:43",
          "2021-01-15T09:33:44",
          "2021-01-15T09:33:45",
          "2021-01-15T09:33:46",
          "2021-01-15T09:33:47",
          "2021-01-15T09:33:48",
          "2021-01-15T09:33:49",
          "2021-01-15T09:33:50",
          "2021-01-15T09:33:51",
          "2021-01-15T09:33:54",
          "2021-01-15T09:33:52",
          "2021-01-15T09:33:55",
          "2021-01-15T09:33:53",
          "2021-01-15T09:33:57",
          "2021-01-15T09:33:56",
          "2021-01-15T09:34:02",
          "2021-01-15T09:34:03",
          "2021-01-15T09:33:58",
          "2021-01-15T09:33:59",
          "2021-01-15T09:34:07",
          "2021-01-15T09:34:00",
          "2021-01-15T09:34:01",
          "2021-01-15T09:34:08",
          "2021-01-15T09:34:11",
          "2021-01-15T09:34:04",
          "2021-01-15T09:34:13",
          "2021-01-15T09:34:12",
          "2021-01-15T09:34:05",
          "2021-01-15T09:34:14",
          "2021-01-15T09:34:06",
          "2021-01-15T09:34:15",
          "2021-01-15T09:34:09",
          "2021-01-15T09:34:10",
          "2021-01-15T09:34:16",
          "2021-01-15T09:34:17",
          "2021-01-15T09:34:18",
          "2021-01-15T09:52:58",
          "2021-01-15T09:53:19",
          "2021-01-15T09:56:07",
          "2021-01-15T09:56:25",
          "2021-01-15T09:58:49",
          "2021-01-15T09:59:17",
          "2021-01-15T09:59:23",
          "2021-01-15T09:59:34",
          "2021-01-15T10:00:53",
          "2021-01-15T10:02:36",
          "2021-01-15T10:02:46",
          "2021-01-15T10:02:52",
          "2021-01-15T10:03:07",
          "2021-01-15T10:03:45",
          "2021-01-15T10:04:17",
          "2021-01-15T10:04:31",
          "2021-01-15T10:04:40",
          "2021-01-15T10:04:46",
          "2021-01-15T10:04:58",
          "2021-01-15T10:05:35",
          "2021-01-16T05:27:24",
          "2021-01-16T05:28:03",
          "2021-01-16T05:29:02",
          "2021-01-16T05:30:04",
          "2021-01-16T05:30:42",
          "2021-01-16T05:30:57",
          "2021-01-16T05:31:04",
          "2021-01-16T05:31:24",
          "2021-01-16T05:31:28",
          "2021-01-16T05:31:34",
          "2021-01-16T05:32:02",
          "2021-01-16T05:34:45",
          "2021-01-16T05:35:56",
          "2021-01-16T05:36:06",
          "2021-01-16T05:36:15",
          "2021-01-16T05:36:20",
          "2021-01-16T05:36:32",
          "2021-01-16T05:36:47",
          "2021-01-16T05:37:21",
          "2021-01-16T05:37:34",
          "2021-01-16T05:37:45",
          "2021-01-16T12:11:10",
          "2021-01-16T12:11:30",
          "2021-01-16T12:34:24",
          "2021-01-16T12:35:05",
          "2021-01-16T12:35:25",
          "2021-01-16T12:36:27",
          "2021-01-16T12:37:39",
          "2021-01-16T12:40:33",
          "2021-01-16T12:40:52",
          "2021-01-16T12:43:45",
          "2021-01-16T12:43:59",
          "2021-01-16T12:44:34",
          "2021-01-16T12:45:38",
          "2021-01-16T12:46:18",
          "2021-01-16T12:46:23",
          "2021-01-16T12:46:56",
          "2021-01-16T12:47:26",
          "2021-01-16T12:47:49",
          "2021-01-16T12:48:13",
          "2021-01-16T12:52:33",
          "2021-01-16T12:53:24",
          "2021-01-16T12:53:50",
          "2021-01-16T12:55:16",
          "2021-01-16T13:01:32",
          "2021-01-16T13:01:33",
          "2021-01-16T13:01:35",
          "2021-01-16T13:01:37",
          "2021-01-16T13:01:39",
          "2021-01-16T13:01:38",
          "2021-01-16T13:01:41",
          "2021-01-16T13:01:42",
          "2021-01-16T13:01:44",
          "2021-01-16T13:01:46",
          "2021-01-16T13:01:40",
          "2021-01-16T13:01:47",
          "2021-01-16T13:01:49",
          "2021-01-16T13:01:50",
          "2021-01-16T13:01:51",
          "2021-01-16T13:01:53",
          "2021-01-16T13:01:52",
          "2021-01-16T13:01:54",
          "2021-01-16T13:01:58",
          "2021-01-16T13:02:01",
          "2021-01-16T13:01:45",
          "2021-01-16T13:02:02",
          "2021-01-16T13:01:55",
          "2021-01-16T13:02:06",
          "2021-01-16T13:02:08",
          "2021-01-16T13:02:09",
          "2021-01-16T13:01:57",
          "2021-01-16T13:02:10",
          "2021-01-16T13:01:56",
          "2021-01-16T13:01:59",
          "2021-01-16T13:02:03",
          "2021-01-16T13:02:07",
          "2021-01-16T13:02:12",
          "2021-01-16T13:02:13",
          "2021-01-16T13:02:14",
          "2021-01-16T13:02:11",
          "2021-01-16T13:02:16",
          "2021-01-16T13:02:15",
          "2021-01-16T13:02:21",
          "2021-01-16T13:02:22",
          "2021-01-16T13:02:23",
          "2021-01-16T13:02:24",
          "2021-01-16T13:02:25",
          "2021-01-16T13:02:17",
          "2021-01-16T13:02:18",
          "2021-01-16T13:02:20"
         ],
         "xaxis": "x",
         "y": [
          6,
          6,
          10,
          2,
          58,
          2,
          2,
          40,
          50,
          1,
          2,
          40,
          52,
          28,
          48,
          6,
          1,
          1,
          6,
          1,
          1,
          2,
          2,
          1,
          2,
          24,
          2,
          1,
          2,
          2,
          2,
          2,
          2,
          2,
          6,
          4,
          6,
          2,
          2,
          4,
          2,
          2,
          2,
          2,
          2,
          2,
          2,
          68,
          8,
          36,
          2,
          48,
          48,
          50,
          36,
          22,
          20,
          4,
          1,
          36,
          1,
          2,
          1,
          2,
          2,
          2,
          2,
          2,
          1,
          2,
          2,
          20,
          2,
          2,
          2,
          2,
          1,
          2,
          8,
          2,
          6,
          4,
          4,
          2,
          2,
          2,
          2,
          2,
          2,
          2,
          4,
          14,
          48,
          42,
          32,
          42,
          32,
          52,
          1,
          4,
          1,
          56,
          1,
          2,
          1,
          2,
          2,
          2,
          2,
          4,
          2,
          2,
          2,
          40,
          2,
          2,
          2,
          32,
          4,
          18,
          6,
          4,
          12,
          4,
          8,
          4,
          2,
          10,
          24,
          2,
          16,
          6,
          2,
          4,
          2,
          60,
          6,
          2,
          32,
          48,
          16,
          24,
          16,
          48,
          2,
          1,
          1,
          2,
          1,
          1,
          2,
          1,
          2,
          2,
          2,
          2,
          8,
          1,
          2,
          2,
          2,
          2,
          2,
          2,
          2,
          20,
          6,
          2,
          4,
          4
         ],
         "yaxis": "y"
        }
       ],
       "layout": {
        "legend": {
         "tracegroupgap": 0
        },
        "margin": {
         "t": 60
        },
        "template": {
         "data": {
          "bar": [
           {
            "error_x": {
             "color": "#2a3f5f"
            },
            "error_y": {
             "color": "#2a3f5f"
            },
            "marker": {
             "line": {
              "color": "#E5ECF6",
              "width": 0.5
             }
            },
            "type": "bar"
           }
          ],
          "barpolar": [
           {
            "marker": {
             "line": {
              "color": "#E5ECF6",
              "width": 0.5
             }
            },
            "type": "barpolar"
           }
          ],
          "carpet": [
           {
            "aaxis": {
             "endlinecolor": "#2a3f5f",
             "gridcolor": "white",
             "linecolor": "white",
             "minorgridcolor": "white",
             "startlinecolor": "#2a3f5f"
            },
            "baxis": {
             "endlinecolor": "#2a3f5f",
             "gridcolor": "white",
             "linecolor": "white",
             "minorgridcolor": "white",
             "startlinecolor": "#2a3f5f"
            },
            "type": "carpet"
           }
          ],
          "choropleth": [
           {
            "colorbar": {
             "outlinewidth": 0,
             "ticks": ""
            },
            "type": "choropleth"
           }
          ],
          "contour": [
           {
            "colorbar": {
             "outlinewidth": 0,
             "ticks": ""
            },
            "colorscale": [
             [
              0,
              "#0d0887"
             ],
             [
              0.1111111111111111,
              "#46039f"
             ],
             [
              0.2222222222222222,
              "#7201a8"
             ],
             [
              0.3333333333333333,
              "#9c179e"
             ],
             [
              0.4444444444444444,
              "#bd3786"
             ],
             [
              0.5555555555555556,
              "#d8576b"
             ],
             [
              0.6666666666666666,
              "#ed7953"
             ],
             [
              0.7777777777777778,
              "#fb9f3a"
             ],
             [
              0.8888888888888888,
              "#fdca26"
             ],
             [
              1,
              "#f0f921"
             ]
            ],
            "type": "contour"
           }
          ],
          "contourcarpet": [
           {
            "colorbar": {
             "outlinewidth": 0,
             "ticks": ""
            },
            "type": "contourcarpet"
           }
          ],
          "heatmap": [
           {
            "colorbar": {
             "outlinewidth": 0,
             "ticks": ""
            },
            "colorscale": [
             [
              0,
              "#0d0887"
             ],
             [
              0.1111111111111111,
              "#46039f"
             ],
             [
              0.2222222222222222,
              "#7201a8"
             ],
             [
              0.3333333333333333,
              "#9c179e"
             ],
             [
              0.4444444444444444,
              "#bd3786"
             ],
             [
              0.5555555555555556,
              "#d8576b"
             ],
             [
              0.6666666666666666,
              "#ed7953"
             ],
             [
              0.7777777777777778,
              "#fb9f3a"
             ],
             [
              0.8888888888888888,
              "#fdca26"
             ],
             [
              1,
              "#f0f921"
             ]
            ],
            "type": "heatmap"
           }
          ],
          "heatmapgl": [
           {
            "colorbar": {
             "outlinewidth": 0,
             "ticks": ""
            },
            "colorscale": [
             [
              0,
              "#0d0887"
             ],
             [
              0.1111111111111111,
              "#46039f"
             ],
             [
              0.2222222222222222,
              "#7201a8"
             ],
             [
              0.3333333333333333,
              "#9c179e"
             ],
             [
              0.4444444444444444,
              "#bd3786"
             ],
             [
              0.5555555555555556,
              "#d8576b"
             ],
             [
              0.6666666666666666,
              "#ed7953"
             ],
             [
              0.7777777777777778,
              "#fb9f3a"
             ],
             [
              0.8888888888888888,
              "#fdca26"
             ],
             [
              1,
              "#f0f921"
             ]
            ],
            "type": "heatmapgl"
           }
          ],
          "histogram": [
           {
            "marker": {
             "colorbar": {
              "outlinewidth": 0,
              "ticks": ""
             }
            },
            "type": "histogram"
           }
          ],
          "histogram2d": [
           {
            "colorbar": {
             "outlinewidth": 0,
             "ticks": ""
            },
            "colorscale": [
             [
              0,
              "#0d0887"
             ],
             [
              0.1111111111111111,
              "#46039f"
             ],
             [
              0.2222222222222222,
              "#7201a8"
             ],
             [
              0.3333333333333333,
              "#9c179e"
             ],
             [
              0.4444444444444444,
              "#bd3786"
             ],
             [
              0.5555555555555556,
              "#d8576b"
             ],
             [
              0.6666666666666666,
              "#ed7953"
             ],
             [
              0.7777777777777778,
              "#fb9f3a"
             ],
             [
              0.8888888888888888,
              "#fdca26"
             ],
             [
              1,
              "#f0f921"
             ]
            ],
            "type": "histogram2d"
           }
          ],
          "histogram2dcontour": [
           {
            "colorbar": {
             "outlinewidth": 0,
             "ticks": ""
            },
            "colorscale": [
             [
              0,
              "#0d0887"
             ],
             [
              0.1111111111111111,
              "#46039f"
             ],
             [
              0.2222222222222222,
              "#7201a8"
             ],
             [
              0.3333333333333333,
              "#9c179e"
             ],
             [
              0.4444444444444444,
              "#bd3786"
             ],
             [
              0.5555555555555556,
              "#d8576b"
             ],
             [
              0.6666666666666666,
              "#ed7953"
             ],
             [
              0.7777777777777778,
              "#fb9f3a"
             ],
             [
              0.8888888888888888,
              "#fdca26"
             ],
             [
              1,
              "#f0f921"
             ]
            ],
            "type": "histogram2dcontour"
           }
          ],
          "mesh3d": [
           {
            "colorbar": {
             "outlinewidth": 0,
             "ticks": ""
            },
            "type": "mesh3d"
           }
          ],
          "parcoords": [
           {
            "line": {
             "colorbar": {
              "outlinewidth": 0,
              "ticks": ""
             }
            },
            "type": "parcoords"
           }
          ],
          "pie": [
           {
            "automargin": true,
            "type": "pie"
           }
          ],
          "scatter": [
           {
            "marker": {
             "colorbar": {
              "outlinewidth": 0,
              "ticks": ""
             }
            },
            "type": "scatter"
           }
          ],
          "scatter3d": [
           {
            "line": {
             "colorbar": {
              "outlinewidth": 0,
              "ticks": ""
             }
            },
            "marker": {
             "colorbar": {
              "outlinewidth": 0,
              "ticks": ""
             }
            },
            "type": "scatter3d"
           }
          ],
          "scattercarpet": [
           {
            "marker": {
             "colorbar": {
              "outlinewidth": 0,
              "ticks": ""
             }
            },
            "type": "scattercarpet"
           }
          ],
          "scattergeo": [
           {
            "marker": {
             "colorbar": {
              "outlinewidth": 0,
              "ticks": ""
             }
            },
            "type": "scattergeo"
           }
          ],
          "scattergl": [
           {
            "marker": {
             "colorbar": {
              "outlinewidth": 0,
              "ticks": ""
             }
            },
            "type": "scattergl"
           }
          ],
          "scattermapbox": [
           {
            "marker": {
             "colorbar": {
              "outlinewidth": 0,
              "ticks": ""
             }
            },
            "type": "scattermapbox"
           }
          ],
          "scatterpolar": [
           {
            "marker": {
             "colorbar": {
              "outlinewidth": 0,
              "ticks": ""
             }
            },
            "type": "scatterpolar"
           }
          ],
          "scatterpolargl": [
           {
            "marker": {
             "colorbar": {
              "outlinewidth": 0,
              "ticks": ""
             }
            },
            "type": "scatterpolargl"
           }
          ],
          "scatterternary": [
           {
            "marker": {
             "colorbar": {
              "outlinewidth": 0,
              "ticks": ""
             }
            },
            "type": "scatterternary"
           }
          ],
          "surface": [
           {
            "colorbar": {
             "outlinewidth": 0,
             "ticks": ""
            },
            "colorscale": [
             [
              0,
              "#0d0887"
             ],
             [
              0.1111111111111111,
              "#46039f"
             ],
             [
              0.2222222222222222,
              "#7201a8"
             ],
             [
              0.3333333333333333,
              "#9c179e"
             ],
             [
              0.4444444444444444,
              "#bd3786"
             ],
             [
              0.5555555555555556,
              "#d8576b"
             ],
             [
              0.6666666666666666,
              "#ed7953"
             ],
             [
              0.7777777777777778,
              "#fb9f3a"
             ],
             [
              0.8888888888888888,
              "#fdca26"
             ],
             [
              1,
              "#f0f921"
             ]
            ],
            "type": "surface"
           }
          ],
          "table": [
           {
            "cells": {
             "fill": {
              "color": "#EBF0F8"
             },
             "line": {
              "color": "white"
             }
            },
            "header": {
             "fill": {
              "color": "#C8D4E3"
             },
             "line": {
              "color": "white"
             }
            },
            "type": "table"
           }
          ]
         },
         "layout": {
          "annotationdefaults": {
           "arrowcolor": "#2a3f5f",
           "arrowhead": 0,
           "arrowwidth": 1
          },
          "autotypenumbers": "strict",
          "coloraxis": {
           "colorbar": {
            "outlinewidth": 0,
            "ticks": ""
           }
          },
          "colorscale": {
           "diverging": [
            [
             0,
             "#8e0152"
            ],
            [
             0.1,
             "#c51b7d"
            ],
            [
             0.2,
             "#de77ae"
            ],
            [
             0.3,
             "#f1b6da"
            ],
            [
             0.4,
             "#fde0ef"
            ],
            [
             0.5,
             "#f7f7f7"
            ],
            [
             0.6,
             "#e6f5d0"
            ],
            [
             0.7,
             "#b8e186"
            ],
            [
             0.8,
             "#7fbc41"
            ],
            [
             0.9,
             "#4d9221"
            ],
            [
             1,
             "#276419"
            ]
           ],
           "sequential": [
            [
             0,
             "#0d0887"
            ],
            [
             0.1111111111111111,
             "#46039f"
            ],
            [
             0.2222222222222222,
             "#7201a8"
            ],
            [
             0.3333333333333333,
             "#9c179e"
            ],
            [
             0.4444444444444444,
             "#bd3786"
            ],
            [
             0.5555555555555556,
             "#d8576b"
            ],
            [
             0.6666666666666666,
             "#ed7953"
            ],
            [
             0.7777777777777778,
             "#fb9f3a"
            ],
            [
             0.8888888888888888,
             "#fdca26"
            ],
            [
             1,
             "#f0f921"
            ]
           ],
           "sequentialminus": [
            [
             0,
             "#0d0887"
            ],
            [
             0.1111111111111111,
             "#46039f"
            ],
            [
             0.2222222222222222,
             "#7201a8"
            ],
            [
             0.3333333333333333,
             "#9c179e"
            ],
            [
             0.4444444444444444,
             "#bd3786"
            ],
            [
             0.5555555555555556,
             "#d8576b"
            ],
            [
             0.6666666666666666,
             "#ed7953"
            ],
            [
             0.7777777777777778,
             "#fb9f3a"
            ],
            [
             0.8888888888888888,
             "#fdca26"
            ],
            [
             1,
             "#f0f921"
            ]
           ]
          },
          "colorway": [
           "#636efa",
           "#EF553B",
           "#00cc96",
           "#ab63fa",
           "#FFA15A",
           "#19d3f3",
           "#FF6692",
           "#B6E880",
           "#FF97FF",
           "#FECB52"
          ],
          "font": {
           "color": "#2a3f5f"
          },
          "geo": {
           "bgcolor": "white",
           "lakecolor": "white",
           "landcolor": "#E5ECF6",
           "showlakes": true,
           "showland": true,
           "subunitcolor": "white"
          },
          "hoverlabel": {
           "align": "left"
          },
          "hovermode": "closest",
          "mapbox": {
           "style": "light"
          },
          "paper_bgcolor": "white",
          "plot_bgcolor": "#E5ECF6",
          "polar": {
           "angularaxis": {
            "gridcolor": "white",
            "linecolor": "white",
            "ticks": ""
           },
           "bgcolor": "#E5ECF6",
           "radialaxis": {
            "gridcolor": "white",
            "linecolor": "white",
            "ticks": ""
           }
          },
          "scene": {
           "xaxis": {
            "backgroundcolor": "#E5ECF6",
            "gridcolor": "white",
            "gridwidth": 2,
            "linecolor": "white",
            "showbackground": true,
            "ticks": "",
            "zerolinecolor": "white"
           },
           "yaxis": {
            "backgroundcolor": "#E5ECF6",
            "gridcolor": "white",
            "gridwidth": 2,
            "linecolor": "white",
            "showbackground": true,
            "ticks": "",
            "zerolinecolor": "white"
           },
           "zaxis": {
            "backgroundcolor": "#E5ECF6",
            "gridcolor": "white",
            "gridwidth": 2,
            "linecolor": "white",
            "showbackground": true,
            "ticks": "",
            "zerolinecolor": "white"
           }
          },
          "shapedefaults": {
           "line": {
            "color": "#2a3f5f"
           }
          },
          "ternary": {
           "aaxis": {
            "gridcolor": "white",
            "linecolor": "white",
            "ticks": ""
           },
           "baxis": {
            "gridcolor": "white",
            "linecolor": "white",
            "ticks": ""
           },
           "bgcolor": "#E5ECF6",
           "caxis": {
            "gridcolor": "white",
            "linecolor": "white",
            "ticks": ""
           }
          },
          "title": {
           "x": 0.05
          },
          "xaxis": {
           "automargin": true,
           "gridcolor": "white",
           "linecolor": "white",
           "ticks": "",
           "title": {
            "standoff": 15
           },
           "zerolinecolor": "white",
           "zerolinewidth": 2
          },
          "yaxis": {
           "automargin": true,
           "gridcolor": "white",
           "linecolor": "white",
           "ticks": "",
           "title": {
            "standoff": 15
           },
           "zerolinecolor": "white",
           "zerolinewidth": 2
          }
         }
        },
        "title": {
         "text": "Hit v/s time->year 2021"
        },
        "xaxis": {
         "anchor": "y",
         "domain": [
          0,
          1
         ],
         "title": {
          "text": "Time"
         }
        },
        "yaxis": {
         "anchor": "x",
         "domain": [
          0,
          1
         ],
         "title": {
          "text": "Hits"
         }
        }
       }
      },
      "text/html": [
       "<div>                            <div id=\"83e46d57-cdae-4a2f-add6-c0b9e2add3d9\" class=\"plotly-graph-div\" style=\"height:525px; width:100%;\"></div>            <script type=\"text/javascript\">                require([\"plotly\"], function(Plotly) {                    window.PLOTLYENV=window.PLOTLYENV || {};                                    if (document.getElementById(\"83e46d57-cdae-4a2f-add6-c0b9e2add3d9\")) {                    Plotly.newPlot(                        \"83e46d57-cdae-4a2f-add6-c0b9e2add3d9\",                        [{\"hovertemplate\": \"x=%{x}<br>y=%{y}<extra></extra>\", \"legendgroup\": \"\", \"line\": {\"color\": \"#636efa\", \"dash\": \"solid\"}, \"mode\": \"lines\", \"name\": \"\", \"orientation\": \"v\", \"showlegend\": false, \"type\": \"scatter\", \"x\": [\"2021-01-15T08:54:07\", \"2021-01-15T08:55:23\", \"2021-01-15T09:01:38\", \"2021-01-15T09:02:14\", \"2021-01-15T09:02:15\", \"2021-01-15T09:02:27\", \"2021-01-15T09:02:28\", \"2021-01-15T09:03:26\", \"2021-01-15T09:12:34\", \"2021-01-15T09:12:38\", \"2021-01-15T09:13:05\", \"2021-01-15T09:13:09\", \"2021-01-15T09:13:18\", \"2021-01-15T09:13:19\", \"2021-01-15T09:16:20\", \"2021-01-15T09:16:27\", \"2021-01-15T09:17:06\", \"2021-01-15T09:18:50\", \"2021-01-15T09:18:57\", \"2021-01-15T09:19:05\", \"2021-01-15T09:22:13\", \"2021-01-15T09:33:26\", \"2021-01-15T09:33:41\", \"2021-01-15T09:33:42\", \"2021-01-15T09:33:43\", \"2021-01-15T09:33:44\", \"2021-01-15T09:33:45\", \"2021-01-15T09:33:46\", \"2021-01-15T09:33:47\", \"2021-01-15T09:33:48\", \"2021-01-15T09:33:49\", \"2021-01-15T09:33:50\", \"2021-01-15T09:33:51\", \"2021-01-15T09:33:54\", \"2021-01-15T09:33:52\", \"2021-01-15T09:33:55\", \"2021-01-15T09:33:53\", \"2021-01-15T09:33:57\", \"2021-01-15T09:33:56\", \"2021-01-15T09:34:02\", \"2021-01-15T09:34:03\", \"2021-01-15T09:33:58\", \"2021-01-15T09:33:59\", \"2021-01-15T09:34:07\", \"2021-01-15T09:34:00\", \"2021-01-15T09:34:01\", \"2021-01-15T09:34:08\", \"2021-01-15T09:34:11\", \"2021-01-15T09:34:04\", \"2021-01-15T09:34:13\", \"2021-01-15T09:34:12\", \"2021-01-15T09:34:05\", \"2021-01-15T09:34:14\", \"2021-01-15T09:34:06\", \"2021-01-15T09:34:15\", \"2021-01-15T09:34:09\", \"2021-01-15T09:34:10\", \"2021-01-15T09:34:16\", \"2021-01-15T09:34:17\", \"2021-01-15T09:34:18\", \"2021-01-15T09:52:58\", \"2021-01-15T09:53:19\", \"2021-01-15T09:56:07\", \"2021-01-15T09:56:25\", \"2021-01-15T09:58:49\", \"2021-01-15T09:59:17\", \"2021-01-15T09:59:23\", \"2021-01-15T09:59:34\", \"2021-01-15T10:00:53\", \"2021-01-15T10:02:36\", \"2021-01-15T10:02:46\", \"2021-01-15T10:02:52\", \"2021-01-15T10:03:07\", \"2021-01-15T10:03:45\", \"2021-01-15T10:04:17\", \"2021-01-15T10:04:31\", \"2021-01-15T10:04:40\", \"2021-01-15T10:04:46\", \"2021-01-15T10:04:58\", \"2021-01-15T10:05:35\", \"2021-01-16T05:27:24\", \"2021-01-16T05:28:03\", \"2021-01-16T05:29:02\", \"2021-01-16T05:30:04\", \"2021-01-16T05:30:42\", \"2021-01-16T05:30:57\", \"2021-01-16T05:31:04\", \"2021-01-16T05:31:24\", \"2021-01-16T05:31:28\", \"2021-01-16T05:31:34\", \"2021-01-16T05:32:02\", \"2021-01-16T05:34:45\", \"2021-01-16T05:35:56\", \"2021-01-16T05:36:06\", \"2021-01-16T05:36:15\", \"2021-01-16T05:36:20\", \"2021-01-16T05:36:32\", \"2021-01-16T05:36:47\", \"2021-01-16T05:37:21\", \"2021-01-16T05:37:34\", \"2021-01-16T05:37:45\", \"2021-01-16T12:11:10\", \"2021-01-16T12:11:30\", \"2021-01-16T12:34:24\", \"2021-01-16T12:35:05\", \"2021-01-16T12:35:25\", \"2021-01-16T12:36:27\", \"2021-01-16T12:37:39\", \"2021-01-16T12:40:33\", \"2021-01-16T12:40:52\", \"2021-01-16T12:43:45\", \"2021-01-16T12:43:59\", \"2021-01-16T12:44:34\", \"2021-01-16T12:45:38\", \"2021-01-16T12:46:18\", \"2021-01-16T12:46:23\", \"2021-01-16T12:46:56\", \"2021-01-16T12:47:26\", \"2021-01-16T12:47:49\", \"2021-01-16T12:48:13\", \"2021-01-16T12:52:33\", \"2021-01-16T12:53:24\", \"2021-01-16T12:53:50\", \"2021-01-16T12:55:16\", \"2021-01-16T13:01:32\", \"2021-01-16T13:01:33\", \"2021-01-16T13:01:35\", \"2021-01-16T13:01:37\", \"2021-01-16T13:01:39\", \"2021-01-16T13:01:38\", \"2021-01-16T13:01:41\", \"2021-01-16T13:01:42\", \"2021-01-16T13:01:44\", \"2021-01-16T13:01:46\", \"2021-01-16T13:01:40\", \"2021-01-16T13:01:47\", \"2021-01-16T13:01:49\", \"2021-01-16T13:01:50\", \"2021-01-16T13:01:51\", \"2021-01-16T13:01:53\", \"2021-01-16T13:01:52\", \"2021-01-16T13:01:54\", \"2021-01-16T13:01:58\", \"2021-01-16T13:02:01\", \"2021-01-16T13:01:45\", \"2021-01-16T13:02:02\", \"2021-01-16T13:01:55\", \"2021-01-16T13:02:06\", \"2021-01-16T13:02:08\", \"2021-01-16T13:02:09\", \"2021-01-16T13:01:57\", \"2021-01-16T13:02:10\", \"2021-01-16T13:01:56\", \"2021-01-16T13:01:59\", \"2021-01-16T13:02:03\", \"2021-01-16T13:02:07\", \"2021-01-16T13:02:12\", \"2021-01-16T13:02:13\", \"2021-01-16T13:02:14\", \"2021-01-16T13:02:11\", \"2021-01-16T13:02:16\", \"2021-01-16T13:02:15\", \"2021-01-16T13:02:21\", \"2021-01-16T13:02:22\", \"2021-01-16T13:02:23\", \"2021-01-16T13:02:24\", \"2021-01-16T13:02:25\", \"2021-01-16T13:02:17\", \"2021-01-16T13:02:18\", \"2021-01-16T13:02:20\"], \"xaxis\": \"x\", \"y\": [6, 6, 10, 2, 58, 2, 2, 40, 50, 1, 2, 40, 52, 28, 48, 6, 1, 1, 6, 1, 1, 2, 2, 1, 2, 24, 2, 1, 2, 2, 2, 2, 2, 2, 6, 4, 6, 2, 2, 4, 2, 2, 2, 2, 2, 2, 2, 68, 8, 36, 2, 48, 48, 50, 36, 22, 20, 4, 1, 36, 1, 2, 1, 2, 2, 2, 2, 2, 1, 2, 2, 20, 2, 2, 2, 2, 1, 2, 8, 2, 6, 4, 4, 2, 2, 2, 2, 2, 2, 2, 4, 14, 48, 42, 32, 42, 32, 52, 1, 4, 1, 56, 1, 2, 1, 2, 2, 2, 2, 4, 2, 2, 2, 40, 2, 2, 2, 32, 4, 18, 6, 4, 12, 4, 8, 4, 2, 10, 24, 2, 16, 6, 2, 4, 2, 60, 6, 2, 32, 48, 16, 24, 16, 48, 2, 1, 1, 2, 1, 1, 2, 1, 2, 2, 2, 2, 8, 1, 2, 2, 2, 2, 2, 2, 2, 20, 6, 2, 4, 4], \"yaxis\": \"y\"}],                        {\"legend\": {\"tracegroupgap\": 0}, \"margin\": {\"t\": 60}, \"template\": {\"data\": {\"bar\": [{\"error_x\": {\"color\": \"#2a3f5f\"}, \"error_y\": {\"color\": \"#2a3f5f\"}, \"marker\": {\"line\": {\"color\": \"#E5ECF6\", \"width\": 0.5}}, \"type\": \"bar\"}], \"barpolar\": [{\"marker\": {\"line\": {\"color\": \"#E5ECF6\", \"width\": 0.5}}, \"type\": \"barpolar\"}], \"carpet\": [{\"aaxis\": {\"endlinecolor\": \"#2a3f5f\", \"gridcolor\": \"white\", \"linecolor\": \"white\", \"minorgridcolor\": \"white\", \"startlinecolor\": \"#2a3f5f\"}, \"baxis\": {\"endlinecolor\": \"#2a3f5f\", \"gridcolor\": \"white\", \"linecolor\": \"white\", \"minorgridcolor\": \"white\", \"startlinecolor\": \"#2a3f5f\"}, \"type\": \"carpet\"}], \"choropleth\": [{\"colorbar\": {\"outlinewidth\": 0, \"ticks\": \"\"}, \"type\": \"choropleth\"}], \"contour\": [{\"colorbar\": {\"outlinewidth\": 0, \"ticks\": \"\"}, \"colorscale\": [[0.0, \"#0d0887\"], [0.1111111111111111, \"#46039f\"], [0.2222222222222222, \"#7201a8\"], [0.3333333333333333, \"#9c179e\"], [0.4444444444444444, \"#bd3786\"], [0.5555555555555556, \"#d8576b\"], [0.6666666666666666, \"#ed7953\"], [0.7777777777777778, \"#fb9f3a\"], [0.8888888888888888, \"#fdca26\"], [1.0, \"#f0f921\"]], \"type\": \"contour\"}], \"contourcarpet\": [{\"colorbar\": {\"outlinewidth\": 0, \"ticks\": \"\"}, \"type\": \"contourcarpet\"}], \"heatmap\": [{\"colorbar\": {\"outlinewidth\": 0, \"ticks\": \"\"}, \"colorscale\": [[0.0, \"#0d0887\"], [0.1111111111111111, \"#46039f\"], [0.2222222222222222, \"#7201a8\"], [0.3333333333333333, \"#9c179e\"], [0.4444444444444444, \"#bd3786\"], [0.5555555555555556, \"#d8576b\"], [0.6666666666666666, \"#ed7953\"], [0.7777777777777778, \"#fb9f3a\"], [0.8888888888888888, \"#fdca26\"], [1.0, \"#f0f921\"]], \"type\": \"heatmap\"}], \"heatmapgl\": [{\"colorbar\": {\"outlinewidth\": 0, \"ticks\": \"\"}, \"colorscale\": [[0.0, \"#0d0887\"], [0.1111111111111111, \"#46039f\"], [0.2222222222222222, \"#7201a8\"], [0.3333333333333333, \"#9c179e\"], [0.4444444444444444, \"#bd3786\"], [0.5555555555555556, \"#d8576b\"], [0.6666666666666666, \"#ed7953\"], [0.7777777777777778, \"#fb9f3a\"], [0.8888888888888888, \"#fdca26\"], [1.0, \"#f0f921\"]], \"type\": \"heatmapgl\"}], \"histogram\": [{\"marker\": {\"colorbar\": {\"outlinewidth\": 0, \"ticks\": \"\"}}, \"type\": \"histogram\"}], \"histogram2d\": [{\"colorbar\": {\"outlinewidth\": 0, \"ticks\": \"\"}, \"colorscale\": [[0.0, \"#0d0887\"], [0.1111111111111111, \"#46039f\"], [0.2222222222222222, \"#7201a8\"], [0.3333333333333333, \"#9c179e\"], [0.4444444444444444, \"#bd3786\"], [0.5555555555555556, \"#d8576b\"], [0.6666666666666666, \"#ed7953\"], [0.7777777777777778, \"#fb9f3a\"], [0.8888888888888888, \"#fdca26\"], [1.0, \"#f0f921\"]], \"type\": \"histogram2d\"}], \"histogram2dcontour\": [{\"colorbar\": {\"outlinewidth\": 0, \"ticks\": \"\"}, \"colorscale\": [[0.0, \"#0d0887\"], [0.1111111111111111, \"#46039f\"], [0.2222222222222222, \"#7201a8\"], [0.3333333333333333, \"#9c179e\"], [0.4444444444444444, \"#bd3786\"], [0.5555555555555556, \"#d8576b\"], [0.6666666666666666, \"#ed7953\"], [0.7777777777777778, \"#fb9f3a\"], [0.8888888888888888, \"#fdca26\"], [1.0, \"#f0f921\"]], \"type\": \"histogram2dcontour\"}], \"mesh3d\": [{\"colorbar\": {\"outlinewidth\": 0, \"ticks\": \"\"}, \"type\": \"mesh3d\"}], \"parcoords\": [{\"line\": {\"colorbar\": {\"outlinewidth\": 0, \"ticks\": \"\"}}, \"type\": \"parcoords\"}], \"pie\": [{\"automargin\": true, \"type\": \"pie\"}], \"scatter\": [{\"marker\": {\"colorbar\": {\"outlinewidth\": 0, \"ticks\": \"\"}}, \"type\": \"scatter\"}], \"scatter3d\": [{\"line\": {\"colorbar\": {\"outlinewidth\": 0, \"ticks\": \"\"}}, \"marker\": {\"colorbar\": {\"outlinewidth\": 0, \"ticks\": \"\"}}, \"type\": \"scatter3d\"}], \"scattercarpet\": [{\"marker\": {\"colorbar\": {\"outlinewidth\": 0, \"ticks\": \"\"}}, \"type\": \"scattercarpet\"}], \"scattergeo\": [{\"marker\": {\"colorbar\": {\"outlinewidth\": 0, \"ticks\": \"\"}}, \"type\": \"scattergeo\"}], \"scattergl\": [{\"marker\": {\"colorbar\": {\"outlinewidth\": 0, \"ticks\": \"\"}}, \"type\": \"scattergl\"}], \"scattermapbox\": [{\"marker\": {\"colorbar\": {\"outlinewidth\": 0, \"ticks\": \"\"}}, \"type\": \"scattermapbox\"}], \"scatterpolar\": [{\"marker\": {\"colorbar\": {\"outlinewidth\": 0, \"ticks\": \"\"}}, \"type\": \"scatterpolar\"}], \"scatterpolargl\": [{\"marker\": {\"colorbar\": {\"outlinewidth\": 0, \"ticks\": \"\"}}, \"type\": \"scatterpolargl\"}], \"scatterternary\": [{\"marker\": {\"colorbar\": {\"outlinewidth\": 0, \"ticks\": \"\"}}, \"type\": \"scatterternary\"}], \"surface\": [{\"colorbar\": {\"outlinewidth\": 0, \"ticks\": \"\"}, \"colorscale\": [[0.0, \"#0d0887\"], [0.1111111111111111, \"#46039f\"], [0.2222222222222222, \"#7201a8\"], [0.3333333333333333, \"#9c179e\"], [0.4444444444444444, \"#bd3786\"], [0.5555555555555556, \"#d8576b\"], [0.6666666666666666, \"#ed7953\"], [0.7777777777777778, \"#fb9f3a\"], [0.8888888888888888, \"#fdca26\"], [1.0, \"#f0f921\"]], \"type\": \"surface\"}], \"table\": [{\"cells\": {\"fill\": {\"color\": \"#EBF0F8\"}, \"line\": {\"color\": \"white\"}}, \"header\": {\"fill\": {\"color\": \"#C8D4E3\"}, \"line\": {\"color\": \"white\"}}, \"type\": \"table\"}]}, \"layout\": {\"annotationdefaults\": {\"arrowcolor\": \"#2a3f5f\", \"arrowhead\": 0, \"arrowwidth\": 1}, \"autotypenumbers\": \"strict\", \"coloraxis\": {\"colorbar\": {\"outlinewidth\": 0, \"ticks\": \"\"}}, \"colorscale\": {\"diverging\": [[0, \"#8e0152\"], [0.1, \"#c51b7d\"], [0.2, \"#de77ae\"], [0.3, \"#f1b6da\"], [0.4, \"#fde0ef\"], [0.5, \"#f7f7f7\"], [0.6, \"#e6f5d0\"], [0.7, \"#b8e186\"], [0.8, \"#7fbc41\"], [0.9, \"#4d9221\"], [1, \"#276419\"]], \"sequential\": [[0.0, \"#0d0887\"], [0.1111111111111111, \"#46039f\"], [0.2222222222222222, \"#7201a8\"], [0.3333333333333333, \"#9c179e\"], [0.4444444444444444, \"#bd3786\"], [0.5555555555555556, \"#d8576b\"], [0.6666666666666666, \"#ed7953\"], [0.7777777777777778, \"#fb9f3a\"], [0.8888888888888888, \"#fdca26\"], [1.0, \"#f0f921\"]], \"sequentialminus\": [[0.0, \"#0d0887\"], [0.1111111111111111, \"#46039f\"], [0.2222222222222222, \"#7201a8\"], [0.3333333333333333, \"#9c179e\"], [0.4444444444444444, \"#bd3786\"], [0.5555555555555556, \"#d8576b\"], [0.6666666666666666, \"#ed7953\"], [0.7777777777777778, \"#fb9f3a\"], [0.8888888888888888, \"#fdca26\"], [1.0, \"#f0f921\"]]}, \"colorway\": [\"#636efa\", \"#EF553B\", \"#00cc96\", \"#ab63fa\", \"#FFA15A\", \"#19d3f3\", \"#FF6692\", \"#B6E880\", \"#FF97FF\", \"#FECB52\"], \"font\": {\"color\": \"#2a3f5f\"}, \"geo\": {\"bgcolor\": \"white\", \"lakecolor\": \"white\", \"landcolor\": \"#E5ECF6\", \"showlakes\": true, \"showland\": true, \"subunitcolor\": \"white\"}, \"hoverlabel\": {\"align\": \"left\"}, \"hovermode\": \"closest\", \"mapbox\": {\"style\": \"light\"}, \"paper_bgcolor\": \"white\", \"plot_bgcolor\": \"#E5ECF6\", \"polar\": {\"angularaxis\": {\"gridcolor\": \"white\", \"linecolor\": \"white\", \"ticks\": \"\"}, \"bgcolor\": \"#E5ECF6\", \"radialaxis\": {\"gridcolor\": \"white\", \"linecolor\": \"white\", \"ticks\": \"\"}}, \"scene\": {\"xaxis\": {\"backgroundcolor\": \"#E5ECF6\", \"gridcolor\": \"white\", \"gridwidth\": 2, \"linecolor\": \"white\", \"showbackground\": true, \"ticks\": \"\", \"zerolinecolor\": \"white\"}, \"yaxis\": {\"backgroundcolor\": \"#E5ECF6\", \"gridcolor\": \"white\", \"gridwidth\": 2, \"linecolor\": \"white\", \"showbackground\": true, \"ticks\": \"\", \"zerolinecolor\": \"white\"}, \"zaxis\": {\"backgroundcolor\": \"#E5ECF6\", \"gridcolor\": \"white\", \"gridwidth\": 2, \"linecolor\": \"white\", \"showbackground\": true, \"ticks\": \"\", \"zerolinecolor\": \"white\"}}, \"shapedefaults\": {\"line\": {\"color\": \"#2a3f5f\"}}, \"ternary\": {\"aaxis\": {\"gridcolor\": \"white\", \"linecolor\": \"white\", \"ticks\": \"\"}, \"baxis\": {\"gridcolor\": \"white\", \"linecolor\": \"white\", \"ticks\": \"\"}, \"bgcolor\": \"#E5ECF6\", \"caxis\": {\"gridcolor\": \"white\", \"linecolor\": \"white\", \"ticks\": \"\"}}, \"title\": {\"x\": 0.05}, \"xaxis\": {\"automargin\": true, \"gridcolor\": \"white\", \"linecolor\": \"white\", \"ticks\": \"\", \"title\": {\"standoff\": 15}, \"zerolinecolor\": \"white\", \"zerolinewidth\": 2}, \"yaxis\": {\"automargin\": true, \"gridcolor\": \"white\", \"linecolor\": \"white\", \"ticks\": \"\", \"title\": {\"standoff\": 15}, \"zerolinecolor\": \"white\", \"zerolinewidth\": 2}}}, \"title\": {\"text\": \"Hit v/s time->year 2021\"}, \"xaxis\": {\"anchor\": \"y\", \"domain\": [0.0, 1.0], \"title\": {\"text\": \"Time\"}}, \"yaxis\": {\"anchor\": \"x\", \"domain\": [0.0, 1.0], \"title\": {\"text\": \"Hits\"}}},                        {\"responsive\": true}                    ).then(function(){\n",
       "                            \n",
       "var gd = document.getElementById('83e46d57-cdae-4a2f-add6-c0b9e2add3d9');\n",
       "var x = new MutationObserver(function (mutations, observer) {{\n",
       "        var display = window.getComputedStyle(gd).display;\n",
       "        if (!display || display === 'none') {{\n",
       "            console.log([gd, 'removed!']);\n",
       "            Plotly.purge(gd);\n",
       "            observer.disconnect();\n",
       "        }}\n",
       "}});\n",
       "\n",
       "// Listen for the removal of the full notebook cells\n",
       "var notebookContainer = gd.closest('#notebook-container');\n",
       "if (notebookContainer) {{\n",
       "    x.observe(notebookContainer, {childList: true});\n",
       "}}\n",
       "\n",
       "// Listen for the clearing of the current output cell\n",
       "var outputEl = gd.closest('.output');\n",
       "if (outputEl) {{\n",
       "    x.observe(outputEl, {childList: true});\n",
       "}}\n",
       "\n",
       "                        })                };                });            </script>        </div>"
      ]
     },
     "metadata": {},
     "output_type": "display_data"
    }
   ],
   "source": [
    "plot_hit_vs_time(dt_series[dt_series.apply(lambda x: x.year == 2021)],\n",
    "                 \"Hit v/s time->year 2021\",\n",
    "                 \"Time\",\n",
    "                 \"Hits\")"
   ]
  },
  {
   "cell_type": "markdown",
   "metadata": {},
   "source": [
    "# 5.OS/Device/Browsers used"
   ]
  },
  {
   "cell_type": "code",
   "execution_count": 102,
   "metadata": {},
   "outputs": [],
   "source": [
    "def OS_devices_browsers(browser_series):\n",
    "    operators = ['Windows','Mac','Linux','Other']\n",
    "    res = {os:0 for os in operators}\n",
    "    for browser in browser_series:\n",
    "        count = 0\n",
    "        for i in operators[:-1]:\n",
    "            if i in browser:\n",
    "                res[i]+=1\n",
    "                count = 1\n",
    "                break\n",
    "        if count==0:\n",
    "            res['Other']+=1\n",
    "    return res"
   ]
  },
  {
   "cell_type": "code",
   "execution_count": 103,
   "metadata": {},
   "outputs": [],
   "source": [
    "OS =OS_devices_browsers(df.browser)"
   ]
  },
  {
   "cell_type": "code",
   "execution_count": 117,
   "metadata": {},
   "outputs": [
    {
     "data": {
      "image/png": "[encoded data removed]",
      "text/plain": [
       "<Figure size 720x432 with 1 Axes>"
      ]
     },
     "metadata": {
      "needs_background": "light"
     },
     "output_type": "display_data"
    }
   ],
   "source": [
    "import matplotlib.pyplot as plt \n",
    "import seaborn as sns\n",
    "plt.figure(figsize=(10,6))\n",
    "sns.barplot(list(OS.keys()),list(OS.values()),)\n",
    "plt.xticks(rotation=90)\n",
    "plt.title('OS used')\n",
    "plt.show()"
   ]
  },
  {
   "cell_type": "code",
   "execution_count": 114,
   "metadata": {},
   "outputs": [],
   "source": [
    "def browsers(browser_series):\n",
    "    brwsr = ['Firefox','Chrome','Opera','Other']\n",
    "    res_dict = {o:0 for o in brwsr}\n",
    "    for browser in browser_series:\n",
    "        counter = 0\n",
    "        for i in brwsr[:-1]:\n",
    "            if i in browser:\n",
    "                res_dict[i]+=1\n",
    "                counter = 1\n",
    "                break\n",
    "        if counter==0:\n",
    "            res_dict['Other']+=1\n",
    "    return res_dict"
   ]
  },
  {
   "cell_type": "code",
   "execution_count": 115,
   "metadata": {},
   "outputs": [
    {
     "data": {
      "image/png": "[encoded data removed]",
      "text/plain": [
       "<Figure size 720x432 with 1 Axes>"
      ]
     },
     "metadata": {
      "needs_background": "light"
     },
     "output_type": "display_data"
    }
   ],
   "source": [
    "plt.figure(figsize=(10,6))\n",
    "sns.barplot(list(BRWSR.keys()),list(BRWSR.values()),)\n",
    "plt.xticks(rotation=90)\n",
    "plt.title('Browser used')\n",
    "plt.show()"
   ]
  }
 ],
 "metadata": {
  "kernelspec": {
   "display_name": "Python 3",
   "language": "python",
   "name": "python3"
  },
  "language_info": {
   "codemirror_mode": {
    "name": "ipython",
    "version": 3
   },
   "file_extension": ".py",
   "mimetype": "text/x-python",
   "name": "python",
   "nbconvert_exporter": "python",
   "pygments_lexer": "ipython3",
   "version": "3.8.3"
  }
 },
 "nbformat": 4,
 "nbformat_minor": 4
}
