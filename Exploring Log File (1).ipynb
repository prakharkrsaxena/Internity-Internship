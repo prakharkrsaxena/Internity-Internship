{
 "cells": [
  {
   "cell_type": "markdown",
   "metadata": {},
   "source": [
    "## Assignments"
   ]
  },
  {
   "cell_type": "code",
   "execution_count": 61,
   "metadata": {},
   "outputs": [],
   "source": [
    "import pandas as pd\n",
    "import urllib.request\n",
    "import json\n",
    "import pycountry \n",
    "import matplotlib.pyplot as plt\n",
    "from bs4 import BeautifulSoup as bs\n",
    "import requests"
   ]
  },
  {
   "cell_type": "markdown",
   "metadata": {},
   "source": [
    "## 1.Function to fetch data from URL"
   ]
  },
  {
   "cell_type": "code",
   "execution_count": 62,
   "metadata": {},
   "outputs": [],
   "source": [
    "def html_to_df(url, clean_empty = False , attrs = {}, helper = None):\n",
    "    html_content = requests.get(url).text\n",
    "    soup = bs(html_content, \"lxml\")\n",
    "    table = str(soup.find(\"table\", attrs=attrs))\n",
    "    df = pd.read_html(str(table))[0]\n",
    "    \n",
    "    if clean_empty :\n",
    "        df = df.loc[:, ~df.isnull().all(axis = 0)]\n",
    "        \n",
    "    if helper:\n",
    "        df = helper(df)   \n",
    "    return df"
   ]
  },
  {
   "cell_type": "code",
   "execution_count": 63,
   "metadata": {},
   "outputs": [],
   "source": [
    "url = \"https://github.com/robert456456456456/Web_server_log_parser/blob/master/devops.log\""
   ]
  },
  {
   "cell_type": "markdown",
   "metadata": {},
   "source": [
    "## 2.Function to fetch data from URL"
   ]
  },
  {
   "cell_type": "code",
   "execution_count": null,
   "metadata": {},
   "outputs": [],
   "source": [
    "\n",
    "def helper(df):\n",
    "    df = pd.DataFrame(list(df[1].apply(lambda x: x.split())))\n",
    "    df[3] = df[3].apply(lambda x: x.replace('[','') )\n",
    "    df[4] = df[4].apply(lambda x: x.replace(']','') )\n",
    "    df[5] = df.apply(lambda x : ' '.join([x[5],x[6]]).replace('\"',''), axis = 1)\n",
    "    df.drop([1,2,7,6],inplace=True,axis = 1)\n",
    "    \n",
    "    return df"
   ]
  },
  {
   "cell_type": "markdown",
   "metadata": {},
   "source": [
    "## 3.Cleaning Data"
   ]
  },
  {
   "cell_type": "code",
   "execution_count": 44,
   "metadata": {},
   "outputs": [],
   "source": [
    "df = html_to_df(url,clean_empty=True, helper=helper)"
   ]
  },
  {
   "cell_type": "code",
   "execution_count": 45,
   "metadata": {},
   "outputs": [
    {
     "data": {
      "text/html": [
       "<div>\n",
       "<style scoped>\n",
       "    .dataframe tbody tr th:only-of-type {\n",
       "        vertical-align: middle;\n",
       "    }\n",
       "\n",
       "    .dataframe tbody tr th {\n",
       "        vertical-align: top;\n",
       "    }\n",
       "\n",
       "    .dataframe thead th {\n",
       "        text-align: right;\n",
       "    }\n",
       "</style>\n",
       "<table border=\"1\" class=\"dataframe\">\n",
       "  <thead>\n",
       "    <tr style=\"text-align: right;\">\n",
       "      <th></th>\n",
       "      <th>0</th>\n",
       "      <th>3</th>\n",
       "      <th>4</th>\n",
       "      <th>5</th>\n",
       "      <th>8</th>\n",
       "      <th>9</th>\n",
       "    </tr>\n",
       "  </thead>\n",
       "  <tbody>\n",
       "    <tr>\n",
       "      <th>0</th>\n",
       "      <td>64.242.88.10</td>\n",
       "      <td>07/Mar/2004:16:05:49</td>\n",
       "      <td>-0800</td>\n",
       "      <td>GET /twiki/bin/edit/Main/Double_bounce_sender?...</td>\n",
       "      <td>401</td>\n",
       "      <td>12846</td>\n",
       "    </tr>\n",
       "    <tr>\n",
       "      <th>1</th>\n",
       "      <td>64.242.88.10</td>\n",
       "      <td>07/Mar/2004:16:06:51</td>\n",
       "      <td>-0800</td>\n",
       "      <td>GET /twiki/bin/rdiff/TWiki/NewUserTemplate?rev...</td>\n",
       "      <td>200</td>\n",
       "      <td>4523</td>\n",
       "    </tr>\n",
       "    <tr>\n",
       "      <th>2</th>\n",
       "      <td>64.242.88.10</td>\n",
       "      <td>07/Mar/2004:16:10:02</td>\n",
       "      <td>-0800</td>\n",
       "      <td>GET /mailman/listinfo/hsdivision</td>\n",
       "      <td>200</td>\n",
       "      <td>6291</td>\n",
       "    </tr>\n",
       "    <tr>\n",
       "      <th>3</th>\n",
       "      <td>64.242.88.10</td>\n",
       "      <td>07/Mar/2004:16:11:58</td>\n",
       "      <td>-0800</td>\n",
       "      <td>GET /twiki/bin/view/TWiki/WikiSyntax</td>\n",
       "      <td>200</td>\n",
       "      <td>7352</td>\n",
       "    </tr>\n",
       "    <tr>\n",
       "      <th>4</th>\n",
       "      <td>64.242.88.10</td>\n",
       "      <td>07/Mar/2004:16:20:55</td>\n",
       "      <td>-0800</td>\n",
       "      <td>GET /twiki/bin/view/Main/DCCAndPostFix</td>\n",
       "      <td>200</td>\n",
       "      <td>5253</td>\n",
       "    </tr>\n",
       "  </tbody>\n",
       "</table>\n",
       "</div>"
      ],
      "text/plain": [
       "              0                     3      4  \\\n",
       "0  64.242.88.10  07/Mar/2004:16:05:49  -0800   \n",
       "1  64.242.88.10  07/Mar/2004:16:06:51  -0800   \n",
       "2  64.242.88.10  07/Mar/2004:16:10:02  -0800   \n",
       "3  64.242.88.10  07/Mar/2004:16:11:58  -0800   \n",
       "4  64.242.88.10  07/Mar/2004:16:20:55  -0800   \n",
       "\n",
       "                                                   5    8      9  \n",
       "0  GET /twiki/bin/edit/Main/Double_bounce_sender?...  401  12846  \n",
       "1  GET /twiki/bin/rdiff/TWiki/NewUserTemplate?rev...  200   4523  \n",
       "2                   GET /mailman/listinfo/hsdivision  200   6291  \n",
       "3               GET /twiki/bin/view/TWiki/WikiSyntax  200   7352  \n",
       "4             GET /twiki/bin/view/Main/DCCAndPostFix  200   5253  "
      ]
     },
     "execution_count": 45,
     "metadata": {},
     "output_type": "execute_result"
    }
   ],
   "source": [
    "df.head()"
   ]
  },
  {
   "cell_type": "code",
   "execution_count": 64,
   "metadata": {},
   "outputs": [
    {
     "data": {
      "text/html": [
       "<div>\n",
       "<style scoped>\n",
       "    .dataframe tbody tr th:only-of-type {\n",
       "        vertical-align: middle;\n",
       "    }\n",
       "\n",
       "    .dataframe tbody tr th {\n",
       "        vertical-align: top;\n",
       "    }\n",
       "\n",
       "    .dataframe thead th {\n",
       "        text-align: right;\n",
       "    }\n",
       "</style>\n",
       "<table border=\"1\" class=\"dataframe\">\n",
       "  <thead>\n",
       "    <tr style=\"text-align: right;\">\n",
       "      <th></th>\n",
       "      <th>User Address</th>\n",
       "      <th>Date/Time</th>\n",
       "      <th>GMT Offset</th>\n",
       "      <th>Action_Taken</th>\n",
       "      <th>Return</th>\n",
       "      <th>Size</th>\n",
       "    </tr>\n",
       "  </thead>\n",
       "  <tbody>\n",
       "    <tr>\n",
       "      <th>0</th>\n",
       "      <td>64.242.88.10</td>\n",
       "      <td>07/Mar/2004:16:05:49</td>\n",
       "      <td>-0800</td>\n",
       "      <td>GET /twiki/bin/edit/Main/Double_bounce_sender?...</td>\n",
       "      <td>401</td>\n",
       "      <td>12846</td>\n",
       "    </tr>\n",
       "    <tr>\n",
       "      <th>1</th>\n",
       "      <td>64.242.88.10</td>\n",
       "      <td>07/Mar/2004:16:06:51</td>\n",
       "      <td>-0800</td>\n",
       "      <td>GET /twiki/bin/rdiff/TWiki/NewUserTemplate?rev...</td>\n",
       "      <td>200</td>\n",
       "      <td>4523</td>\n",
       "    </tr>\n",
       "    <tr>\n",
       "      <th>2</th>\n",
       "      <td>64.242.88.10</td>\n",
       "      <td>07/Mar/2004:16:10:02</td>\n",
       "      <td>-0800</td>\n",
       "      <td>GET /mailman/listinfo/hsdivision</td>\n",
       "      <td>200</td>\n",
       "      <td>6291</td>\n",
       "    </tr>\n",
       "    <tr>\n",
       "      <th>3</th>\n",
       "      <td>64.242.88.10</td>\n",
       "      <td>07/Mar/2004:16:11:58</td>\n",
       "      <td>-0800</td>\n",
       "      <td>GET /twiki/bin/view/TWiki/WikiSyntax</td>\n",
       "      <td>200</td>\n",
       "      <td>7352</td>\n",
       "    </tr>\n",
       "    <tr>\n",
       "      <th>4</th>\n",
       "      <td>64.242.88.10</td>\n",
       "      <td>07/Mar/2004:16:20:55</td>\n",
       "      <td>-0800</td>\n",
       "      <td>GET /twiki/bin/view/Main/DCCAndPostFix</td>\n",
       "      <td>200</td>\n",
       "      <td>5253</td>\n",
       "    </tr>\n",
       "  </tbody>\n",
       "</table>\n",
       "</div>"
      ],
      "text/plain": [
       "   User Address             Date/Time GMT Offset  \\\n",
       "0  64.242.88.10  07/Mar/2004:16:05:49      -0800   \n",
       "1  64.242.88.10  07/Mar/2004:16:06:51      -0800   \n",
       "2  64.242.88.10  07/Mar/2004:16:10:02      -0800   \n",
       "3  64.242.88.10  07/Mar/2004:16:11:58      -0800   \n",
       "4  64.242.88.10  07/Mar/2004:16:20:55      -0800   \n",
       "\n",
       "                                        Action_Taken Return    Size  \n",
       "0  GET /twiki/bin/edit/Main/Double_bounce_sender?...     401  12846  \n",
       "1  GET /twiki/bin/rdiff/TWiki/NewUserTemplate?rev...     200   4523  \n",
       "2                   GET /mailman/listinfo/hsdivision     200   6291  \n",
       "3               GET /twiki/bin/view/TWiki/WikiSyntax     200   7352  \n",
       "4             GET /twiki/bin/view/Main/DCCAndPostFix     200   5253  "
      ]
     },
     "execution_count": 64,
     "metadata": {},
     "output_type": "execute_result"
    }
   ],
   "source": [
    "columns = ['User Address','Date/Time','GMT Offset', 'Action_Taken','Return ','Size']\n",
    "df.columns  = columns\n",
    "df.head()"
   ]
  },
  {
   "cell_type": "markdown",
   "metadata": {},
   "source": [
    "## 4.Top visiter IP/User  address:"
   ]
  },
  {
   "cell_type": "code",
   "execution_count": 48,
   "metadata": {},
   "outputs": [
    {
     "data": {
      "text/plain": [
       "64.242.88.10                       452\n",
       "10.0.0.153                         270\n",
       "h24-71-236-129.ca.shawcable.net     51\n",
       "cr020r01-3.sac.overture.com         44\n",
       "h24-70-69-74.ca.shawcable.net       32\n",
       "Name: User Address, dtype: int64"
      ]
     },
     "execution_count": 48,
     "metadata": {},
     "output_type": "execute_result"
    }
   ],
   "source": [
    "df['User Address'].value_counts().head(5)"
   ]
  },
  {
   "cell_type": "code",
   "execution_count": 82,
   "metadata": {},
   "outputs": [
    {
     "data": {
      "image/png": "[encoded data removed]",
      "text/plain": [
       "<Figure size 720x432 with 1 Axes>"
      ]
     },
     "metadata": {
      "needs_background": "light"
     },
     "output_type": "display_data"
    }
   ],
   "source": [
    "plt.figure(figsize = (10,6))\n",
    "\n",
    "plt.scatter(df['User Address'].value_counts().index[0:7],\n",
    "            df['User Address'].value_counts().values[0:7],\n",
    "            s =  df['User Address'].value_counts().values[0:7]*10,\n",
    "                  color='green', \n",
    "                 alpha=0.4)\n",
    "\n",
    "plt.xticks( df['User Address'].value_counts().index[0:7],rotation='vertical');"
   ]
  },
  {
   "cell_type": "markdown",
   "metadata": {},
   "source": [
    "## 5.Frequently visited pages"
   ]
  },
  {
   "cell_type": "code",
   "execution_count": 81,
   "metadata": {},
   "outputs": [
    {
     "data": {
      "image/png": "[encoded data removed]",
      "text/plain": [
       "<Figure size 1008x432 with 1 Axes>"
      ]
     },
     "metadata": {
      "needs_background": "light"
     },
     "output_type": "display_data"
    }
   ],
   "source": [
    "plt.figure(figsize = (14,6))\n",
    "\n",
    "plt.scatter(df['Action_Taken'].value_counts().index[0:7],\n",
    "            df['Action_Taken'].value_counts().values[0:7],\n",
    "            s =  df['Action_Taken'].value_counts().values[0:7]*50,\n",
    "                  color='red', \n",
    "                 alpha=0.5)\n",
    "\n",
    "plt.xticks( df['Action_Taken'].value_counts().index[0:7],rotation='vertical');"
   ]
  },
  {
   "cell_type": "markdown",
   "metadata": {},
   "source": [
    "## 6.Geolocation from Address "
   ]
  },
  {
   "cell_type": "code",
   "execution_count": 59,
   "metadata": {},
   "outputs": [],
   "source": [
    "def ip_loc(x):\n",
    "    url = \"https://geolocation-db.com/jsonp/\"+x\n",
    "    with urllib.request.urlopen(url) as url:\n",
    "        data = json.loads(url.read().decode().split(\"(\")[1].strip(\")\"))\n",
    "    return {\"country_code\":data[\"country_code\"], 'latitude':data['latitude'],'longitude':data['longitude']}"
   ]
  },
  {
   "cell_type": "code",
   "execution_count": 60,
   "metadata": {},
   "outputs": [
    {
     "data": {
      "application/vnd.jupyter.widget-view+json": {
       "model_id": "df4dc77ca22e4fb7b04596340328b74c",
       "version_major": 2,
       "version_minor": 0
      },
      "text/plain": [
       "HBox(children=(FloatProgress(value=0.0, max=172.0), HTML(value='')))"
      ]
     },
     "metadata": {},
     "output_type": "display_data"
    },
    {
     "name": "stdout",
     "output_type": "stream",
     "text": [
      "\n"
     ]
    }
   ],
   "source": [
    "from tqdm.notebook import tqdm\n",
    "ip_info = {}\n",
    "for i in tqdm(df['User Address'].unique()):\n",
    "    ip_info[i] = ip_loc(i)"
   ]
  },
  {
   "cell_type": "code",
   "execution_count": 65,
   "metadata": {},
   "outputs": [],
   "source": [
    "df[\"Country\"] = df[\"User Address\"].apply(lambda x: ip_info[x][\"country_code\"])\n",
    "df['latitude'] = df[\"User Address\"].apply(lambda x: ip_info[x]['latitude'])\n",
    "df['longitude'] = df[\"User Address\"].apply(lambda x: ip_info[x]['longitude'])"
   ]
  },
  {
   "cell_type": "code",
   "execution_count": 73,
   "metadata": {},
   "outputs": [],
   "source": [
    "def code(column):\n",
    "    CODE=[]\n",
    "    for country in column:\n",
    "        try:\n",
    "            code=pycountry.countries.get(alpha_2=country).alpha_3\n",
    "            CODE.append(code)\n",
    "        except:\n",
    "            CODE.append('None')\n",
    "    return CODE"
   ]
  },
  {
   "cell_type": "code",
   "execution_count": 74,
   "metadata": {},
   "outputs": [],
   "source": [
    "df['country_code'] = code(df['Country'])"
   ]
  },
  {
   "cell_type": "markdown",
   "metadata": {},
   "source": [
    "## 7.Plotting of no of users "
   ]
  },
  {
   "cell_type": "code",
   "execution_count": 77,
   "metadata": {},
   "outputs": [
    {
     "data": {
      "text/html": [
       "<div>\n",
       "<style scoped>\n",
       "    .dataframe tbody tr th:only-of-type {\n",
       "        vertical-align: middle;\n",
       "    }\n",
       "\n",
       "    .dataframe tbody tr th {\n",
       "        vertical-align: top;\n",
       "    }\n",
       "\n",
       "    .dataframe thead th {\n",
       "        text-align: right;\n",
       "    }\n",
       "</style>\n",
       "<table border=\"1\" class=\"dataframe\">\n",
       "  <thead>\n",
       "    <tr style=\"text-align: right;\">\n",
       "      <th></th>\n",
       "      <th>User Address</th>\n",
       "      <th>Date/Time</th>\n",
       "      <th>GMT Offset</th>\n",
       "      <th>Action_Taken</th>\n",
       "      <th>Return</th>\n",
       "      <th>Size</th>\n",
       "      <th>Country</th>\n",
       "      <th>latitude</th>\n",
       "      <th>longitude</th>\n",
       "      <th>country_code</th>\n",
       "    </tr>\n",
       "  </thead>\n",
       "  <tbody>\n",
       "    <tr>\n",
       "      <th>0</th>\n",
       "      <td>64.242.88.10</td>\n",
       "      <td>07/Mar/2004:16:05:49</td>\n",
       "      <td>-0800</td>\n",
       "      <td>GET /twiki/bin/edit/Main/Double_bounce_sender?...</td>\n",
       "      <td>401</td>\n",
       "      <td>12846</td>\n",
       "      <td>US</td>\n",
       "      <td>37.751</td>\n",
       "      <td>-97.822</td>\n",
       "      <td>None</td>\n",
       "    </tr>\n",
       "    <tr>\n",
       "      <th>1</th>\n",
       "      <td>64.242.88.10</td>\n",
       "      <td>07/Mar/2004:16:06:51</td>\n",
       "      <td>-0800</td>\n",
       "      <td>GET /twiki/bin/rdiff/TWiki/NewUserTemplate?rev...</td>\n",
       "      <td>200</td>\n",
       "      <td>4523</td>\n",
       "      <td>US</td>\n",
       "      <td>37.751</td>\n",
       "      <td>-97.822</td>\n",
       "      <td>None</td>\n",
       "    </tr>\n",
       "    <tr>\n",
       "      <th>2</th>\n",
       "      <td>64.242.88.10</td>\n",
       "      <td>07/Mar/2004:16:10:02</td>\n",
       "      <td>-0800</td>\n",
       "      <td>GET /mailman/listinfo/hsdivision</td>\n",
       "      <td>200</td>\n",
       "      <td>6291</td>\n",
       "      <td>US</td>\n",
       "      <td>37.751</td>\n",
       "      <td>-97.822</td>\n",
       "      <td>None</td>\n",
       "    </tr>\n",
       "    <tr>\n",
       "      <th>3</th>\n",
       "      <td>64.242.88.10</td>\n",
       "      <td>07/Mar/2004:16:11:58</td>\n",
       "      <td>-0800</td>\n",
       "      <td>GET /twiki/bin/view/TWiki/WikiSyntax</td>\n",
       "      <td>200</td>\n",
       "      <td>7352</td>\n",
       "      <td>US</td>\n",
       "      <td>37.751</td>\n",
       "      <td>-97.822</td>\n",
       "      <td>None</td>\n",
       "    </tr>\n",
       "    <tr>\n",
       "      <th>4</th>\n",
       "      <td>64.242.88.10</td>\n",
       "      <td>07/Mar/2004:16:20:55</td>\n",
       "      <td>-0800</td>\n",
       "      <td>GET /twiki/bin/view/Main/DCCAndPostFix</td>\n",
       "      <td>200</td>\n",
       "      <td>5253</td>\n",
       "      <td>US</td>\n",
       "      <td>37.751</td>\n",
       "      <td>-97.822</td>\n",
       "      <td>None</td>\n",
       "    </tr>\n",
       "  </tbody>\n",
       "</table>\n",
       "</div>"
      ],
      "text/plain": [
       "   User Address             Date/Time GMT Offset  \\\n",
       "0  64.242.88.10  07/Mar/2004:16:05:49      -0800   \n",
       "1  64.242.88.10  07/Mar/2004:16:06:51      -0800   \n",
       "2  64.242.88.10  07/Mar/2004:16:10:02      -0800   \n",
       "3  64.242.88.10  07/Mar/2004:16:11:58      -0800   \n",
       "4  64.242.88.10  07/Mar/2004:16:20:55      -0800   \n",
       "\n",
       "                                        Action_Taken Return    Size Country  \\\n",
       "0  GET /twiki/bin/edit/Main/Double_bounce_sender?...     401  12846      US   \n",
       "1  GET /twiki/bin/rdiff/TWiki/NewUserTemplate?rev...     200   4523      US   \n",
       "2                   GET /mailman/listinfo/hsdivision     200   6291      US   \n",
       "3               GET /twiki/bin/view/TWiki/WikiSyntax     200   7352      US   \n",
       "4             GET /twiki/bin/view/Main/DCCAndPostFix     200   5253      US   \n",
       "\n",
       "  latitude longitude country_code  \n",
       "0   37.751   -97.822         None  \n",
       "1   37.751   -97.822         None  \n",
       "2   37.751   -97.822         None  \n",
       "3   37.751   -97.822         None  \n",
       "4   37.751   -97.822         None  "
      ]
     },
     "execution_count": 77,
     "metadata": {},
     "output_type": "execute_result"
    }
   ],
   "source": [
    "df.head()"
   ]
  },
  {
   "cell_type": "code",
   "execution_count": 80,
   "metadata": {},
   "outputs": [
    {
     "data": {
      "image/png": "[encoded data removed]",
      "text/plain": [
       "<Figure size 1008x432 with 1 Axes>"
      ]
     },
     "metadata": {
      "needs_background": "light"
     },
     "output_type": "display_data"
    }
   ],
   "source": [
    "plt.figure(figsize = (14,6))\n",
    "\n",
    "plt.scatter(df['User Address'].value_counts().index[0:7],\n",
    "            df['User Address'].value_counts().values[0:7],\n",
    "            s =  df['User Address'].value_counts().values[0:7]*50,\n",
    "                  color='red', \n",
    "                 alpha=0.5)\n",
    "\n",
    "plt.xticks( df['User Address'].value_counts().index[0:7],rotation='vertical');"
   ]
  }
 ],
 "metadata": {
  "kernelspec": {
   "display_name": "Python 3",
   "language": "python",
   "name": "python3"
  },
  "language_info": {
   "codemirror_mode": {
    "name": "ipython",
    "version": 3
   },
   "file_extension": ".py",
   "mimetype": "text/x-python",
   "name": "python",
   "nbconvert_exporter": "python",
   "pygments_lexer": "ipython3",
   "version": "3.8.3"
  }
 },
 "nbformat": 4,
 "nbformat_minor": 4
}
